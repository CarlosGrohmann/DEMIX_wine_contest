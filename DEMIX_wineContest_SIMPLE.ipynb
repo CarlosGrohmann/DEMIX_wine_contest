{
 "cells": [
  {
   "cell_type": "markdown",
   "id": "legal-equation",
   "metadata": {
    "id": "legal-equation"
   },
   "source": [
    "# SIMPLE version of the DEMIX notebook\n",
    "Carlos H Grohmann\n",
    "version 2022-08-11"
   ]
  },
  {
   "cell_type": "markdown",
   "id": "6vJSWrO9BGQt",
   "metadata": {
    "id": "6vJSWrO9BGQt"
   },
   "source": [
    "\n",
    "# Instructions\n",
    "\n",
    "This is a simple version of the notebook where we only need to run 3 cells (to run, click in the cell and press shift-enter)\n",
    "\n",
    "The first cell will download auxiliary data, functions and CSV files from   \n",
    "GitHub, import python libraries, install the qgrid module and load a selected   CSV and create the ranked dataframe.\n",
    "\n",
    "### This cell produces a lot of text output. It's safe to clear the output after it's finished \n",
    "\n"
   ]
  },
  {
   "cell_type": "code",
   "execution_count": 1,
   "id": "wG0UBHvYKPeC",
   "metadata": {
    "colab": {
     "base_uri": "https://localhost:8080/"
    },
    "id": "wG0UBHvYKPeC",
    "outputId": "bfc3ee20-023a-4746-baf2-638f37358745"
   },
   "outputs": [],
   "source": [
    "# # get external files - Friedman tables, custom DEMIX functions and CSV files used for the analysis\n",
    "# !wget https://github.com/CarlosGrohmann/DEMIX_wine_contest/raw/main/etc_old/Friedmans_tables.zip\n",
    "# !unzip Friedmans_tables.zip\n",
    "\n",
    "# !wget https://github.com/CarlosGrohmann/DEMIX_wine_contest/raw/main/demix_wine_functions.py \n",
    "\n",
    "# !wget https://github.com/CarlosGrohmann/DEMIX_wine_contest/raw/main/csv_files/demix_20july.csv\n",
    "\n",
    "# !wget https://github.com/CarlosGrohmann/DEMIX_wine_contest/raw/main/csv_files/hillshade_criterion.csv\n",
    "\n",
    "# !wget https://github.com/CarlosGrohmann/DEMIX_wine_contest/raw/main/csv_files/toy_example.csv\n",
    "\n",
    "# # install qgrid, a version that works with Colab\n",
    "# !pip install git+https://github.com/lukewys/qgrid.git\n",
    "\n",
    "# imports\n",
    "import sys,os\n",
    "import pandas as pd\n",
    "import numpy as np\n",
    "from scipy.special import ndtri\n",
    "import matplotlib.pyplot as plt\n",
    "\n",
    "sys.path.append('.')\n",
    "import demix_wine_functions as dw\n",
    "from IPython.display import display, HTML\n",
    "\n",
    "# # from google.colab import files\n",
    "# from google.colab import output\n",
    "# output.enable_custom_widget_manager()\n",
    "\n",
    "import qgrid\n"
   ]
  },
  {
   "cell_type": "markdown",
   "id": "7mlqCDNRGSPG",
   "metadata": {
    "id": "7mlqCDNRGSPG"
   },
   "source": [
    "# 2 - Select CSV file, display the dataframe using qgrid and define filters\n",
    "\n",
    "## In this cell we can define which CSV file will be opened, by commenting/uncommenting the line with the file name\n",
    "\n",
    "### You can use the filter controls next to each column name to further select which data you want to be considered  \n",
    "\n",
    "### Remember:\n",
    "- ### Set REF_TYPE to DTM **or** DSM \n",
    "- ### **DO** filter by LAND_TYPE\n",
    "- ### Do **NOT** filter the DEM values\n"
   ]
  },
  {
   "cell_type": "code",
   "execution_count": 5,
   "id": "dNriydGAv8Hm",
   "metadata": {
    "colab": {
     "base_uri": "https://localhost:8080/",
     "height": 503,
     "referenced_widgets": [
      "c3eeab1e87ac42d38ae8c8c7187d9e94",
      "a506a2e386a64f19bfede3ad1aea00c1"
     ]
    },
    "id": "dNriydGAv8Hm",
    "outputId": "c6390d91-a761-4789-a8a1-f545e9a8f855"
   },
   "outputs": [
    {
     "data": {
      "application/vnd.jupyter.widget-view+json": {
       "model_id": "d46679338089482ab2e16ca8bab0d238",
       "version_major": 2,
       "version_minor": 0
      },
      "text/plain": [
       "QgridWidget(grid_options={'fullWidthRows': True, 'syncColumnCellResize': True, 'forceFitColumns': True, 'defau…"
      ]
     },
     "metadata": {},
     "output_type": "display_data"
    }
   ],
   "source": [
    "# set data directories\n",
    "root_dir = '.'\n",
    "tables_dir = f'{root_dir}/Friedmans_tables'\n",
    "\n",
    "############################################################\n",
    "########### SELECT CSV FILE HERE ###########################\n",
    "# comment / uncomment the \n",
    "csv_file = 'demix_wine_contest_matrix_18aug2022.csv'\n",
    "# csv_file = 'demix_wine_contest_matrix_hillshade_criterion.csv'\n",
    "# csv_file = 'demix_wine_contest_matrix_simple_example.csv'\n",
    "############################################################\n",
    "\n",
    "selected_csv_file = [f'{root_dir}/csv_files/{csv_file}']\n",
    "\n",
    "# make df with one criterion per row\n",
    "df_criteria = dw.make_criteria_df(selected_csv_file)\n",
    "\n",
    "# we use this to remove the '-9999' values that come from voids (nodata)\n",
    "df_criteria.replace({-9999: np.nan}, inplace=True)\n",
    "\n",
    "# romove some columns which are not important for the wine contest\n",
    "cols_to_drop = ['REC_ID'] # only in file demix_20july.csv\n",
    "try:\n",
    "  df_criteria = df_criteria.drop(cols_to_drop, axis=1)\n",
    "except:\n",
    "  pass\n",
    "\n",
    "# display dataframe with qgrid\n",
    "grid = qgrid.QGridWidget(df=df_criteria)\n",
    "display(grid)\n"
   ]
  },
  {
   "cell_type": "markdown",
   "id": "CR548MiaJgpd",
   "metadata": {
    "id": "CR548MiaJgpd"
   },
   "source": [
    "# 3 - Run the statistical analysis and check results\n",
    "\n",
    "### This cell will use the filtered table from the previous cell\n",
    "\n",
    "### Here you can also select which DEMs will be ranked"
   ]
  },
  {
   "cell_type": "code",
   "execution_count": 10,
   "id": "moving-individual",
   "metadata": {
    "colab": {
     "base_uri": "https://localhost:8080/",
     "height": 559
    },
    "id": "moving-individual",
    "outputId": "34da395f-434b-41dd-bc8b-ed97376c7627"
   },
   "outputs": [
    {
     "name": "stdout",
     "output_type": "stream",
     "text": [
      "No filters applied\n",
      "\n",
      "Ranking with user-defined tolerances\n",
      "\n",
      "N = 16 (number of \"opinions\")\n",
      "k = 6 (number of DEMs)\n",
      "CF = 1176.0\n",
      "chi_r = 32.321\n",
      "For k=6, CL=0.05, and N=16, the critical value to compare is chi_crit=10.864\n",
      "And since chi_r (32.321) is greater than chi_crit (10.864)...\n",
      "Yay!! We can reject the null hipothesis and go to the Post-Hoc analysis!!\n",
      "\n",
      "\n",
      "Ranking Table\n"
     ]
    },
    {
     "data": {
      "text/html": [
       "<table border=\"1\" class=\"dataframe\">\n",
       "  <thead>\n",
       "    <tr style=\"text-align: right;\">\n",
       "      <th></th>\n",
       "      <th>Sum of ranks</th>\n",
       "      <th>Sum of ranks divided \n",
       " by number of opinions</th>\n",
       "      <th>Not statistically \n",
       " different from</th>\n",
       "    </tr>\n",
       "  </thead>\n",
       "  <tbody>\n",
       "    <tr>\n",
       "      <th>ALOS</th>\n",
       "      <td>32.0</td>\n",
       "      <td>2.000</td>\n",
       "      <td>COP</td>\n",
       "    </tr>\n",
       "    <tr>\n",
       "      <th>COP</th>\n",
       "      <td>39.0</td>\n",
       "      <td>2.438</td>\n",
       "      <td>ALOS,FABDEM,NASA</td>\n",
       "    </tr>\n",
       "    <tr>\n",
       "      <th>FABDEM</th>\n",
       "      <td>53.0</td>\n",
       "      <td>3.312</td>\n",
       "      <td>COP,NASA,SRTM</td>\n",
       "    </tr>\n",
       "    <tr>\n",
       "      <th>NASA</th>\n",
       "      <td>58.0</td>\n",
       "      <td>3.625</td>\n",
       "      <td>COP,FABDEM,SRTM</td>\n",
       "    </tr>\n",
       "    <tr>\n",
       "      <th>SRTM</th>\n",
       "      <td>72.0</td>\n",
       "      <td>4.500</td>\n",
       "      <td>ASTER,FABDEM,NASA</td>\n",
       "    </tr>\n",
       "    <tr>\n",
       "      <th>ASTER</th>\n",
       "      <td>82.0</td>\n",
       "      <td>5.125</td>\n",
       "      <td>SRTM</td>\n",
       "    </tr>\n",
       "  </tbody>\n",
       "</table>"
      ],
      "text/plain": [
       "<IPython.core.display.HTML object>"
      ]
     },
     "metadata": {},
     "output_type": "display_data"
    },
    {
     "name": "stdout",
     "output_type": "stream",
     "text": [
      "\n",
      "\n",
      "Table of Significant Statistical Differences\n"
     ]
    },
    {
     "data": {
      "text/html": [
       "<style type=\"text/css\">\n",
       "#T_f769c_row0_col1, #T_f769c_row1_col1, #T_f769c_row1_col2, #T_f769c_row2_col1, #T_f769c_row2_col2, #T_f769c_row2_col3, #T_f769c_row3_col1, #T_f769c_row3_col2, #T_f769c_row3_col3, #T_f769c_row3_col4, #T_f769c_row4_col1, #T_f769c_row4_col2, #T_f769c_row4_col3, #T_f769c_row4_col4, #T_f769c_row4_col5, #T_f769c_row5_col1, #T_f769c_row5_col2, #T_f769c_row5_col3, #T_f769c_row5_col4, #T_f769c_row5_col5, #T_f769c_row5_col6 {\n",
       "  opacity: 0%;\n",
       "}\n",
       "</style>\n",
       "<table id=\"T_f769c_\">\n",
       "  <thead>\n",
       "    <tr>\n",
       "      <th class=\"blank level0\" >&nbsp;</th>\n",
       "      <th class=\"col_heading level0 col0\" >DEM</th>\n",
       "      <th class=\"col_heading level0 col1\" >ALOS</th>\n",
       "      <th class=\"col_heading level0 col2\" >ASTER</th>\n",
       "      <th class=\"col_heading level0 col3\" >COP</th>\n",
       "      <th class=\"col_heading level0 col4\" >FABDEM</th>\n",
       "      <th class=\"col_heading level0 col5\" >NASA</th>\n",
       "      <th class=\"col_heading level0 col6\" >SRTM</th>\n",
       "    </tr>\n",
       "  </thead>\n",
       "  <tbody>\n",
       "    <tr>\n",
       "      <th id=\"T_f769c_level0_row0\" class=\"row_heading level0 row0\" >0</th>\n",
       "      <td id=\"T_f769c_row0_col0\" class=\"data row0 col0\" >ALOS</td>\n",
       "      <td id=\"T_f769c_row0_col1\" class=\"data row0 col1\" >0</td>\n",
       "      <td id=\"T_f769c_row0_col2\" class=\"data row0 col2\" >Y</td>\n",
       "      <td id=\"T_f769c_row0_col3\" class=\"data row0 col3\" >N</td>\n",
       "      <td id=\"T_f769c_row0_col4\" class=\"data row0 col4\" >Y</td>\n",
       "      <td id=\"T_f769c_row0_col5\" class=\"data row0 col5\" >Y</td>\n",
       "      <td id=\"T_f769c_row0_col6\" class=\"data row0 col6\" >Y</td>\n",
       "    </tr>\n",
       "    <tr>\n",
       "      <th id=\"T_f769c_level0_row1\" class=\"row_heading level0 row1\" >1</th>\n",
       "      <td id=\"T_f769c_row1_col0\" class=\"data row1 col0\" >ASTER</td>\n",
       "      <td id=\"T_f769c_row1_col1\" class=\"data row1 col1\" >0</td>\n",
       "      <td id=\"T_f769c_row1_col2\" class=\"data row1 col2\" >0</td>\n",
       "      <td id=\"T_f769c_row1_col3\" class=\"data row1 col3\" >Y</td>\n",
       "      <td id=\"T_f769c_row1_col4\" class=\"data row1 col4\" >Y</td>\n",
       "      <td id=\"T_f769c_row1_col5\" class=\"data row1 col5\" >Y</td>\n",
       "      <td id=\"T_f769c_row1_col6\" class=\"data row1 col6\" >N</td>\n",
       "    </tr>\n",
       "    <tr>\n",
       "      <th id=\"T_f769c_level0_row2\" class=\"row_heading level0 row2\" >2</th>\n",
       "      <td id=\"T_f769c_row2_col0\" class=\"data row2 col0\" >COP</td>\n",
       "      <td id=\"T_f769c_row2_col1\" class=\"data row2 col1\" >0</td>\n",
       "      <td id=\"T_f769c_row2_col2\" class=\"data row2 col2\" >0</td>\n",
       "      <td id=\"T_f769c_row2_col3\" class=\"data row2 col3\" >0</td>\n",
       "      <td id=\"T_f769c_row2_col4\" class=\"data row2 col4\" >N</td>\n",
       "      <td id=\"T_f769c_row2_col5\" class=\"data row2 col5\" >N</td>\n",
       "      <td id=\"T_f769c_row2_col6\" class=\"data row2 col6\" >Y</td>\n",
       "    </tr>\n",
       "    <tr>\n",
       "      <th id=\"T_f769c_level0_row3\" class=\"row_heading level0 row3\" >3</th>\n",
       "      <td id=\"T_f769c_row3_col0\" class=\"data row3 col0\" >FABDEM</td>\n",
       "      <td id=\"T_f769c_row3_col1\" class=\"data row3 col1\" >0</td>\n",
       "      <td id=\"T_f769c_row3_col2\" class=\"data row3 col2\" >0</td>\n",
       "      <td id=\"T_f769c_row3_col3\" class=\"data row3 col3\" >0</td>\n",
       "      <td id=\"T_f769c_row3_col4\" class=\"data row3 col4\" >0</td>\n",
       "      <td id=\"T_f769c_row3_col5\" class=\"data row3 col5\" >N</td>\n",
       "      <td id=\"T_f769c_row3_col6\" class=\"data row3 col6\" >N</td>\n",
       "    </tr>\n",
       "    <tr>\n",
       "      <th id=\"T_f769c_level0_row4\" class=\"row_heading level0 row4\" >4</th>\n",
       "      <td id=\"T_f769c_row4_col0\" class=\"data row4 col0\" >NASA</td>\n",
       "      <td id=\"T_f769c_row4_col1\" class=\"data row4 col1\" >0</td>\n",
       "      <td id=\"T_f769c_row4_col2\" class=\"data row4 col2\" >0</td>\n",
       "      <td id=\"T_f769c_row4_col3\" class=\"data row4 col3\" >0</td>\n",
       "      <td id=\"T_f769c_row4_col4\" class=\"data row4 col4\" >0</td>\n",
       "      <td id=\"T_f769c_row4_col5\" class=\"data row4 col5\" >0</td>\n",
       "      <td id=\"T_f769c_row4_col6\" class=\"data row4 col6\" >N</td>\n",
       "    </tr>\n",
       "    <tr>\n",
       "      <th id=\"T_f769c_level0_row5\" class=\"row_heading level0 row5\" >5</th>\n",
       "      <td id=\"T_f769c_row5_col0\" class=\"data row5 col0\" >SRTM</td>\n",
       "      <td id=\"T_f769c_row5_col1\" class=\"data row5 col1\" >0</td>\n",
       "      <td id=\"T_f769c_row5_col2\" class=\"data row5 col2\" >0</td>\n",
       "      <td id=\"T_f769c_row5_col3\" class=\"data row5 col3\" >0</td>\n",
       "      <td id=\"T_f769c_row5_col4\" class=\"data row5 col4\" >0</td>\n",
       "      <td id=\"T_f769c_row5_col5\" class=\"data row5 col5\" >0</td>\n",
       "      <td id=\"T_f769c_row5_col6\" class=\"data row5 col6\" >0</td>\n",
       "    </tr>\n",
       "  </tbody>\n",
       "</table>\n"
      ],
      "text/plain": [
       "<IPython.core.display.HTML object>"
      ]
     },
     "metadata": {},
     "output_type": "display_data"
    }
   ],
   "source": [
    "# show filters\n",
    "dw.show_filters(grid)\n",
    "\n",
    "# get changed (or not) df from qgrid\n",
    "df_for_ranking = grid.get_changed_df()\n",
    "\n",
    "# define tolerances for each criterion\n",
    "tolerance_dict = {\n",
    "'ELD_AVG':0.5,\n",
    "'ELD_STD':0.5,\n",
    "'ELD_RMSE':0.5,\n",
    "'ELD_MAE':0.5,\n",
    "'ELD_LE90':0.5,\n",
    "'RUFD_AVG':0.2,\n",
    "'RUFD_STD':0.2,\n",
    "'RUFD_RMSE':0.2,\n",
    "'RUFD_MAE':0.2,\n",
    "'RUFD_LE90':0.2,\n",
    "'SMD_AVG':0.5,\n",
    "'SMD_STD':0.5,\n",
    "'SMD_RMSE':0.5,\n",
    "'SMD_MAE':0.5,\n",
    "'SMD_LE90':0.5,\n",
    "'Hillshade':0,\n",
    "}\n",
    "\n",
    "\n",
    "# if you don't want to set any tolerance (i.e., set all to Zero),\n",
    "# uncomment the \"tolerance_dict = None\" line and it will overwrite the values\n",
    "# tolerance_dict = None\n",
    "\n",
    "\n",
    "# make a list of dems being compared, will be needed later\n",
    "crit_idx  = list(df_criteria.columns).index('CRITERION')\n",
    "dem_list  = list(df_criteria.columns)[crit_idx+1:]\n",
    "dem_list.sort() # sort DEMs alphabetically\n",
    "\n",
    "#################################################################\n",
    "############### SET DEMs TO BE RANKED HERE ######################\n",
    "# If you want to change which DEMs will be ranked , do it by\n",
    "# changing the 'dem_list' variable, removing one or more DEMs\n",
    "\n",
    "# uncomment the line below and make changes if you want\n",
    "# dem_list = ['ALOS', 'ASTER', 'COP', 'FABDEM', 'NASA', 'SRTM']\n",
    "#################################################################\n",
    "\n",
    "# calculate ranks for metrics in dataframe\n",
    "df_ranks = dw.make_rank_df(df_for_ranking,dem_list,tolerance_dict,method='average')\n",
    "\n",
    "#friedman stats\n",
    "CL = 0.05 # confidence level\n",
    "dw.friedman_stats(df_ranks,dem_list,tables_dir,cl=CL)\n",
    "print()\n",
    "print()\n",
    "\n",
    "# DEMs ranked and Bonferroni-Dunn test\n",
    "df_display,df_yn,tie_dict = tables_dems_ranked_bonferroni_dunn(df_ranks,dem_list,alpha=0.95)\n",
    "\n",
    "print('Ranking Table')\n",
    "display(HTML(df_display.to_html()))#.replace('\\n','<br>'))) # notebook=True\n",
    "print()\n",
    "print()\n",
    "\n",
    "# apply Bonferroni-Dunn test\n",
    "# df_yn.style.applymap(lambda v: 'opacity: 0%;' if (v==0) else None)\n",
    "print('Table of Significant Statistical Differences')\n",
    "display(HTML(df_yn.style.applymap(lambda v: 'opacity: 0%;' if (v==0) else None).to_html()))\n"
   ]
  },
  {
   "cell_type": "code",
   "execution_count": null,
   "id": "5e3b5eea",
   "metadata": {},
   "outputs": [],
   "source": []
  },
  {
   "cell_type": "code",
   "execution_count": null,
   "id": "577064b1",
   "metadata": {},
   "outputs": [],
   "source": []
  }
 ],
 "metadata": {
  "colab": {
   "collapsed_sections": [],
   "name": "DEMIX_wineContest_SIMPLE.ipynb",
   "provenance": []
  },
  "kernelspec": {
   "display_name": "Python 3",
   "language": "python",
   "name": "python3"
  },
  "language_info": {
   "codemirror_mode": {
    "name": "ipython",
    "version": 3
   },
   "file_extension": ".py",
   "mimetype": "text/x-python",
   "name": "python",
   "nbconvert_exporter": "python",
   "pygments_lexer": "ipython3",
   "version": "3.8.10"
  },
  "widgets": {
   "application/vnd.jupyter.widget-state+json": {
    "a506a2e386a64f19bfede3ad1aea00c1": {
     "model_module": "@jupyter-widgets/base",
     "model_module_version": "1.2.0",
     "model_name": "LayoutModel",
     "state": {
      "_model_module": "@jupyter-widgets/base",
      "_model_module_version": "1.2.0",
      "_model_name": "LayoutModel",
      "_view_count": null,
      "_view_module": "@jupyter-widgets/base",
      "_view_module_version": "1.2.0",
      "_view_name": "LayoutView",
      "align_content": null,
      "align_items": null,
      "align_self": null,
      "border": null,
      "bottom": null,
      "display": null,
      "flex": null,
      "flex_flow": null,
      "grid_area": null,
      "grid_auto_columns": null,
      "grid_auto_flow": null,
      "grid_auto_rows": null,
      "grid_column": null,
      "grid_gap": null,
      "grid_row": null,
      "grid_template_areas": null,
      "grid_template_columns": null,
      "grid_template_rows": null,
      "height": null,
      "justify_content": null,
      "justify_items": null,
      "left": null,
      "margin": null,
      "max_height": null,
      "max_width": null,
      "min_height": null,
      "min_width": null,
      "object_fit": null,
      "object_position": null,
      "order": null,
      "overflow": null,
      "overflow_x": null,
      "overflow_y": null,
      "padding": null,
      "right": null,
      "top": null,
      "visibility": null,
      "width": null
     }
    },
    "c3eeab1e87ac42d38ae8c8c7187d9e94": {
     "model_module": "qgrid",
     "model_module_version": "1.1.1",
     "model_name": "QgridModel",
     "state": {
      "_columns": {
       "ALOS": {
        "cssClass": "number",
        "field": "ALOS",
        "id": "ALOS",
        "name": "ALOS",
        "position": 19,
        "type": "number"
       },
       "AREA": {
        "cssClass": "string",
        "field": "AREA",
        "id": "AREA",
        "name": "AREA",
        "position": 2,
        "type": "string"
       },
       "ASTER": {
        "cssClass": "number",
        "field": "ASTER",
        "id": "ASTER",
        "name": "ASTER",
        "position": 22,
        "type": "number"
       },
       "AVG_ELEV": {
        "cssClass": "number",
        "field": "AVG_ELEV",
        "id": "AVG_ELEV",
        "name": "AVG_ELEV",
        "position": 6,
        "type": "number"
       },
       "AVG_ROUGH": {
        "cssClass": "number",
        "field": "AVG_ROUGH",
        "id": "AVG_ROUGH",
        "name": "AVG_ROUGH",
        "position": 8,
        "type": "number"
       },
       "AVG_SLOPE": {
        "cssClass": "number",
        "field": "AVG_SLOPE",
        "id": "AVG_SLOPE",
        "name": "AVG_SLOPE",
        "position": 7,
        "type": "number"
       },
       "COP": {
        "cssClass": "number",
        "field": "COP",
        "id": "COP",
        "name": "COP",
        "position": 18,
        "type": "number"
       },
       "CRITERION": {
        "cssClass": "string",
        "field": "CRITERION",
        "id": "CRITERION",
        "name": "CRITERION",
        "position": 16,
        "type": "string"
       },
       "DEMIX_TILE": {
        "cssClass": "string",
        "field": "DEMIX_TILE",
        "id": "DEMIX_TILE",
        "name": "DEMIX_TILE",
        "position": 3,
        "type": "string"
       },
       "DEM_LOW_SC": {
        "cssClass": "string",
        "field": "DEM_LOW_SC",
        "id": "DEM_LOW_SC",
        "name": "DEM_LOW_SC",
        "position": 15,
        "type": "string"
       },
       "FABDEM": {
        "cssClass": "number",
        "field": "FABDEM",
        "id": "FABDEM",
        "name": "FABDEM",
        "position": 17,
        "type": "number"
       },
       "FOREST_PC": {
        "cssClass": "number",
        "field": "FOREST_PC",
        "id": "FOREST_PC",
        "name": "FOREST_PC",
        "position": 10,
        "type": "number"
       },
       "LANDTYP_PC": {
        "cssClass": "number",
        "field": "LANDTYP_PC",
        "id": "LANDTYP_PC",
        "name": "LANDTYP_PC",
        "position": 14,
        "type": "number"
       },
       "LAND_TYPE": {
        "cssClass": "string",
        "field": "LAND_TYPE",
        "id": "LAND_TYPE",
        "name": "LAND_TYPE",
        "position": 13,
        "type": "string"
       },
       "LAT": {
        "cssClass": "number",
        "field": "LAT",
        "id": "LAT",
        "name": "LAT",
        "position": 4,
        "type": "number"
       },
       "LONG": {
        "cssClass": "number",
        "field": "LONG",
        "id": "LONG",
        "name": "LONG",
        "position": 5,
        "type": "number"
       },
       "NASA": {
        "cssClass": "number",
        "field": "NASA",
        "id": "NASA",
        "name": "NASA",
        "position": 20,
        "type": "number"
       },
       "REF_TYPE": {
        "cssClass": "string",
        "field": "REF_TYPE",
        "id": "REF_TYPE",
        "name": "REF_TYPE",
        "position": 12,
        "type": "string"
       },
       "RELIEF": {
        "cssClass": "number",
        "field": "RELIEF",
        "id": "RELIEF",
        "name": "RELIEF",
        "position": 9,
        "type": "number"
       },
       "SRTM": {
        "cssClass": "number",
        "field": "SRTM",
        "id": "SRTM",
        "name": "SRTM",
        "position": 21,
        "type": "number"
       },
       "URBAN_PC": {
        "cssClass": "number",
        "field": "URBAN_PC",
        "id": "URBAN_PC",
        "name": "URBAN_PC",
        "position": 11,
        "type": "number"
       },
       "index": {
        "cssClass": "integer",
        "field": "index",
        "first_index": true,
        "id": "index",
        "index_display_text": "",
        "is_index": true,
        "level": 0,
        "name": "index",
        "position": 0,
        "type": "integer"
       },
       "qgrid_unfiltered_index": {
        "cssClass": "integer",
        "field": "qgrid_unfiltered_index",
        "id": "qgrid_unfiltered_index",
        "name": "qgrid_unfiltered_index",
        "position": 1,
        "type": "integer"
       }
      },
      "_df_json": "{\"schema\":{\"fields\":[{\"name\":\"index\",\"type\":\"integer\"},{\"name\":\"qgrid_unfiltered_index\",\"type\":\"integer\"},{\"name\":\"AREA\",\"type\":\"string\"},{\"name\":\"DEMIX_TILE\",\"type\":\"string\"},{\"name\":\"LAT\",\"type\":\"number\"},{\"name\":\"LONG\",\"type\":\"number\"},{\"name\":\"AVG_ELEV\",\"type\":\"number\"},{\"name\":\"AVG_SLOPE\",\"type\":\"number\"},{\"name\":\"AVG_ROUGH\",\"type\":\"number\"},{\"name\":\"RELIEF\",\"type\":\"number\"},{\"name\":\"FOREST_PC\",\"type\":\"number\"},{\"name\":\"URBAN_PC\",\"type\":\"number\"},{\"name\":\"REF_TYPE\",\"type\":\"string\"},{\"name\":\"LAND_TYPE\",\"type\":\"string\"},{\"name\":\"LANDTYP_PC\",\"type\":\"number\"},{\"name\":\"DEM_LOW_SC\",\"type\":\"string\"},{\"name\":\"CRITERION\",\"type\":\"string\"},{\"name\":\"FABDEM\",\"type\":\"number\"},{\"name\":\"COP\",\"type\":\"number\"},{\"name\":\"ALOS\",\"type\":\"number\"},{\"name\":\"NASA\",\"type\":\"number\"},{\"name\":\"SRTM\",\"type\":\"number\"},{\"name\":\"ASTER\",\"type\":\"number\"}],\"primaryKey\":[\"index\"],\"pandas_version\":\"0.20.0\"},\"data\":[{\"index\":0,\"qgrid_unfiltered_index\":0,\"AREA\":\"la_palma\",\"DEMIX_TILE\":\"N28UW018B\",\"LAT\":28.55,\"LONG\":-17.85,\"AVG_ELEV\":952.47,\"AVG_SLOPE\":37.05,\"AVG_ROUGH\":7.39,\"RELIEF\":1940.44,\"FOREST_PC\":61.6,\"URBAN_PC\":1.14,\"REF_TYPE\":\"DTM\",\"LAND_TYPE\":\"ALL\",\"LANDTYP_PC\":100.0,\"DEM_LOW_SC\":\"ALOS\",\"CRITERION\":\"ELD_AVG\",\"FABDEM\":5.19,\"COP\":5.44,\"ALOS\":2.6,\"NASA\":5.81,\"SRTM\":5.76,\"ASTER\":8.07},{\"index\":1,\"qgrid_unfiltered_index\":1,\"AREA\":\"la_palma\",\"DEMIX_TILE\":\"N28UW018B\",\"LAT\":28.55,\"LONG\":-17.85,\"AVG_ELEV\":952.47,\"AVG_SLOPE\":37.05,\"AVG_ROUGH\":7.39,\"RELIEF\":1940.44,\"FOREST_PC\":61.6,\"URBAN_PC\":1.14,\"REF_TYPE\":\"DTM\",\"LAND_TYPE\":\"ALL\",\"LANDTYP_PC\":100.0,\"DEM_LOW_SC\":\"ALOS\",\"CRITERION\":\"ELD_STD\",\"FABDEM\":7.12,\"COP\":7.3,\"ALOS\":4.06,\"NASA\":7.84,\"SRTM\":7.88,\"ASTER\":10.5},{\"index\":2,\"qgrid_unfiltered_index\":2,\"AREA\":\"la_palma\",\"DEMIX_TILE\":\"N28UW018B\",\"LAT\":28.55,\"LONG\":-17.85,\"AVG_ELEV\":952.47,\"AVG_SLOPE\":37.05,\"AVG_ROUGH\":7.39,\"RELIEF\":1940.44,\"FOREST_PC\":61.6,\"URBAN_PC\":1.14,\"REF_TYPE\":\"DTM\",\"LAND_TYPE\":\"ALL\",\"LANDTYP_PC\":100.0,\"DEM_LOW_SC\":\"FABDEM\",\"CRITERION\":\"ELD_RMSE\",\"FABDEM\":7.6,\"COP\":9.33,\"ALOS\":8.95,\"NASA\":12.4,\"SRTM\":14.18,\"ASTER\":16.91},{\"index\":3,\"qgrid_unfiltered_index\":3,\"AREA\":\"la_palma\",\"DEMIX_TILE\":\"N28UW018B\",\"LAT\":28.55,\"LONG\":-17.85,\"AVG_ELEV\":952.47,\"AVG_SLOPE\":37.05,\"AVG_ROUGH\":7.39,\"RELIEF\":1940.44,\"FOREST_PC\":61.6,\"URBAN_PC\":1.14,\"REF_TYPE\":\"DTM\",\"LAND_TYPE\":\"ALL\",\"LANDTYP_PC\":100.0,\"DEM_LOW_SC\":\"FABDEM\",\"CRITERION\":\"ELD_MAE\",\"FABDEM\":5.6,\"COP\":7.16,\"ALOS\":8.07,\"NASA\":10.29,\"SRTM\":12.2,\"ASTER\":13.95},{\"index\":4,\"qgrid_unfiltered_index\":4,\"AREA\":\"la_palma\",\"DEMIX_TILE\":\"N28UW018B\",\"LAT\":28.55,\"LONG\":-17.85,\"AVG_ELEV\":952.47,\"AVG_SLOPE\":37.05,\"AVG_ROUGH\":7.39,\"RELIEF\":1940.44,\"FOREST_PC\":61.6,\"URBAN_PC\":1.14,\"REF_TYPE\":\"DTM\",\"LAND_TYPE\":\"ALL\",\"LANDTYP_PC\":100.0,\"DEM_LOW_SC\":\"FABDEM\",\"CRITERION\":\"ELD_LE90\",\"FABDEM\":11.84,\"COP\":14.88,\"ALOS\":11.99,\"NASA\":19.14,\"SRTM\":21.17,\"ASTER\":26.84},{\"index\":5,\"qgrid_unfiltered_index\":5,\"AREA\":\"la_palma\",\"DEMIX_TILE\":\"N28UW018B\",\"LAT\":28.55,\"LONG\":-17.85,\"AVG_ELEV\":952.47,\"AVG_SLOPE\":37.05,\"AVG_ROUGH\":7.39,\"RELIEF\":1940.44,\"FOREST_PC\":61.6,\"URBAN_PC\":1.14,\"REF_TYPE\":\"DTM\",\"LAND_TYPE\":\"ALL\",\"LANDTYP_PC\":100.0,\"DEM_LOW_SC\":\"FABDEM\",\"CRITERION\":\"ELD_MEAN\",\"FABDEM\":2.66,\"COP\":5.81,\"ALOS\":7.97,\"NASA\":9.61,\"SRTM\":11.79,\"ASTER\":13.26},{\"index\":6,\"qgrid_unfiltered_index\":6,\"AREA\":\"la_palma\",\"DEMIX_TILE\":\"N28UW018B\",\"LAT\":28.55,\"LONG\":-17.85,\"AVG_ELEV\":952.47,\"AVG_SLOPE\":37.05,\"AVG_ROUGH\":7.39,\"RELIEF\":1940.44,\"FOREST_PC\":61.6,\"URBAN_PC\":1.14,\"REF_TYPE\":\"DTM\",\"LAND_TYPE\":\"ALL\",\"LANDTYP_PC\":100.0,\"DEM_LOW_SC\":\"FABDEM\",\"CRITERION\":\"ELD_MEDIAN\",\"FABDEM\":2.4,\"COP\":5.17,\"ALOS\":7.64,\"NASA\":8.99,\"SRTM\":11.24,\"ASTER\":11.93},{\"index\":98,\"qgrid_unfiltered_index\":98,\"AREA\":\"la_palma\",\"DEMIX_TILE\":\"N28VW018B\",\"LAT\":28.65,\"LONG\":-17.85,\"AVG_ELEV\":991.33,\"AVG_SLOPE\":42.3,\"AVG_ROUGH\":11.66,\"RELIEF\":1760.41,\"FOREST_PC\":86.08,\"URBAN_PC\":3.97,\"REF_TYPE\":\"DTM\",\"LAND_TYPE\":\"ALL\",\"LANDTYP_PC\":100.0,\"DEM_LOW_SC\":\"ALOS\",\"CRITERION\":\"ELD_AVG\",\"FABDEM\":9.45,\"COP\":10.54,\"ALOS\":6.05,\"NASA\":10.6,\"SRTM\":10.46,\"ASTER\":12.51},{\"index\":99,\"qgrid_unfiltered_index\":99,\"AREA\":\"la_palma\",\"DEMIX_TILE\":\"N28VW018B\",\"LAT\":28.65,\"LONG\":-17.85,\"AVG_ELEV\":991.33,\"AVG_SLOPE\":42.3,\"AVG_ROUGH\":11.66,\"RELIEF\":1760.41,\"FOREST_PC\":86.08,\"URBAN_PC\":3.97,\"REF_TYPE\":\"DTM\",\"LAND_TYPE\":\"ALL\",\"LANDTYP_PC\":100.0,\"DEM_LOW_SC\":\"ALOS\",\"CRITERION\":\"ELD_STD\",\"FABDEM\":14.89,\"COP\":15.45,\"ALOS\":11.52,\"NASA\":16.43,\"SRTM\":16.26,\"ASTER\":18.45},{\"index\":100,\"qgrid_unfiltered_index\":100,\"AREA\":\"la_palma\",\"DEMIX_TILE\":\"N28VW018B\",\"LAT\":28.65,\"LONG\":-17.85,\"AVG_ELEV\":991.33,\"AVG_SLOPE\":42.3,\"AVG_ROUGH\":11.66,\"RELIEF\":1760.41,\"FOREST_PC\":86.08,\"URBAN_PC\":3.97,\"REF_TYPE\":\"DTM\",\"LAND_TYPE\":\"ALL\",\"LANDTYP_PC\":100.0,\"DEM_LOW_SC\":\"FABDEM\",\"CRITERION\":\"ELD_RMSE\",\"FABDEM\":15.02,\"COP\":17.12,\"ALOS\":16.96,\"NASA\":20.23,\"SRTM\":21.33,\"ASTER\":23.94},{\"index\":101,\"qgrid_unfiltered_index\":101,\"AREA\":\"la_palma\",\"DEMIX_TILE\":\"N28VW018B\",\"LAT\":28.65,\"LONG\":-17.85,\"AVG_ELEV\":991.33,\"AVG_SLOPE\":42.3,\"AVG_ROUGH\":11.66,\"RELIEF\":1760.41,\"FOREST_PC\":86.08,\"URBAN_PC\":3.97,\"REF_TYPE\":\"DTM\",\"LAND_TYPE\":\"ALL\",\"LANDTYP_PC\":100.0,\"DEM_LOW_SC\":\"FABDEM\",\"CRITERION\":\"ELD_MAE\",\"FABDEM\":9.23,\"COP\":10.47,\"ALOS\":12.89,\"NASA\":13.58,\"SRTM\":15.17,\"ASTER\":16.77},{\"index\":102,\"qgrid_unfiltered_index\":102,\"AREA\":\"la_palma\",\"DEMIX_TILE\":\"N28VW018B\",\"LAT\":28.65,\"LONG\":-17.85,\"AVG_ELEV\":991.33,\"AVG_SLOPE\":42.3,\"AVG_ROUGH\":11.66,\"RELIEF\":1760.41,\"FOREST_PC\":86.08,\"URBAN_PC\":3.97,\"REF_TYPE\":\"DTM\",\"LAND_TYPE\":\"ALL\",\"LANDTYP_PC\":100.0,\"DEM_LOW_SC\":\"FABDEM\",\"CRITERION\":\"ELD_LE90\",\"FABDEM\":21.42,\"COP\":25.95,\"ALOS\":21.81,\"NASA\":30.16,\"SRTM\":31.63,\"ASTER\":36.06},{\"index\":103,\"qgrid_unfiltered_index\":103,\"AREA\":\"la_palma\",\"DEMIX_TILE\":\"N28VW018B\",\"LAT\":28.65,\"LONG\":-17.85,\"AVG_ELEV\":991.33,\"AVG_SLOPE\":42.3,\"AVG_ROUGH\":11.66,\"RELIEF\":1760.41,\"FOREST_PC\":86.08,\"URBAN_PC\":3.97,\"REF_TYPE\":\"DTM\",\"LAND_TYPE\":\"ALL\",\"LANDTYP_PC\":100.0,\"DEM_LOW_SC\":\"FABDEM\",\"CRITERION\":\"ELD_MEAN\",\"FABDEM\":1.98,\"COP\":7.36,\"ALOS\":12.45,\"NASA\":11.81,\"SRTM\":13.81,\"ASTER\":15.25},{\"index\":104,\"qgrid_unfiltered_index\":104,\"AREA\":\"la_palma\",\"DEMIX_TILE\":\"N28VW018B\",\"LAT\":28.65,\"LONG\":-17.85,\"AVG_ELEV\":991.33,\"AVG_SLOPE\":42.3,\"AVG_ROUGH\":11.66,\"RELIEF\":1760.41,\"FOREST_PC\":86.08,\"URBAN_PC\":3.97,\"REF_TYPE\":\"DTM\",\"LAND_TYPE\":\"ALL\",\"LANDTYP_PC\":100.0,\"DEM_LOW_SC\":\"FABDEM\",\"CRITERION\":\"ELD_MEDIAN\",\"FABDEM\":0.08,\"COP\":3.17,\"ALOS\":10.0,\"NASA\":8.05,\"SRTM\":10.31,\"ASTER\":10.5},{\"index\":196,\"qgrid_unfiltered_index\":196,\"AREA\":\"la_palma\",\"DEMIX_TILE\":\"N28XW018A\",\"LAT\":28.75,\"LONG\":-17.95,\"AVG_ELEV\":1056.58,\"AVG_SLOPE\":47.68,\"AVG_ROUGH\":15.06,\"RELIEF\":2264.94,\"FOREST_PC\":81.52,\"URBAN_PC\":0.13,\"REF_TYPE\":\"DTM\",\"LAND_TYPE\":\"ALL\",\"LANDTYP_PC\":100.0,\"DEM_LOW_SC\":\"ALOS\",\"CRITERION\":\"ELD_AVG\",\"FABDEM\":11.36,\"COP\":11.36,\"ALOS\":4.33,\"NASA\":11.43,\"SRTM\":11.22,\"ASTER\":14.36},{\"index\":197,\"qgrid_unfiltered_index\":197,\"AREA\":\"la_palma\",\"DEMIX_TILE\":\"N28XW018A\",\"LAT\":28.75,\"LONG\":-17.95,\"AVG_ELEV\":1056.58,\"AVG_SLOPE\":47.68,\"AVG_ROUGH\":15.06,\"RELIEF\":2264.94,\"FOREST_PC\":81.52,\"URBAN_PC\":0.13,\"REF_TYPE\":\"DTM\",\"LAND_TYPE\":\"ALL\",\"LANDTYP_PC\":100.0,\"DEM_LOW_SC\":\"ALOS\",\"CRITERION\":\"ELD_STD\",\"FABDEM\":17.05,\"COP\":16.7,\"ALOS\":11.3,\"NASA\":17.84,\"SRTM\":17.08,\"ASTER\":20.3},{\"index\":198,\"qgrid_unfiltered_index\":198,\"AREA\":\"la_palma\",\"DEMIX_TILE\":\"N28XW018A\",\"LAT\":28.75,\"LONG\":-17.95,\"AVG_ELEV\":1056.58,\"AVG_SLOPE\":47.68,\"AVG_ROUGH\":15.06,\"RELIEF\":2264.94,\"FOREST_PC\":81.52,\"URBAN_PC\":0.13,\"REF_TYPE\":\"DTM\",\"LAND_TYPE\":\"ALL\",\"LANDTYP_PC\":100.0,\"DEM_LOW_SC\":\"ALOS\",\"CRITERION\":\"ELD_RMSE\",\"FABDEM\":17.08,\"COP\":17.58,\"ALOS\":15.79,\"NASA\":20.63,\"SRTM\":21.99,\"ASTER\":24.4},{\"index\":199,\"qgrid_unfiltered_index\":199,\"AREA\":\"la_palma\",\"DEMIX_TILE\":\"N28XW018A\",\"LAT\":28.75,\"LONG\":-17.95,\"AVG_ELEV\":1056.58,\"AVG_SLOPE\":47.68,\"AVG_ROUGH\":15.06,\"RELIEF\":2264.94,\"FOREST_PC\":81.52,\"URBAN_PC\":0.13,\"REF_TYPE\":\"DTM\",\"LAND_TYPE\":\"ALL\",\"LANDTYP_PC\":100.0,\"DEM_LOW_SC\":\"FABDEM\",\"CRITERION\":\"ELD_MAE\",\"FABDEM\":11.26,\"COP\":11.37,\"ALOS\":11.36,\"NASA\":13.26,\"SRTM\":15.66,\"ASTER\":16.94},{\"index\":200,\"qgrid_unfiltered_index\":200,\"AREA\":\"la_palma\",\"DEMIX_TILE\":\"N28XW018A\",\"LAT\":28.75,\"LONG\":-17.95,\"AVG_ELEV\":1056.58,\"AVG_SLOPE\":47.68,\"AVG_ROUGH\":15.06,\"RELIEF\":2264.94,\"FOREST_PC\":81.52,\"URBAN_PC\":0.13,\"REF_TYPE\":\"DTM\",\"LAND_TYPE\":\"ALL\",\"LANDTYP_PC\":100.0,\"DEM_LOW_SC\":\"ALOS\",\"CRITERION\":\"ELD_LE90\",\"FABDEM\":22.77,\"COP\":25.61,\"ALOS\":17.23,\"NASA\":28.84,\"SRTM\":32.24,\"ASTER\":38.0},{\"index\":201,\"qgrid_unfiltered_index\":201,\"AREA\":\"la_palma\",\"DEMIX_TILE\":\"N28XW018A\",\"LAT\":28.75,\"LONG\":-17.95,\"AVG_ELEV\":1056.58,\"AVG_SLOPE\":47.68,\"AVG_ROUGH\":15.06,\"RELIEF\":2264.94,\"FOREST_PC\":81.52,\"URBAN_PC\":0.13,\"REF_TYPE\":\"DTM\",\"LAND_TYPE\":\"ALL\",\"LANDTYP_PC\":100.0,\"DEM_LOW_SC\":\"FABDEM\",\"CRITERION\":\"ELD_MEAN\",\"FABDEM\":0.97,\"COP\":5.48,\"ALOS\":11.03,\"NASA\":10.37,\"SRTM\":13.85,\"ASTER\":13.53},{\"index\":202,\"qgrid_unfiltered_index\":202,\"AREA\":\"la_palma\",\"DEMIX_TILE\":\"N28XW018A\",\"LAT\":28.75,\"LONG\":-17.95,\"AVG_ELEV\":1056.58,\"AVG_SLOPE\":47.68,\"AVG_ROUGH\":15.06,\"RELIEF\":2264.94,\"FOREST_PC\":81.52,\"URBAN_PC\":0.13,\"REF_TYPE\":\"DTM\",\"LAND_TYPE\":\"ALL\",\"LANDTYP_PC\":100.0,\"DEM_LOW_SC\":\"COP\",\"CRITERION\":\"ELD_MEDIAN\",\"FABDEM\":-1.05,\"COP\":2.69,\"ALOS\":9.45,\"NASA\":7.39,\"SRTM\":11.3,\"ASTER\":9.8},{\"index\":294,\"qgrid_unfiltered_index\":294,\"AREA\":\"la_palma\",\"DEMIX_TILE\":\"N28XW018B\",\"LAT\":28.75,\"LONG\":-17.85,\"AVG_ELEV\":1453.36,\"AVG_SLOPE\":76.72,\"AVG_ROUGH\":22.65,\"RELIEF\":2066.3,\"FOREST_PC\":87.42,\"URBAN_PC\":0.28,\"REF_TYPE\":\"DTM\",\"LAND_TYPE\":\"ALL\",\"LANDTYP_PC\":100.0,\"DEM_LOW_SC\":\"ALOS\",\"CRITERION\":\"ELD_AVG\",\"FABDEM\":20.16,\"COP\":19.86,\"ALOS\":11.24,\"NASA\":21.53,\"SRTM\":21.25,\"ASTER\":21.94},{\"index\":295,\"qgrid_unfiltered_index\":295,\"AREA\":\"la_palma\",\"DEMIX_TILE\":\"N28XW018B\",\"LAT\":28.75,\"LONG\":-17.85,\"AVG_ELEV\":1453.36,\"AVG_SLOPE\":76.72,\"AVG_ROUGH\":22.65,\"RELIEF\":2066.3,\"FOREST_PC\":87.42,\"URBAN_PC\":0.28,\"REF_TYPE\":\"DTM\",\"LAND_TYPE\":\"ALL\",\"LANDTYP_PC\":100.0,\"DEM_LOW_SC\":\"ALOS\",\"CRITERION\":\"ELD_STD\",\"FABDEM\":29.75,\"COP\":29.21,\"ALOS\":26.54,\"NASA\":31.73,\"SRTM\":31.0,\"ASTER\":31.56},{\"index\":296,\"qgrid_unfiltered_index\":296,\"AREA\":\"la_palma\",\"DEMIX_TILE\":\"N28XW018B\",\"LAT\":28.75,\"LONG\":-17.85,\"AVG_ELEV\":1453.36,\"AVG_SLOPE\":76.72,\"AVG_ROUGH\":22.65,\"RELIEF\":2066.3,\"FOREST_PC\":87.42,\"URBAN_PC\":0.28,\"REF_TYPE\":\"DTM\",\"LAND_TYPE\":\"ALL\",\"LANDTYP_PC\":100.0,\"DEM_LOW_SC\":\"FABDEM\",\"CRITERION\":\"ELD_RMSE\",\"FABDEM\":30.24,\"COP\":31.59,\"ALOS\":31.05,\"NASA\":36.82,\"SRTM\":37.3,\"ASTER\":40.28},{\"index\":297,\"qgrid_unfiltered_index\":297,\"AREA\":\"la_palma\",\"DEMIX_TILE\":\"N28XW018B\",\"LAT\":28.75,\"LONG\":-17.85,\"AVG_ELEV\":1453.36,\"AVG_SLOPE\":76.72,\"AVG_ROUGH\":22.65,\"RELIEF\":2066.3,\"FOREST_PC\":87.42,\"URBAN_PC\":0.28,\"REF_TYPE\":\"DTM\",\"LAND_TYPE\":\"ALL\",\"LANDTYP_PC\":100.0,\"DEM_LOW_SC\":\"ALOS\",\"CRITERION\":\"ELD_MAE\",\"FABDEM\":19.86,\"COP\":20.69,\"ALOS\":17.73,\"NASA\":24.43,\"SRTM\":25.56,\"ASTER\":28.72},{\"index\":298,\"qgrid_unfiltered_index\":298,\"AREA\":\"la_palma\",\"DEMIX_TILE\":\"N28XW018B\",\"LAT\":28.75,\"LONG\":-17.85,\"AVG_ELEV\":1453.36,\"AVG_SLOPE\":76.72,\"AVG_ROUGH\":22.65,\"RELIEF\":2066.3,\"FOREST_PC\":87.42,\"URBAN_PC\":0.28,\"REF_TYPE\":\"DTM\",\"LAND_TYPE\":\"ALL\",\"LANDTYP_PC\":100.0,\"DEM_LOW_SC\":\"ALOS\",\"CRITERION\":\"ELD_LE90\",\"FABDEM\":40.91,\"COP\":43.98,\"ALOS\":28.77,\"NASA\":53.86,\"SRTM\":55.3,\"ASTER\":61.06},{\"index\":299,\"qgrid_unfiltered_index\":299,\"AREA\":\"la_palma\",\"DEMIX_TILE\":\"N28XW018B\",\"LAT\":28.75,\"LONG\":-17.85,\"AVG_ELEV\":1453.36,\"AVG_SLOPE\":76.72,\"AVG_ROUGH\":22.65,\"RELIEF\":2066.3,\"FOREST_PC\":87.42,\"URBAN_PC\":0.28,\"REF_TYPE\":\"DTM\",\"LAND_TYPE\":\"ALL\",\"LANDTYP_PC\":100.0,\"DEM_LOW_SC\":\"FABDEM\",\"CRITERION\":\"ELD_MEAN\",\"FABDEM\":5.43,\"COP\":12.04,\"ALOS\":16.1,\"NASA\":18.68,\"SRTM\":20.75,\"ASTER\":25.03},{\"index\":300,\"qgrid_unfiltered_index\":300,\"AREA\":\"la_palma\",\"DEMIX_TILE\":\"N28XW018B\",\"LAT\":28.75,\"LONG\":-17.85,\"AVG_ELEV\":1453.36,\"AVG_SLOPE\":76.72,\"AVG_ROUGH\":22.65,\"RELIEF\":2066.3,\"FOREST_PC\":87.42,\"URBAN_PC\":0.28,\"REF_TYPE\":\"DTM\",\"LAND_TYPE\":\"ALL\",\"LANDTYP_PC\":100.0,\"DEM_LOW_SC\":\"FABDEM\",\"CRITERION\":\"ELD_MEDIAN\",\"FABDEM\":1.01,\"COP\":7.93,\"ALOS\":11.45,\"NASA\":13.43,\"SRTM\":15.97,\"ASTER\":20.3},{\"index\":392,\"qgrid_unfiltered_index\":392,\"AREA\":\"new_orleans_west\",\"DEMIX_TILE\":\"N29YW091H\",\"LAT\":29.85,\"LONG\":-90.35,\"AVG_ELEV\":0.43,\"AVG_SLOPE\":0.1,\"AVG_ROUGH\":0.07,\"RELIEF\":2.86,\"FOREST_PC\":48.73,\"URBAN_PC\":2.58,\"REF_TYPE\":\"DTM\",\"LAND_TYPE\":\"ALL\",\"LANDTYP_PC\":100.0,\"DEM_LOW_SC\":\"FABDEM\",\"CRITERION\":\"ELD_AVG\",\"FABDEM\":0.66,\"COP\":1.28,\"ALOS\":4.37,\"NASA\":1.99,\"SRTM\":2.0,\"ASTER\":2.38},{\"index\":393,\"qgrid_unfiltered_index\":393,\"AREA\":\"new_orleans_west\",\"DEMIX_TILE\":\"N29YW091H\",\"LAT\":29.85,\"LONG\":-90.35,\"AVG_ELEV\":0.43,\"AVG_SLOPE\":0.1,\"AVG_ROUGH\":0.07,\"RELIEF\":2.86,\"FOREST_PC\":48.73,\"URBAN_PC\":2.58,\"REF_TYPE\":\"DTM\",\"LAND_TYPE\":\"ALL\",\"LANDTYP_PC\":100.0,\"DEM_LOW_SC\":\"FABDEM\",\"CRITERION\":\"ELD_STD\",\"FABDEM\":1.12,\"COP\":2.12,\"ALOS\":5.43,\"NASA\":2.79,\"SRTM\":2.77,\"ASTER\":3.16},{\"index\":394,\"qgrid_unfiltered_index\":394,\"AREA\":\"new_orleans_west\",\"DEMIX_TILE\":\"N29YW091H\",\"LAT\":29.85,\"LONG\":-90.35,\"AVG_ELEV\":0.43,\"AVG_SLOPE\":0.1,\"AVG_ROUGH\":0.07,\"RELIEF\":2.86,\"FOREST_PC\":48.73,\"URBAN_PC\":2.58,\"REF_TYPE\":\"DTM\",\"LAND_TYPE\":\"ALL\",\"LANDTYP_PC\":100.0,\"DEM_LOW_SC\":\"FABDEM\",\"CRITERION\":\"ELD_RMSE\",\"FABDEM\":1.16,\"COP\":2.3,\"ALOS\":6.51,\"NASA\":2.79,\"SRTM\":3.6,\"ASTER\":8.37},{\"index\":395,\"qgrid_unfiltered_index\":395,\"AREA\":\"new_orleans_west\",\"DEMIX_TILE\":\"N29YW091H\",\"LAT\":29.85,\"LONG\":-90.35,\"AVG_ELEV\":0.43,\"AVG_SLOPE\":0.1,\"AVG_ROUGH\":0.07,\"RELIEF\":2.86,\"FOREST_PC\":48.73,\"URBAN_PC\":2.58,\"REF_TYPE\":\"DTM\",\"LAND_TYPE\":\"ALL\",\"LANDTYP_PC\":100.0,\"DEM_LOW_SC\":\"FABDEM\",\"CRITERION\":\"ELD_MAE\",\"FABDEM\":0.57,\"COP\":1.08,\"ALOS\":3.88,\"NASA\":2.04,\"SRTM\":2.53,\"ASTER\":7.76},{\"index\":396,\"qgrid_unfiltered_index\":396,\"AREA\":\"new_orleans_west\",\"DEMIX_TILE\":\"N29YW091H\",\"LAT\":29.85,\"LONG\":-90.35,\"AVG_ELEV\":0.43,\"AVG_SLOPE\":0.1,\"AVG_ROUGH\":0.07,\"RELIEF\":2.86,\"FOREST_PC\":48.73,\"URBAN_PC\":2.58,\"REF_TYPE\":\"DTM\",\"LAND_TYPE\":\"ALL\",\"LANDTYP_PC\":100.0,\"DEM_LOW_SC\":\"FABDEM\",\"CRITERION\":\"ELD_LE90\",\"FABDEM\":1.33,\"COP\":2.72,\"ALOS\":13.3,\"NASA\":3.67,\"SRTM\":5.46,\"ASTER\":11.95},{\"index\":397,\"qgrid_unfiltered_index\":397,\"AREA\":\"new_orleans_west\",\"DEMIX_TILE\":\"N29YW091H\",\"LAT\":29.85,\"LONG\":-90.35,\"AVG_ELEV\":0.43,\"AVG_SLOPE\":0.1,\"AVG_ROUGH\":0.07,\"RELIEF\":2.86,\"FOREST_PC\":48.73,\"URBAN_PC\":2.58,\"REF_TYPE\":\"DTM\",\"LAND_TYPE\":\"ALL\",\"LANDTYP_PC\":100.0,\"DEM_LOW_SC\":\"FABDEM\",\"CRITERION\":\"ELD_MEAN\",\"FABDEM\":0.3,\"COP\":0.89,\"ALOS\":3.58,\"NASA\":-0.18,\"SRTM\":2.31,\"ASTER\":7.75},{\"index\":398,\"qgrid_unfiltered_index\":398,\"AREA\":\"new_orleans_west\",\"DEMIX_TILE\":\"N29YW091H\",\"LAT\":29.85,\"LONG\":-90.35,\"AVG_ELEV\":0.43,\"AVG_SLOPE\":0.1,\"AVG_ROUGH\":0.07,\"RELIEF\":2.86,\"FOREST_PC\":48.73,\"URBAN_PC\":2.58,\"REF_TYPE\":\"DTM\",\"LAND_TYPE\":\"ALL\",\"LANDTYP_PC\":100.0,\"DEM_LOW_SC\":\"COP\",\"CRITERION\":\"ELD_MEDIAN\",\"FABDEM\":-0.01,\"COP\":0.09,\"ALOS\":0.54,\"NASA\":-0.66,\"SRTM\":1.49,\"ASTER\":7.28},{\"index\":420,\"qgrid_unfiltered_index\":420,\"AREA\":\"new_orleans_west\",\"DEMIX_TILE\":\"N29YW091J\",\"LAT\":29.85,\"LONG\":-90.25,\"AVG_ELEV\":-0.19,\"AVG_SLOPE\":0.21,\"AVG_ROUGH\":0.15,\"RELIEF\":6.55,\"FOREST_PC\":22.69,\"URBAN_PC\":1.93,\"REF_TYPE\":\"DTM\",\"LAND_TYPE\":\"ALL\",\"LANDTYP_PC\":100.0,\"DEM_LOW_SC\":\"FABDEM\",\"CRITERION\":\"ELD_AVG\",\"FABDEM\":0.67,\"COP\":1.18,\"ALOS\":1.63,\"NASA\":1.88,\"SRTM\":2.02,\"ASTER\":4.65},{\"index\":421,\"qgrid_unfiltered_index\":421,\"AREA\":\"new_orleans_west\",\"DEMIX_TILE\":\"N29YW091J\",\"LAT\":29.85,\"LONG\":-90.25,\"AVG_ELEV\":-0.19,\"AVG_SLOPE\":0.21,\"AVG_ROUGH\":0.15,\"RELIEF\":6.55,\"FOREST_PC\":22.69,\"URBAN_PC\":1.93,\"REF_TYPE\":\"DTM\",\"LAND_TYPE\":\"ALL\",\"LANDTYP_PC\":100.0,\"DEM_LOW_SC\":\"FABDEM\",\"CRITERION\":\"ELD_STD\",\"FABDEM\":1.25,\"COP\":1.79,\"ALOS\":2.38,\"NASA\":2.74,\"SRTM\":2.86,\"ASTER\":5.69},{\"index\":422,\"qgrid_unfiltered_index\":422,\"AREA\":\"new_orleans_west\",\"DEMIX_TILE\":\"N29YW091J\",\"LAT\":29.85,\"LONG\":-90.25,\"AVG_ELEV\":-0.19,\"AVG_SLOPE\":0.21,\"AVG_ROUGH\":0.15,\"RELIEF\":6.55,\"FOREST_PC\":22.69,\"URBAN_PC\":1.93,\"REF_TYPE\":\"DTM\",\"LAND_TYPE\":\"ALL\",\"LANDTYP_PC\":100.0,\"DEM_LOW_SC\":\"FABDEM\",\"CRITERION\":\"ELD_RMSE\",\"FABDEM\":1.3,\"COP\":1.93,\"ALOS\":2.63,\"NASA\":2.76,\"SRTM\":3.25,\"ASTER\":9.87},{\"index\":423,\"qgrid_unfiltered_index\":423,\"AREA\":\"new_orleans_west\",\"DEMIX_TILE\":\"N29YW091J\",\"LAT\":29.85,\"LONG\":-90.25,\"AVG_ELEV\":-0.19,\"AVG_SLOPE\":0.21,\"AVG_ROUGH\":0.15,\"RELIEF\":6.55,\"FOREST_PC\":22.69,\"URBAN_PC\":1.93,\"REF_TYPE\":\"DTM\",\"LAND_TYPE\":\"ALL\",\"LANDTYP_PC\":100.0,\"DEM_LOW_SC\":\"FABDEM\",\"CRITERION\":\"ELD_MAE\",\"FABDEM\":0.53,\"COP\":0.88,\"ALOS\":1.52,\"NASA\":1.94,\"SRTM\":1.98,\"ASTER\":8.11},{\"index\":424,\"qgrid_unfiltered_index\":424,\"AREA\":\"new_orleans_west\",\"DEMIX_TILE\":\"N29YW091J\",\"LAT\":29.85,\"LONG\":-90.25,\"AVG_ELEV\":-0.19,\"AVG_SLOPE\":0.21,\"AVG_ROUGH\":0.15,\"RELIEF\":6.55,\"FOREST_PC\":22.69,\"URBAN_PC\":1.93,\"REF_TYPE\":\"DTM\",\"LAND_TYPE\":\"ALL\",\"LANDTYP_PC\":100.0,\"DEM_LOW_SC\":\"FABDEM\",\"CRITERION\":\"ELD_LE90\",\"FABDEM\":1.14,\"COP\":4.07,\"ALOS\":5.2,\"NASA\":4.48,\"SRTM\":5.55,\"ASTER\":14.52},{\"index\":425,\"qgrid_unfiltered_index\":425,\"AREA\":\"new_orleans_west\",\"DEMIX_TILE\":\"N29YW091J\",\"LAT\":29.85,\"LONG\":-90.25,\"AVG_ELEV\":-0.19,\"AVG_SLOPE\":0.21,\"AVG_ROUGH\":0.15,\"RELIEF\":6.55,\"FOREST_PC\":22.69,\"URBAN_PC\":1.93,\"REF_TYPE\":\"DTM\",\"LAND_TYPE\":\"ALL\",\"LANDTYP_PC\":100.0,\"DEM_LOW_SC\":\"FABDEM\",\"CRITERION\":\"ELD_MEAN\",\"FABDEM\":0.37,\"COP\":0.71,\"ALOS\":1.12,\"NASA\":-0.36,\"SRTM\":1.54,\"ASTER\":8.06},{\"index\":426,\"qgrid_unfiltered_index\":426,\"AREA\":\"new_orleans_west\",\"DEMIX_TILE\":\"N29YW091J\",\"LAT\":29.85,\"LONG\":-90.25,\"AVG_ELEV\":-0.19,\"AVG_SLOPE\":0.21,\"AVG_ROUGH\":0.15,\"RELIEF\":6.55,\"FOREST_PC\":22.69,\"URBAN_PC\":1.93,\"REF_TYPE\":\"DTM\",\"LAND_TYPE\":\"ALL\",\"LANDTYP_PC\":100.0,\"DEM_LOW_SC\":\"FABDEM\",\"CRITERION\":\"ELD_MEDIAN\",\"FABDEM\":0.02,\"COP\":0.09,\"ALOS\":0.49,\"NASA\":-0.53,\"SRTM\":0.55,\"ASTER\":9.06},{\"index\":448,\"qgrid_unfiltered_index\":448,\"AREA\":\"new_orleans_west\",\"DEMIX_TILE\":\"N29YW091K\",\"LAT\":29.85,\"LONG\":-90.15,\"AVG_ELEV\":0.11,\"AVG_SLOPE\":0.36,\"AVG_ROUGH\":0.25,\"RELIEF\":6.89,\"FOREST_PC\":31.01,\"URBAN_PC\":19.43,\"REF_TYPE\":\"DTM\",\"LAND_TYPE\":\"ALL\",\"LANDTYP_PC\":100.0,\"DEM_LOW_SC\":\"FABDEM\",\"CRITERION\":\"ELD_AVG\",\"FABDEM\":0.66,\"COP\":1.8,\"ALOS\":2.16,\"NASA\":2.7,\"SRTM\":2.85,\"ASTER\":2.97},{\"index\":449,\"qgrid_unfiltered_index\":449,\"AREA\":\"new_orleans_west\",\"DEMIX_TILE\":\"N29YW091K\",\"LAT\":29.85,\"LONG\":-90.15,\"AVG_ELEV\":0.11,\"AVG_SLOPE\":0.36,\"AVG_ROUGH\":0.25,\"RELIEF\":6.89,\"FOREST_PC\":31.01,\"URBAN_PC\":19.43,\"REF_TYPE\":\"DTM\",\"LAND_TYPE\":\"ALL\",\"LANDTYP_PC\":100.0,\"DEM_LOW_SC\":\"FABDEM\",\"CRITERION\":\"ELD_STD\",\"FABDEM\":1.12,\"COP\":2.54,\"ALOS\":3.03,\"NASA\":3.63,\"SRTM\":3.75,\"ASTER\":4.26},{\"index\":450,\"qgrid_unfiltered_index\":450,\"AREA\":\"new_orleans_west\",\"DEMIX_TILE\":\"N29YW091K\",\"LAT\":29.85,\"LONG\":-90.15,\"AVG_ELEV\":0.11,\"AVG_SLOPE\":0.36,\"AVG_ROUGH\":0.25,\"RELIEF\":6.89,\"FOREST_PC\":31.01,\"URBAN_PC\":19.43,\"REF_TYPE\":\"DTM\",\"LAND_TYPE\":\"ALL\",\"LANDTYP_PC\":100.0,\"DEM_LOW_SC\":\"FABDEM\",\"CRITERION\":\"ELD_RMSE\",\"FABDEM\":1.19,\"COP\":2.92,\"ALOS\":4.83,\"NASA\":3.73,\"SRTM\":4.8,\"ASTER\":10.08},{\"index\":451,\"qgrid_unfiltered_index\":451,\"AREA\":\"new_orleans_west\",\"DEMIX_TILE\":\"N29YW091K\",\"LAT\":29.85,\"LONG\":-90.15,\"AVG_ELEV\":0.11,\"AVG_SLOPE\":0.36,\"AVG_ROUGH\":0.25,\"RELIEF\":6.89,\"FOREST_PC\":31.01,\"URBAN_PC\":19.43,\"REF_TYPE\":\"DTM\",\"LAND_TYPE\":\"ALL\",\"LANDTYP_PC\":100.0,\"DEM_LOW_SC\":\"FABDEM\",\"CRITERION\":\"ELD_MAE\",\"FABDEM\":0.58,\"COP\":1.58,\"ALOS\":3.79,\"NASA\":2.53,\"SRTM\":3.25,\"ASTER\":9.14},{\"index\":452,\"qgrid_unfiltered_index\":452,\"AREA\":\"new_orleans_west\",\"DEMIX_TILE\":\"N29YW091K\",\"LAT\":29.85,\"LONG\":-90.15,\"AVG_ELEV\":0.11,\"AVG_SLOPE\":0.36,\"AVG_ROUGH\":0.25,\"RELIEF\":6.89,\"FOREST_PC\":31.01,\"URBAN_PC\":19.43,\"REF_TYPE\":\"DTM\",\"LAND_TYPE\":\"ALL\",\"LANDTYP_PC\":100.0,\"DEM_LOW_SC\":\"FABDEM\",\"CRITERION\":\"ELD_LE90\",\"FABDEM\":1.46,\"COP\":4.9,\"ALOS\":7.7,\"NASA\":6.19,\"SRTM\":8.49,\"ASTER\":13.57},{\"index\":453,\"qgrid_unfiltered_index\":453,\"AREA\":\"new_orleans_west\",\"DEMIX_TILE\":\"N29YW091K\",\"LAT\":29.85,\"LONG\":-90.15,\"AVG_ELEV\":0.11,\"AVG_SLOPE\":0.36,\"AVG_ROUGH\":0.25,\"RELIEF\":6.89,\"FOREST_PC\":31.01,\"URBAN_PC\":19.43,\"REF_TYPE\":\"DTM\",\"LAND_TYPE\":\"ALL\",\"LANDTYP_PC\":100.0,\"DEM_LOW_SC\":\"FABDEM\",\"CRITERION\":\"ELD_MEAN\",\"FABDEM\":0.39,\"COP\":1.43,\"ALOS\":3.76,\"NASA\":0.87,\"SRTM\":3.0,\"ASTER\":9.13},{\"index\":454,\"qgrid_unfiltered_index\":454,\"AREA\":\"new_orleans_west\",\"DEMIX_TILE\":\"N29YW091K\",\"LAT\":29.85,\"LONG\":-90.15,\"AVG_ELEV\":0.11,\"AVG_SLOPE\":0.36,\"AVG_ROUGH\":0.25,\"RELIEF\":6.89,\"FOREST_PC\":31.01,\"URBAN_PC\":19.43,\"REF_TYPE\":\"DTM\",\"LAND_TYPE\":\"ALL\",\"LANDTYP_PC\":100.0,\"DEM_LOW_SC\":\"FABDEM\",\"CRITERION\":\"ELD_MEDIAN\",\"FABDEM\":0.07,\"COP\":0.26,\"ALOS\":2.58,\"NASA\":0.0,\"SRTM\":1.71,\"ASTER\":9.39},{\"index\":476,\"qgrid_unfiltered_index\":476,\"AREA\":\"new_orleans_west\",\"DEMIX_TILE\":\"N29ZW091H\",\"LAT\":29.95,\"LONG\":-90.35,\"AVG_ELEV\":1.15,\"AVG_SLOPE\":0.52,\"AVG_ROUGH\":0.37,\"RELIEF\":10.19,\"FOREST_PC\":52.04,\"URBAN_PC\":17.47,\"REF_TYPE\":\"DTM\",\"LAND_TYPE\":\"ALL\",\"LANDTYP_PC\":100.0,\"DEM_LOW_SC\":\"FABDEM\",\"CRITERION\":\"ELD_AVG\",\"FABDEM\":0.85,\"COP\":2.19,\"ALOS\":3.05,\"NASA\":2.43,\"SRTM\":2.35,\"ASTER\":2.8},{\"index\":477,\"qgrid_unfiltered_index\":477,\"AREA\":\"new_orleans_west\",\"DEMIX_TILE\":\"N29ZW091H\",\"LAT\":29.95,\"LONG\":-90.35,\"AVG_ELEV\":1.15,\"AVG_SLOPE\":0.52,\"AVG_ROUGH\":0.37,\"RELIEF\":10.19,\"FOREST_PC\":52.04,\"URBAN_PC\":17.47,\"REF_TYPE\":\"DTM\",\"LAND_TYPE\":\"ALL\",\"LANDTYP_PC\":100.0,\"DEM_LOW_SC\":\"FABDEM\",\"CRITERION\":\"ELD_STD\",\"FABDEM\":1.26,\"COP\":3.09,\"ALOS\":4.18,\"NASA\":3.22,\"SRTM\":3.11,\"ASTER\":3.78},{\"index\":478,\"qgrid_unfiltered_index\":478,\"AREA\":\"new_orleans_west\",\"DEMIX_TILE\":\"N29ZW091H\",\"LAT\":29.95,\"LONG\":-90.35,\"AVG_ELEV\":1.15,\"AVG_SLOPE\":0.52,\"AVG_ROUGH\":0.37,\"RELIEF\":10.19,\"FOREST_PC\":52.04,\"URBAN_PC\":17.47,\"REF_TYPE\":\"DTM\",\"LAND_TYPE\":\"ALL\",\"LANDTYP_PC\":100.0,\"DEM_LOW_SC\":\"FABDEM\",\"CRITERION\":\"ELD_RMSE\",\"FABDEM\":1.26,\"COP\":3.54,\"ALOS\":5.22,\"NASA\":3.25,\"SRTM\":4.68,\"ASTER\":7.45},{\"index\":479,\"qgrid_unfiltered_index\":479,\"AREA\":\"new_orleans_west\",\"DEMIX_TILE\":\"N29ZW091H\",\"LAT\":29.95,\"LONG\":-90.35,\"AVG_ELEV\":1.15,\"AVG_SLOPE\":0.52,\"AVG_ROUGH\":0.37,\"RELIEF\":10.19,\"FOREST_PC\":52.04,\"URBAN_PC\":17.47,\"REF_TYPE\":\"DTM\",\"LAND_TYPE\":\"ALL\",\"LANDTYP_PC\":100.0,\"DEM_LOW_SC\":\"FABDEM\",\"CRITERION\":\"ELD_MAE\",\"FABDEM\":0.85,\"COP\":2.16,\"ALOS\":3.33,\"NASA\":2.41,\"SRTM\":3.64,\"ASTER\":6.48},{\"index\":480,\"qgrid_unfiltered_index\":480,\"AREA\":\"new_orleans_west\",\"DEMIX_TILE\":\"N29ZW091H\",\"LAT\":29.95,\"LONG\":-90.35,\"AVG_ELEV\":1.15,\"AVG_SLOPE\":0.52,\"AVG_ROUGH\":0.37,\"RELIEF\":10.19,\"FOREST_PC\":52.04,\"URBAN_PC\":17.47,\"REF_TYPE\":\"DTM\",\"LAND_TYPE\":\"ALL\",\"LANDTYP_PC\":100.0,\"DEM_LOW_SC\":\"FABDEM\",\"CRITERION\":\"ELD_LE90\",\"FABDEM\":1.83,\"COP\":5.81,\"ALOS\":9.65,\"NASA\":4.76,\"SRTM\":7.47,\"ASTER\":10.84},{\"index\":481,\"qgrid_unfiltered_index\":481,\"AREA\":\"new_orleans_west\",\"DEMIX_TILE\":\"N29ZW091H\",\"LAT\":29.95,\"LONG\":-90.35,\"AVG_ELEV\":1.15,\"AVG_SLOPE\":0.52,\"AVG_ROUGH\":0.37,\"RELIEF\":10.19,\"FOREST_PC\":52.04,\"URBAN_PC\":17.47,\"REF_TYPE\":\"DTM\",\"LAND_TYPE\":\"ALL\",\"LANDTYP_PC\":100.0,\"DEM_LOW_SC\":\"FABDEM\",\"CRITERION\":\"ELD_MEAN\",\"FABDEM\":0.04,\"COP\":1.71,\"ALOS\":3.13,\"NASA\":0.47,\"SRTM\":3.5,\"ASTER\":6.42},{\"index\":482,\"qgrid_unfiltered_index\":482,\"AREA\":\"new_orleans_west\",\"DEMIX_TILE\":\"N29ZW091H\",\"LAT\":29.95,\"LONG\":-90.35,\"AVG_ELEV\":1.15,\"AVG_SLOPE\":0.52,\"AVG_ROUGH\":0.37,\"RELIEF\":10.19,\"FOREST_PC\":52.04,\"URBAN_PC\":17.47,\"REF_TYPE\":\"DTM\",\"LAND_TYPE\":\"ALL\",\"LANDTYP_PC\":100.0,\"DEM_LOW_SC\":\"FABDEM-NASA\",\"CRITERION\":\"ELD_MEDIAN\",\"FABDEM\":0.02,\"COP\":0.75,\"ALOS\":1.62,\"NASA\":0.02,\"SRTM\":3.05,\"ASTER\":6.35},{\"index\":504,\"qgrid_unfiltered_index\":504,\"AREA\":\"new_orleans_west\",\"DEMIX_TILE\":\"N29ZW091J\",\"LAT\":29.95,\"LONG\":-90.25,\"AVG_ELEV\":0.88,\"AVG_SLOPE\":0.89,\"AVG_ROUGH\":0.58,\"RELIEF\":36.33,\"FOREST_PC\":35.66,\"URBAN_PC\":32.44,\"REF_TYPE\":\"DTM\",\"LAND_TYPE\":\"ALL\",\"LANDTYP_PC\":100.0,\"DEM_LOW_SC\":\"FABDEM\",\"CRITERION\":\"ELD_AVG\",\"FABDEM\":0.83,\"COP\":2.05,\"ALOS\":2.1,\"NASA\":2.98,\"SRTM\":2.95,\"ASTER\":3.59},{\"index\":505,\"qgrid_unfiltered_index\":505,\"AREA\":\"new_orleans_west\",\"DEMIX_TILE\":\"N29ZW091J\",\"LAT\":29.95,\"LONG\":-90.25,\"AVG_ELEV\":0.88,\"AVG_SLOPE\":0.89,\"AVG_ROUGH\":0.58,\"RELIEF\":36.33,\"FOREST_PC\":35.66,\"URBAN_PC\":32.44,\"REF_TYPE\":\"DTM\",\"LAND_TYPE\":\"ALL\",\"LANDTYP_PC\":100.0,\"DEM_LOW_SC\":\"FABDEM\",\"CRITERION\":\"ELD_STD\",\"FABDEM\":1.41,\"COP\":2.8,\"ALOS\":3.11,\"NASA\":4.19,\"SRTM\":4.14,\"ASTER\":4.74},{\"index\":506,\"qgrid_unfiltered_index\":506,\"AREA\":\"new_orleans_west\",\"DEMIX_TILE\":\"N29ZW091J\",\"LAT\":29.95,\"LONG\":-90.25,\"AVG_ELEV\":0.88,\"AVG_SLOPE\":0.89,\"AVG_ROUGH\":0.58,\"RELIEF\":36.33,\"FOREST_PC\":35.66,\"URBAN_PC\":32.44,\"REF_TYPE\":\"DTM\",\"LAND_TYPE\":\"ALL\",\"LANDTYP_PC\":100.0,\"DEM_LOW_SC\":\"FABDEM\",\"CRITERION\":\"ELD_RMSE\",\"FABDEM\":1.43,\"COP\":3.21,\"ALOS\":3.82,\"NASA\":4.19,\"SRTM\":5.17,\"ASTER\":8.89},{\"index\":507,\"qgrid_unfiltered_index\":507,\"AREA\":\"new_orleans_west\",\"DEMIX_TILE\":\"N29ZW091J\",\"LAT\":29.95,\"LONG\":-90.25,\"AVG_ELEV\":0.88,\"AVG_SLOPE\":0.89,\"AVG_ROUGH\":0.58,\"RELIEF\":36.33,\"FOREST_PC\":35.66,\"URBAN_PC\":32.44,\"REF_TYPE\":\"DTM\",\"LAND_TYPE\":\"ALL\",\"LANDTYP_PC\":100.0,\"DEM_LOW_SC\":\"FABDEM\",\"CRITERION\":\"ELD_MAE\",\"FABDEM\":0.85,\"COP\":2.11,\"ALOS\":2.58,\"NASA\":2.96,\"SRTM\":3.77,\"ASTER\":7.77},{\"index\":508,\"qgrid_unfiltered_index\":508,\"AREA\":\"new_orleans_west\",\"DEMIX_TILE\":\"N29ZW091J\",\"LAT\":29.95,\"LONG\":-90.25,\"AVG_ELEV\":0.88,\"AVG_SLOPE\":0.89,\"AVG_ROUGH\":0.58,\"RELIEF\":36.33,\"FOREST_PC\":35.66,\"URBAN_PC\":32.44,\"REF_TYPE\":\"DTM\",\"LAND_TYPE\":\"ALL\",\"LANDTYP_PC\":100.0,\"DEM_LOW_SC\":\"FABDEM\",\"CRITERION\":\"ELD_LE90\",\"FABDEM\":1.72,\"COP\":5.7,\"ALOS\":6.45,\"NASA\":6.51,\"SRTM\":8.88,\"ASTER\":13.09},{\"index\":509,\"qgrid_unfiltered_index\":509,\"AREA\":\"new_orleans_west\",\"DEMIX_TILE\":\"N29ZW091J\",\"LAT\":29.95,\"LONG\":-90.25,\"AVG_ELEV\":0.88,\"AVG_SLOPE\":0.89,\"AVG_ROUGH\":0.58,\"RELIEF\":36.33,\"FOREST_PC\":35.66,\"URBAN_PC\":32.44,\"REF_TYPE\":\"DTM\",\"LAND_TYPE\":\"ALL\",\"LANDTYP_PC\":100.0,\"DEM_LOW_SC\":\"NASA\",\"CRITERION\":\"ELD_MEAN\",\"FABDEM\":0.25,\"COP\":1.58,\"ALOS\":2.23,\"NASA\":0.14,\"SRTM\":3.1,\"ASTER\":7.53},{\"index\":510,\"qgrid_unfiltered_index\":510,\"AREA\":\"new_orleans_west\",\"DEMIX_TILE\":\"N29ZW091J\",\"LAT\":29.95,\"LONG\":-90.25,\"AVG_ELEV\":0.88,\"AVG_SLOPE\":0.89,\"AVG_ROUGH\":0.58,\"RELIEF\":36.33,\"FOREST_PC\":35.66,\"URBAN_PC\":32.44,\"REF_TYPE\":\"DTM\",\"LAND_TYPE\":\"ALL\",\"LANDTYP_PC\":100.0,\"DEM_LOW_SC\":\"FABDEM\",\"CRITERION\":\"ELD_MEDIAN\",\"FABDEM\":0.23,\"COP\":0.85,\"ALOS\":1.58,\"NASA\":-0.44,\"SRTM\":2.57,\"ASTER\":7.62},{\"index\":539,\"qgrid_unfiltered_index\":539,\"AREA\":\"new_orleans_west\",\"DEMIX_TILE\":\"N29ZW091K\",\"LAT\":29.95,\"LONG\":-90.15,\"AVG_ELEV\":0.63,\"AVG_SLOPE\":0.69,\"AVG_ROUGH\":0.47,\"RELIEF\":15.89,\"FOREST_PC\":12.64,\"URBAN_PC\":66.73,\"REF_TYPE\":\"DTM\",\"LAND_TYPE\":\"ALL\",\"LANDTYP_PC\":100.0,\"DEM_LOW_SC\":\"FABDEM\",\"CRITERION\":\"ELD_AVG\",\"FABDEM\":0.79,\"COP\":1.82,\"ALOS\":1.97,\"NASA\":2.34,\"SRTM\":2.53,\"ASTER\":3.53},{\"index\":540,\"qgrid_unfiltered_index\":540,\"AREA\":\"new_orleans_west\",\"DEMIX_TILE\":\"N29ZW091K\",\"LAT\":29.95,\"LONG\":-90.15,\"AVG_ELEV\":0.63,\"AVG_SLOPE\":0.69,\"AVG_ROUGH\":0.47,\"RELIEF\":15.89,\"FOREST_PC\":12.64,\"URBAN_PC\":66.73,\"REF_TYPE\":\"DTM\",\"LAND_TYPE\":\"ALL\",\"LANDTYP_PC\":100.0,\"DEM_LOW_SC\":\"FABDEM\",\"CRITERION\":\"ELD_STD\",\"FABDEM\":1.13,\"COP\":2.43,\"ALOS\":2.96,\"NASA\":3.15,\"SRTM\":3.36,\"ASTER\":5.65},{\"index\":541,\"qgrid_unfiltered_index\":541,\"AREA\":\"new_orleans_west\",\"DEMIX_TILE\":\"N29ZW091K\",\"LAT\":29.95,\"LONG\":-90.15,\"AVG_ELEV\":0.63,\"AVG_SLOPE\":0.69,\"AVG_ROUGH\":0.47,\"RELIEF\":15.89,\"FOREST_PC\":12.64,\"URBAN_PC\":66.73,\"REF_TYPE\":\"DTM\",\"LAND_TYPE\":\"ALL\",\"LANDTYP_PC\":100.0,\"DEM_LOW_SC\":\"FABDEM\",\"CRITERION\":\"ELD_RMSE\",\"FABDEM\":1.27,\"COP\":3.09,\"ALOS\":4.93,\"NASA\":3.23,\"SRTM\":4.72,\"ASTER\":10.57},{\"index\":542,\"qgrid_unfiltered_index\":542,\"AREA\":\"new_orleans_west\",\"DEMIX_TILE\":\"N29ZW091K\",\"LAT\":29.95,\"LONG\":-90.15,\"AVG_ELEV\":0.63,\"AVG_SLOPE\":0.69,\"AVG_ROUGH\":0.47,\"RELIEF\":15.89,\"FOREST_PC\":12.64,\"URBAN_PC\":66.73,\"REF_TYPE\":\"DTM\",\"LAND_TYPE\":\"ALL\",\"LANDTYP_PC\":100.0,\"DEM_LOW_SC\":\"FABDEM\",\"CRITERION\":\"ELD_MAE\",\"FABDEM\":0.94,\"COP\":2.22,\"ALOS\":4.02,\"NASA\":2.33,\"SRTM\":3.67,\"ASTER\":9.09},{\"index\":543,\"qgrid_unfiltered_index\":543,\"AREA\":\"new_orleans_west\",\"DEMIX_TILE\":\"N29ZW091K\",\"LAT\":29.95,\"LONG\":-90.15,\"AVG_ELEV\":0.63,\"AVG_SLOPE\":0.69,\"AVG_ROUGH\":0.47,\"RELIEF\":15.89,\"FOREST_PC\":12.64,\"URBAN_PC\":66.73,\"REF_TYPE\":\"DTM\",\"LAND_TYPE\":\"ALL\",\"LANDTYP_PC\":100.0,\"DEM_LOW_SC\":\"FABDEM\",\"CRITERION\":\"ELD_LE90\",\"FABDEM\":2.05,\"COP\":5.17,\"ALOS\":7.07,\"NASA\":5.01,\"SRTM\":7.47,\"ASTER\":13.91},{\"index\":544,\"qgrid_unfiltered_index\":544,\"AREA\":\"new_orleans_west\",\"DEMIX_TILE\":\"N29ZW091K\",\"LAT\":29.95,\"LONG\":-90.15,\"AVG_ELEV\":0.63,\"AVG_SLOPE\":0.69,\"AVG_ROUGH\":0.47,\"RELIEF\":15.89,\"FOREST_PC\":12.64,\"URBAN_PC\":66.73,\"REF_TYPE\":\"DTM\",\"LAND_TYPE\":\"ALL\",\"LANDTYP_PC\":100.0,\"DEM_LOW_SC\":\"FABDEM\",\"CRITERION\":\"ELD_MEAN\",\"FABDEM\":0.59,\"COP\":1.92,\"ALOS\":3.94,\"NASA\":0.73,\"SRTM\":3.32,\"ASTER\":8.93},{\"index\":545,\"qgrid_unfiltered_index\":545,\"AREA\":\"new_orleans_west\",\"DEMIX_TILE\":\"N29ZW091K\",\"LAT\":29.95,\"LONG\":-90.15,\"AVG_ELEV\":0.63,\"AVG_SLOPE\":0.69,\"AVG_ROUGH\":0.47,\"RELIEF\":15.89,\"FOREST_PC\":12.64,\"URBAN_PC\":66.73,\"REF_TYPE\":\"DTM\",\"LAND_TYPE\":\"ALL\",\"LANDTYP_PC\":100.0,\"DEM_LOW_SC\":\"NASA\",\"CRITERION\":\"ELD_MEDIAN\",\"FABDEM\":0.51,\"COP\":1.45,\"ALOS\":3.52,\"NASA\":0.31,\"SRTM\":3.03,\"ASTER\":8.76},{\"index\":567,\"qgrid_unfiltered_index\":567,\"AREA\":\"charleston\",\"DEMIX_TILE\":\"N32XW080A\",\"LAT\":32.75,\"LONG\":-79.95,\"AVG_ELEV\":1.43,\"AVG_SLOPE\":0.86,\"AVG_ROUGH\":0.56,\"RELIEF\":11.22,\"FOREST_PC\":23.12,\"URBAN_PC\":27.53,\"REF_TYPE\":\"DTM\",\"LAND_TYPE\":\"ALL\",\"LANDTYP_PC\":100.0,\"DEM_LOW_SC\":\"FABDEM\",\"CRITERION\":\"ELD_AVG\",\"FABDEM\":0.8,\"COP\":2.37,\"ALOS\":2.43,\"NASA\":2.93,\"SRTM\":2.77,\"ASTER\":3.69},{\"index\":568,\"qgrid_unfiltered_index\":568,\"AREA\":\"charleston\",\"DEMIX_TILE\":\"N32XW080A\",\"LAT\":32.75,\"LONG\":-79.95,\"AVG_ELEV\":1.43,\"AVG_SLOPE\":0.86,\"AVG_ROUGH\":0.56,\"RELIEF\":11.22,\"FOREST_PC\":23.12,\"URBAN_PC\":27.53,\"REF_TYPE\":\"DTM\",\"LAND_TYPE\":\"ALL\",\"LANDTYP_PC\":100.0,\"DEM_LOW_SC\":\"FABDEM\",\"CRITERION\":\"ELD_STD\",\"FABDEM\":1.19,\"COP\":3.08,\"ALOS\":3.59,\"NASA\":3.66,\"SRTM\":3.53,\"ASTER\":4.5},{\"index\":569,\"qgrid_unfiltered_index\":569,\"AREA\":\"charleston\",\"DEMIX_TILE\":\"N32XW080A\",\"LAT\":32.75,\"LONG\":-79.95,\"AVG_ELEV\":1.43,\"AVG_SLOPE\":0.86,\"AVG_ROUGH\":0.56,\"RELIEF\":11.22,\"FOREST_PC\":23.12,\"URBAN_PC\":27.53,\"REF_TYPE\":\"DTM\",\"LAND_TYPE\":\"ALL\",\"LANDTYP_PC\":100.0,\"DEM_LOW_SC\":\"FABDEM\",\"CRITERION\":\"ELD_RMSE\",\"FABDEM\":1.67,\"COP\":4.21,\"ALOS\":5.38,\"NASA\":6.22,\"SRTM\":5.48,\"ASTER\":9.01},{\"index\":570,\"qgrid_unfiltered_index\":570,\"AREA\":\"charleston\",\"DEMIX_TILE\":\"N32XW080A\",\"LAT\":32.75,\"LONG\":-79.95,\"AVG_ELEV\":1.43,\"AVG_SLOPE\":0.86,\"AVG_ROUGH\":0.56,\"RELIEF\":11.22,\"FOREST_PC\":23.12,\"URBAN_PC\":27.53,\"REF_TYPE\":\"DTM\",\"LAND_TYPE\":\"ALL\",\"LANDTYP_PC\":100.0,\"DEM_LOW_SC\":\"FABDEM\",\"CRITERION\":\"ELD_MAE\",\"FABDEM\":1.28,\"COP\":2.94,\"ALOS\":4.07,\"NASA\":5.2,\"SRTM\":4.49,\"ASTER\":7.81},{\"index\":571,\"qgrid_unfiltered_index\":571,\"AREA\":\"charleston\",\"DEMIX_TILE\":\"N32XW080A\",\"LAT\":32.75,\"LONG\":-79.95,\"AVG_ELEV\":1.43,\"AVG_SLOPE\":0.86,\"AVG_ROUGH\":0.56,\"RELIEF\":11.22,\"FOREST_PC\":23.12,\"URBAN_PC\":27.53,\"REF_TYPE\":\"DTM\",\"LAND_TYPE\":\"ALL\",\"LANDTYP_PC\":100.0,\"DEM_LOW_SC\":\"FABDEM\",\"CRITERION\":\"ELD_LE90\",\"FABDEM\":2.34,\"COP\":7.16,\"ALOS\":8.28,\"NASA\":9.99,\"SRTM\":8.97,\"ASTER\":13.47},{\"index\":572,\"qgrid_unfiltered_index\":572,\"AREA\":\"charleston\",\"DEMIX_TILE\":\"N32XW080A\",\"LAT\":32.75,\"LONG\":-79.95,\"AVG_ELEV\":1.43,\"AVG_SLOPE\":0.86,\"AVG_ROUGH\":0.56,\"RELIEF\":11.22,\"FOREST_PC\":23.12,\"URBAN_PC\":27.53,\"REF_TYPE\":\"DTM\",\"LAND_TYPE\":\"ALL\",\"LANDTYP_PC\":100.0,\"DEM_LOW_SC\":\"FABDEM\",\"CRITERION\":\"ELD_MEAN\",\"FABDEM\":1.17,\"COP\":2.88,\"ALOS\":4.01,\"NASA\":5.03,\"SRTM\":4.2,\"ASTER\":7.81},{\"index\":573,\"qgrid_unfiltered_index\":573,\"AREA\":\"charleston\",\"DEMIX_TILE\":\"N32XW080A\",\"LAT\":32.75,\"LONG\":-79.95,\"AVG_ELEV\":1.43,\"AVG_SLOPE\":0.86,\"AVG_ROUGH\":0.56,\"RELIEF\":11.22,\"FOREST_PC\":23.12,\"URBAN_PC\":27.53,\"REF_TYPE\":\"DTM\",\"LAND_TYPE\":\"ALL\",\"LANDTYP_PC\":100.0,\"DEM_LOW_SC\":\"FABDEM\",\"CRITERION\":\"ELD_MEDIAN\",\"FABDEM\":1.25,\"COP\":1.52,\"ALOS\":2.76,\"NASA\":4.47,\"SRTM\":3.4,\"ASTER\":8.11},{\"index\":595,\"qgrid_unfiltered_index\":595,\"AREA\":\"charleston\",\"DEMIX_TILE\":\"N32YW080A\",\"LAT\":32.85,\"LONG\":-79.95,\"AVG_ELEV\":2.55,\"AVG_SLOPE\":1.17,\"AVG_ROUGH\":0.79,\"RELIEF\":26.07,\"FOREST_PC\":17.27,\"URBAN_PC\":26.38,\"REF_TYPE\":\"DTM\",\"LAND_TYPE\":\"ALL\",\"LANDTYP_PC\":100.0,\"DEM_LOW_SC\":\"FABDEM\",\"CRITERION\":\"ELD_AVG\",\"FABDEM\":0.89,\"COP\":1.89,\"ALOS\":2.08,\"NASA\":2.95,\"SRTM\":2.86,\"ASTER\":3.19},{\"index\":596,\"qgrid_unfiltered_index\":596,\"AREA\":\"charleston\",\"DEMIX_TILE\":\"N32YW080A\",\"LAT\":32.85,\"LONG\":-79.95,\"AVG_ELEV\":2.55,\"AVG_SLOPE\":1.17,\"AVG_ROUGH\":0.79,\"RELIEF\":26.07,\"FOREST_PC\":17.27,\"URBAN_PC\":26.38,\"REF_TYPE\":\"DTM\",\"LAND_TYPE\":\"ALL\",\"LANDTYP_PC\":100.0,\"DEM_LOW_SC\":\"FABDEM\",\"CRITERION\":\"ELD_STD\",\"FABDEM\":1.31,\"COP\":2.73,\"ALOS\":3.34,\"NASA\":4.65,\"SRTM\":4.48,\"ASTER\":3.95},{\"index\":597,\"qgrid_unfiltered_index\":597,\"AREA\":\"charleston\",\"DEMIX_TILE\":\"N32YW080A\",\"LAT\":32.85,\"LONG\":-79.95,\"AVG_ELEV\":2.55,\"AVG_SLOPE\":1.17,\"AVG_ROUGH\":0.79,\"RELIEF\":26.07,\"FOREST_PC\":17.27,\"URBAN_PC\":26.38,\"REF_TYPE\":\"DTM\",\"LAND_TYPE\":\"ALL\",\"LANDTYP_PC\":100.0,\"DEM_LOW_SC\":\"FABDEM\",\"CRITERION\":\"ELD_RMSE\",\"FABDEM\":1.47,\"COP\":3.27,\"ALOS\":4.79,\"NASA\":4.99,\"SRTM\":5.27,\"ASTER\":8.47},{\"index\":598,\"qgrid_unfiltered_index\":598,\"AREA\":\"charleston\",\"DEMIX_TILE\":\"N32YW080A\",\"LAT\":32.85,\"LONG\":-79.95,\"AVG_ELEV\":2.55,\"AVG_SLOPE\":1.17,\"AVG_ROUGH\":0.79,\"RELIEF\":26.07,\"FOREST_PC\":17.27,\"URBAN_PC\":26.38,\"REF_TYPE\":\"DTM\",\"LAND_TYPE\":\"ALL\",\"LANDTYP_PC\":100.0,\"DEM_LOW_SC\":\"FABDEM\",\"CRITERION\":\"ELD_MAE\",\"FABDEM\":1.03,\"COP\":2.09,\"ALOS\":3.53,\"NASA\":3.49,\"SRTM\":3.85,\"ASTER\":7.51},{\"index\":599,\"qgrid_unfiltered_index\":599,\"AREA\":\"charleston\",\"DEMIX_TILE\":\"N32YW080A\",\"LAT\":32.85,\"LONG\":-79.95,\"AVG_ELEV\":2.55,\"AVG_SLOPE\":1.17,\"AVG_ROUGH\":0.79,\"RELIEF\":26.07,\"FOREST_PC\":17.27,\"URBAN_PC\":26.38,\"REF_TYPE\":\"DTM\",\"LAND_TYPE\":\"ALL\",\"LANDTYP_PC\":100.0,\"DEM_LOW_SC\":\"FABDEM\",\"CRITERION\":\"ELD_LE90\",\"FABDEM\":1.96,\"COP\":5.35,\"ALOS\":6.69,\"NASA\":7.25,\"SRTM\":8.03,\"ASTER\":12.45},{\"index\":600,\"qgrid_unfiltered_index\":600,\"AREA\":\"charleston\",\"DEMIX_TILE\":\"N32YW080A\",\"LAT\":32.85,\"LONG\":-79.95,\"AVG_ELEV\":2.55,\"AVG_SLOPE\":1.17,\"AVG_ROUGH\":0.79,\"RELIEF\":26.07,\"FOREST_PC\":17.27,\"URBAN_PC\":26.38,\"REF_TYPE\":\"DTM\",\"LAND_TYPE\":\"ALL\",\"LANDTYP_PC\":100.0,\"DEM_LOW_SC\":\"FABDEM\",\"CRITERION\":\"ELD_MEAN\",\"FABDEM\":0.67,\"COP\":1.81,\"ALOS\":3.44,\"NASA\":1.8,\"SRTM\":2.77,\"ASTER\":7.49},{\"index\":601,\"qgrid_unfiltered_index\":601,\"AREA\":\"charleston\",\"DEMIX_TILE\":\"N32YW080A\",\"LAT\":32.85,\"LONG\":-79.95,\"AVG_ELEV\":2.55,\"AVG_SLOPE\":1.17,\"AVG_ROUGH\":0.79,\"RELIEF\":26.07,\"FOREST_PC\":17.27,\"URBAN_PC\":26.38,\"REF_TYPE\":\"DTM\",\"LAND_TYPE\":\"ALL\",\"LANDTYP_PC\":100.0,\"DEM_LOW_SC\":\"FABDEM\",\"CRITERION\":\"ELD_MEDIAN\",\"FABDEM\":0.64,\"COP\":1.22,\"ALOS\":2.54,\"NASA\":2.28,\"SRTM\":2.48,\"ASTER\":7.57},{\"index\":630,\"qgrid_unfiltered_index\":630,\"AREA\":\"charleston\",\"DEMIX_TILE\":\"N32YW080B\",\"LAT\":32.85,\"LONG\":-79.85,\"AVG_ELEV\":2.22,\"AVG_SLOPE\":0.95,\"AVG_ROUGH\":0.58,\"RELIEF\":14.85,\"FOREST_PC\":28.68,\"URBAN_PC\":24.24,\"REF_TYPE\":\"DTM\",\"LAND_TYPE\":\"ALL\",\"LANDTYP_PC\":100.0,\"DEM_LOW_SC\":\"FABDEM\",\"CRITERION\":\"ELD_AVG\",\"FABDEM\":0.94,\"COP\":2.72,\"ALOS\":3.36,\"NASA\":3.05,\"SRTM\":2.84,\"ASTER\":3.31},{\"index\":631,\"qgrid_unfiltered_index\":631,\"AREA\":\"charleston\",\"DEMIX_TILE\":\"N32YW080B\",\"LAT\":32.85,\"LONG\":-79.85,\"AVG_ELEV\":2.22,\"AVG_SLOPE\":0.95,\"AVG_ROUGH\":0.58,\"RELIEF\":14.85,\"FOREST_PC\":28.68,\"URBAN_PC\":24.24,\"REF_TYPE\":\"DTM\",\"LAND_TYPE\":\"ALL\",\"LANDTYP_PC\":100.0,\"DEM_LOW_SC\":\"FABDEM\",\"CRITERION\":\"ELD_STD\",\"FABDEM\":1.5,\"COP\":3.56,\"ALOS\":4.55,\"NASA\":3.99,\"SRTM\":3.7,\"ASTER\":4.16},{\"index\":632,\"qgrid_unfiltered_index\":632,\"AREA\":\"charleston\",\"DEMIX_TILE\":\"N32YW080B\",\"LAT\":32.85,\"LONG\":-79.85,\"AVG_ELEV\":2.22,\"AVG_SLOPE\":0.95,\"AVG_ROUGH\":0.58,\"RELIEF\":14.85,\"FOREST_PC\":28.68,\"URBAN_PC\":24.24,\"REF_TYPE\":\"DTM\",\"LAND_TYPE\":\"ALL\",\"LANDTYP_PC\":100.0,\"DEM_LOW_SC\":\"FABDEM\",\"CRITERION\":\"ELD_RMSE\",\"FABDEM\":1.75,\"COP\":4.55,\"ALOS\":6.25,\"NASA\":5.73,\"SRTM\":5.45,\"ASTER\":8.18},{\"index\":633,\"qgrid_unfiltered_index\":633,\"AREA\":\"charleston\",\"DEMIX_TILE\":\"N32YW080B\",\"LAT\":32.85,\"LONG\":-79.85,\"AVG_ELEV\":2.22,\"AVG_SLOPE\":0.95,\"AVG_ROUGH\":0.58,\"RELIEF\":14.85,\"FOREST_PC\":28.68,\"URBAN_PC\":24.24,\"REF_TYPE\":\"DTM\",\"LAND_TYPE\":\"ALL\",\"LANDTYP_PC\":100.0,\"DEM_LOW_SC\":\"FABDEM\",\"CRITERION\":\"ELD_MAE\",\"FABDEM\":1.1,\"COP\":2.98,\"ALOS\":4.42,\"NASA\":4.57,\"SRTM\":4.35,\"ASTER\":7.08},{\"index\":634,\"qgrid_unfiltered_index\":634,\"AREA\":\"charleston\",\"DEMIX_TILE\":\"N32YW080B\",\"LAT\":32.85,\"LONG\":-79.85,\"AVG_ELEV\":2.22,\"AVG_SLOPE\":0.95,\"AVG_ROUGH\":0.58,\"RELIEF\":14.85,\"FOREST_PC\":28.68,\"URBAN_PC\":24.24,\"REF_TYPE\":\"DTM\",\"LAND_TYPE\":\"ALL\",\"LANDTYP_PC\":100.0,\"DEM_LOW_SC\":\"FABDEM\",\"CRITERION\":\"ELD_LE90\",\"FABDEM\":2.11,\"COP\":7.96,\"ALOS\":11.39,\"NASA\":9.27,\"SRTM\":8.88,\"ASTER\":12.41},{\"index\":635,\"qgrid_unfiltered_index\":635,\"AREA\":\"charleston\",\"DEMIX_TILE\":\"N32YW080B\",\"LAT\":32.85,\"LONG\":-79.85,\"AVG_ELEV\":2.22,\"AVG_SLOPE\":0.95,\"AVG_ROUGH\":0.58,\"RELIEF\":14.85,\"FOREST_PC\":28.68,\"URBAN_PC\":24.24,\"REF_TYPE\":\"DTM\",\"LAND_TYPE\":\"ALL\",\"LANDTYP_PC\":100.0,\"DEM_LOW_SC\":\"FABDEM\",\"CRITERION\":\"ELD_MEAN\",\"FABDEM\":0.9,\"COP\":2.83,\"ALOS\":4.28,\"NASA\":4.12,\"SRTM\":4.0,\"ASTER\":7.05},{\"index\":636,\"qgrid_unfiltered_index\":636,\"AREA\":\"charleston\",\"DEMIX_TILE\":\"N32YW080B\",\"LAT\":32.85,\"LONG\":-79.85,\"AVG_ELEV\":2.22,\"AVG_SLOPE\":0.95,\"AVG_ROUGH\":0.58,\"RELIEF\":14.85,\"FOREST_PC\":28.68,\"URBAN_PC\":24.24,\"REF_TYPE\":\"DTM\",\"LAND_TYPE\":\"ALL\",\"LANDTYP_PC\":100.0,\"DEM_LOW_SC\":\"FABDEM\",\"CRITERION\":\"ELD_MEDIAN\",\"FABDEM\":0.73,\"COP\":1.41,\"ALOS\":2.69,\"NASA\":3.54,\"SRTM\":3.34,\"ASTER\":6.76},{\"index\":658,\"qgrid_unfiltered_index\":658,\"AREA\":\"charleston\",\"DEMIX_TILE\":\"N32YW080C\",\"LAT\":32.85,\"LONG\":-79.75,\"AVG_ELEV\":1.31,\"AVG_SLOPE\":0.84,\"AVG_ROUGH\":0.54,\"RELIEF\":14.18,\"FOREST_PC\":26.94,\"URBAN_PC\":6.91,\"REF_TYPE\":\"DTM\",\"LAND_TYPE\":\"ALL\",\"LANDTYP_PC\":100.0,\"DEM_LOW_SC\":\"FABDEM\",\"CRITERION\":\"ELD_AVG\",\"FABDEM\":1.31,\"COP\":3.8,\"ALOS\":3.77,\"NASA\":2.76,\"SRTM\":2.64,\"ASTER\":3.42},{\"index\":659,\"qgrid_unfiltered_index\":659,\"AREA\":\"charleston\",\"DEMIX_TILE\":\"N32YW080C\",\"LAT\":32.85,\"LONG\":-79.75,\"AVG_ELEV\":1.31,\"AVG_SLOPE\":0.84,\"AVG_ROUGH\":0.54,\"RELIEF\":14.18,\"FOREST_PC\":26.94,\"URBAN_PC\":6.91,\"REF_TYPE\":\"DTM\",\"LAND_TYPE\":\"ALL\",\"LANDTYP_PC\":100.0,\"DEM_LOW_SC\":\"FABDEM\",\"CRITERION\":\"ELD_STD\",\"FABDEM\":2.33,\"COP\":4.78,\"ALOS\":4.91,\"NASA\":3.38,\"SRTM\":3.29,\"ASTER\":4.34},{\"index\":660,\"qgrid_unfiltered_index\":660,\"AREA\":\"charleston\",\"DEMIX_TILE\":\"N32YW080C\",\"LAT\":32.85,\"LONG\":-79.75,\"AVG_ELEV\":1.31,\"AVG_SLOPE\":0.84,\"AVG_ROUGH\":0.54,\"RELIEF\":14.18,\"FOREST_PC\":26.94,\"URBAN_PC\":6.91,\"REF_TYPE\":\"DTM\",\"LAND_TYPE\":\"ALL\",\"LANDTYP_PC\":100.0,\"DEM_LOW_SC\":\"FABDEM\",\"CRITERION\":\"ELD_RMSE\",\"FABDEM\":2.58,\"COP\":5.78,\"ALOS\":6.74,\"NASA\":5.99,\"SRTM\":5.25,\"ASTER\":7.26},{\"index\":661,\"qgrid_unfiltered_index\":661,\"AREA\":\"charleston\",\"DEMIX_TILE\":\"N32YW080C\",\"LAT\":32.85,\"LONG\":-79.75,\"AVG_ELEV\":1.31,\"AVG_SLOPE\":0.84,\"AVG_ROUGH\":0.54,\"RELIEF\":14.18,\"FOREST_PC\":26.94,\"URBAN_PC\":6.91,\"REF_TYPE\":\"DTM\",\"LAND_TYPE\":\"ALL\",\"LANDTYP_PC\":100.0,\"DEM_LOW_SC\":\"FABDEM\",\"CRITERION\":\"ELD_MAE\",\"FABDEM\":1.36,\"COP\":3.47,\"ALOS\":4.7,\"NASA\":5.03,\"SRTM\":4.24,\"ASTER\":5.82},{\"index\":662,\"qgrid_unfiltered_index\":662,\"AREA\":\"charleston\",\"DEMIX_TILE\":\"N32YW080C\",\"LAT\":32.85,\"LONG\":-79.75,\"AVG_ELEV\":1.31,\"AVG_SLOPE\":0.84,\"AVG_ROUGH\":0.54,\"RELIEF\":14.18,\"FOREST_PC\":26.94,\"URBAN_PC\":6.91,\"REF_TYPE\":\"DTM\",\"LAND_TYPE\":\"ALL\",\"LANDTYP_PC\":100.0,\"DEM_LOW_SC\":\"FABDEM\",\"CRITERION\":\"ELD_LE90\",\"FABDEM\":2.52,\"COP\":11.92,\"ALOS\":13.57,\"NASA\":9.77,\"SRTM\":8.89,\"ASTER\":11.5},{\"index\":663,\"qgrid_unfiltered_index\":663,\"AREA\":\"charleston\",\"DEMIX_TILE\":\"N32YW080C\",\"LAT\":32.85,\"LONG\":-79.75,\"AVG_ELEV\":1.31,\"AVG_SLOPE\":0.84,\"AVG_ROUGH\":0.54,\"RELIEF\":14.18,\"FOREST_PC\":26.94,\"URBAN_PC\":6.91,\"REF_TYPE\":\"DTM\",\"LAND_TYPE\":\"ALL\",\"LANDTYP_PC\":100.0,\"DEM_LOW_SC\":\"FABDEM\",\"CRITERION\":\"ELD_MEAN\",\"FABDEM\":1.1,\"COP\":3.25,\"ALOS\":4.61,\"NASA\":4.95,\"SRTM\":4.09,\"ASTER\":5.81},{\"index\":664,\"qgrid_unfiltered_index\":664,\"AREA\":\"charleston\",\"DEMIX_TILE\":\"N32YW080C\",\"LAT\":32.85,\"LONG\":-79.75,\"AVG_ELEV\":1.31,\"AVG_SLOPE\":0.84,\"AVG_ROUGH\":0.54,\"RELIEF\":14.18,\"FOREST_PC\":26.94,\"URBAN_PC\":6.91,\"REF_TYPE\":\"DTM\",\"LAND_TYPE\":\"ALL\",\"LANDTYP_PC\":100.0,\"DEM_LOW_SC\":\"FABDEM\",\"CRITERION\":\"ELD_MEDIAN\",\"FABDEM\":0.62,\"COP\":1.18,\"ALOS\":2.7,\"NASA\":4.13,\"SRTM\":2.87,\"ASTER\":5.02},{\"index\":686,\"qgrid_unfiltered_index\":686,\"AREA\":\"almeria\",\"DEMIX_TILE\":\"N36XW003C\",\"LAT\":36.75,\"LONG\":-2.75,\"AVG_ELEV\":66.27,\"AVG_SLOPE\":3.87,\"AVG_ROUGH\":1.71,\"RELIEF\":208.5,\"FOREST_PC\":2.69,\"URBAN_PC\":28.19,\"REF_TYPE\":\"DTM\",\"LAND_TYPE\":\"ALL\",\"LANDTYP_PC\":100.0,\"DEM_LOW_SC\":\"FABDEM\",\"CRITERION\":\"ELD_AVG\",\"FABDEM\":1.18,\"COP\":1.26,\"ALOS\":1.52,\"NASA\":1.63,\"SRTM\":1.62,\"ASTER\":3.66},{\"index\":687,\"qgrid_unfiltered_index\":687,\"AREA\":\"almeria\",\"DEMIX_TILE\":\"N36XW003C\",\"LAT\":36.75,\"LONG\":-2.75,\"AVG_ELEV\":66.27,\"AVG_SLOPE\":3.87,\"AVG_ROUGH\":1.71,\"RELIEF\":208.5,\"FOREST_PC\":2.69,\"URBAN_PC\":28.19,\"REF_TYPE\":\"DTM\",\"LAND_TYPE\":\"ALL\",\"LANDTYP_PC\":100.0,\"DEM_LOW_SC\":\"FABDEM\",\"CRITERION\":\"ELD_STD\",\"FABDEM\":1.67,\"COP\":1.79,\"ALOS\":2.07,\"NASA\":2.25,\"SRTM\":2.23,\"ASTER\":4.85},{\"index\":688,\"qgrid_unfiltered_index\":688,\"AREA\":\"almeria\",\"DEMIX_TILE\":\"N36XW003C\",\"LAT\":36.75,\"LONG\":-2.75,\"AVG_ELEV\":66.27,\"AVG_SLOPE\":3.87,\"AVG_ROUGH\":1.71,\"RELIEF\":208.5,\"FOREST_PC\":2.69,\"URBAN_PC\":28.19,\"REF_TYPE\":\"DTM\",\"LAND_TYPE\":\"ALL\",\"LANDTYP_PC\":100.0,\"DEM_LOW_SC\":\"FABDEM\",\"CRITERION\":\"ELD_RMSE\",\"FABDEM\":1.69,\"COP\":1.82,\"ALOS\":2.07,\"NASA\":2.35,\"SRTM\":2.24,\"ASTER\":7.72},{\"index\":689,\"qgrid_unfiltered_index\":689,\"AREA\":\"almeria\",\"DEMIX_TILE\":\"N36XW003C\",\"LAT\":36.75,\"LONG\":-2.75,\"AVG_ELEV\":66.27,\"AVG_SLOPE\":3.87,\"AVG_ROUGH\":1.71,\"RELIEF\":208.5,\"FOREST_PC\":2.69,\"URBAN_PC\":28.19,\"REF_TYPE\":\"DTM\",\"LAND_TYPE\":\"ALL\",\"LANDTYP_PC\":100.0,\"DEM_LOW_SC\":\"FABDEM\",\"CRITERION\":\"ELD_MAE\",\"FABDEM\":1.21,\"COP\":1.3,\"ALOS\":1.52,\"NASA\":1.76,\"SRTM\":1.64,\"ASTER\":6.56},{\"index\":690,\"qgrid_unfiltered_index\":690,\"AREA\":\"almeria\",\"DEMIX_TILE\":\"N36XW003C\",\"LAT\":36.75,\"LONG\":-2.75,\"AVG_ELEV\":66.27,\"AVG_SLOPE\":3.87,\"AVG_ROUGH\":1.71,\"RELIEF\":208.5,\"FOREST_PC\":2.69,\"URBAN_PC\":28.19,\"REF_TYPE\":\"DTM\",\"LAND_TYPE\":\"ALL\",\"LANDTYP_PC\":100.0,\"DEM_LOW_SC\":\"FABDEM\",\"CRITERION\":\"ELD_LE90\",\"FABDEM\":2.43,\"COP\":2.6,\"ALOS\":3.12,\"NASA\":3.57,\"SRTM\":3.4,\"ASTER\":11.77},{\"index\":691,\"qgrid_unfiltered_index\":691,\"AREA\":\"almeria\",\"DEMIX_TILE\":\"N36XW003C\",\"LAT\":36.75,\"LONG\":-2.75,\"AVG_ELEV\":66.27,\"AVG_SLOPE\":3.87,\"AVG_ROUGH\":1.71,\"RELIEF\":208.5,\"FOREST_PC\":2.69,\"URBAN_PC\":28.19,\"REF_TYPE\":\"DTM\",\"LAND_TYPE\":\"ALL\",\"LANDTYP_PC\":100.0,\"DEM_LOW_SC\":\"SRTM\",\"CRITERION\":\"ELD_MEAN\",\"FABDEM\":0.23,\"COP\":0.33,\"ALOS\":-0.07,\"NASA\":0.68,\"SRTM\":0.21,\"ASTER\":-6.01},{\"index\":692,\"qgrid_unfiltered_index\":692,\"AREA\":\"almeria\",\"DEMIX_TILE\":\"N36XW003C\",\"LAT\":36.75,\"LONG\":-2.75,\"AVG_ELEV\":66.27,\"AVG_SLOPE\":3.87,\"AVG_ROUGH\":1.71,\"RELIEF\":208.5,\"FOREST_PC\":2.69,\"URBAN_PC\":28.19,\"REF_TYPE\":\"DTM\",\"LAND_TYPE\":\"ALL\",\"LANDTYP_PC\":100.0,\"DEM_LOW_SC\":\"SRTM\",\"CRITERION\":\"ELD_MEDIAN\",\"FABDEM\":0.36,\"COP\":0.41,\"ALOS\":-0.07,\"NASA\":0.79,\"SRTM\":0.33,\"ASTER\":-6.05},{\"index\":770,\"qgrid_unfiltered_index\":770,\"AREA\":\"almeria\",\"DEMIX_TILE\":\"N36XW003D\",\"LAT\":36.75,\"LONG\":-2.65,\"AVG_ELEV\":42.15,\"AVG_SLOPE\":2.94,\"AVG_ROUGH\":1.34,\"RELIEF\":208.42,\"FOREST_PC\":1.17,\"URBAN_PC\":14.27,\"REF_TYPE\":\"DTM\",\"LAND_TYPE\":\"ALL\",\"LANDTYP_PC\":100.0,\"DEM_LOW_SC\":\"FABDEM\",\"CRITERION\":\"ELD_AVG\",\"FABDEM\":0.96,\"COP\":1.11,\"ALOS\":1.49,\"NASA\":1.47,\"SRTM\":1.45,\"ASTER\":5.13},{\"index\":771,\"qgrid_unfiltered_index\":771,\"AREA\":\"almeria\",\"DEMIX_TILE\":\"N36XW003D\",\"LAT\":36.75,\"LONG\":-2.65,\"AVG_ELEV\":42.15,\"AVG_SLOPE\":2.94,\"AVG_ROUGH\":1.34,\"RELIEF\":208.42,\"FOREST_PC\":1.17,\"URBAN_PC\":14.27,\"REF_TYPE\":\"DTM\",\"LAND_TYPE\":\"ALL\",\"LANDTYP_PC\":100.0,\"DEM_LOW_SC\":\"FABDEM\",\"CRITERION\":\"ELD_STD\",\"FABDEM\":1.32,\"COP\":1.65,\"ALOS\":2.05,\"NASA\":2.05,\"SRTM\":2.01,\"ASTER\":6.41},{\"index\":772,\"qgrid_unfiltered_index\":772,\"AREA\":\"almeria\",\"DEMIX_TILE\":\"N36XW003D\",\"LAT\":36.75,\"LONG\":-2.65,\"AVG_ELEV\":42.15,\"AVG_SLOPE\":2.94,\"AVG_ROUGH\":1.34,\"RELIEF\":208.42,\"FOREST_PC\":1.17,\"URBAN_PC\":14.27,\"REF_TYPE\":\"DTM\",\"LAND_TYPE\":\"ALL\",\"LANDTYP_PC\":100.0,\"DEM_LOW_SC\":\"FABDEM\",\"CRITERION\":\"ELD_RMSE\",\"FABDEM\":1.32,\"COP\":1.68,\"ALOS\":2.11,\"NASA\":2.18,\"SRTM\":2.02,\"ASTER\":7.06},{\"index\":773,\"qgrid_unfiltered_index\":773,\"AREA\":\"almeria\",\"DEMIX_TILE\":\"N36XW003D\",\"LAT\":36.75,\"LONG\":-2.65,\"AVG_ELEV\":42.15,\"AVG_SLOPE\":2.94,\"AVG_ROUGH\":1.34,\"RELIEF\":208.42,\"FOREST_PC\":1.17,\"URBAN_PC\":14.27,\"REF_TYPE\":\"DTM\",\"LAND_TYPE\":\"ALL\",\"LANDTYP_PC\":100.0,\"DEM_LOW_SC\":\"FABDEM\",\"CRITERION\":\"ELD_MAE\",\"FABDEM\":0.96,\"COP\":1.14,\"ALOS\":1.58,\"NASA\":1.61,\"SRTM\":1.47,\"ASTER\":5.84},{\"index\":774,\"qgrid_unfiltered_index\":774,\"AREA\":\"almeria\",\"DEMIX_TILE\":\"N36XW003D\",\"LAT\":36.75,\"LONG\":-2.65,\"AVG_ELEV\":42.15,\"AVG_SLOPE\":2.94,\"AVG_ROUGH\":1.34,\"RELIEF\":208.42,\"FOREST_PC\":1.17,\"URBAN_PC\":14.27,\"REF_TYPE\":\"DTM\",\"LAND_TYPE\":\"ALL\",\"LANDTYP_PC\":100.0,\"DEM_LOW_SC\":\"FABDEM\",\"CRITERION\":\"ELD_LE90\",\"FABDEM\":1.92,\"COP\":2.24,\"ALOS\":3.05,\"NASA\":3.15,\"SRTM\":2.95,\"ASTER\":11.02},{\"index\":775,\"qgrid_unfiltered_index\":775,\"AREA\":\"almeria\",\"DEMIX_TILE\":\"N36XW003D\",\"LAT\":36.75,\"LONG\":-2.65,\"AVG_ELEV\":42.15,\"AVG_SLOPE\":2.94,\"AVG_ROUGH\":1.34,\"RELIEF\":208.42,\"FOREST_PC\":1.17,\"URBAN_PC\":14.27,\"REF_TYPE\":\"DTM\",\"LAND_TYPE\":\"ALL\",\"LANDTYP_PC\":100.0,\"DEM_LOW_SC\":\"SRTM\",\"CRITERION\":\"ELD_MEAN\",\"FABDEM\":0.0,\"COP\":0.29,\"ALOS\":-0.52,\"NASA\":0.73,\"SRTM\":0.18,\"ASTER\":-2.95},{\"index\":776,\"qgrid_unfiltered_index\":776,\"AREA\":\"almeria\",\"DEMIX_TILE\":\"N36XW003D\",\"LAT\":36.75,\"LONG\":-2.65,\"AVG_ELEV\":42.15,\"AVG_SLOPE\":2.94,\"AVG_ROUGH\":1.34,\"RELIEF\":208.42,\"FOREST_PC\":1.17,\"URBAN_PC\":14.27,\"REF_TYPE\":\"DTM\",\"LAND_TYPE\":\"ALL\",\"LANDTYP_PC\":100.0,\"DEM_LOW_SC\":\"FABDEM\",\"CRITERION\":\"ELD_MEDIAN\",\"FABDEM\":0.11,\"COP\":0.28,\"ALOS\":-0.66,\"NASA\":0.79,\"SRTM\":0.27,\"ASTER\":-3.65},{\"index\":854,\"qgrid_unfiltered_index\":854,\"AREA\":\"almeria\",\"DEMIX_TILE\":\"N36YW003C\",\"LAT\":36.85,\"LONG\":-2.75,\"AVG_ELEV\":981.06,\"AVG_SLOPE\":41.32,\"AVG_ROUGH\":9.86,\"RELIEF\":2028.9,\"FOREST_PC\":51.32,\"URBAN_PC\":0.28,\"REF_TYPE\":\"DTM\",\"LAND_TYPE\":\"ALL\",\"LANDTYP_PC\":100.0,\"DEM_LOW_SC\":\"ALOS\",\"CRITERION\":\"ELD_AVG\",\"FABDEM\":7.79,\"COP\":7.5,\"ALOS\":1.74,\"NASA\":8.07,\"SRTM\":7.89,\"ASTER\":10.89},{\"index\":855,\"qgrid_unfiltered_index\":855,\"AREA\":\"almeria\",\"DEMIX_TILE\":\"N36YW003C\",\"LAT\":36.85,\"LONG\":-2.75,\"AVG_ELEV\":981.06,\"AVG_SLOPE\":41.32,\"AVG_ROUGH\":9.86,\"RELIEF\":2028.9,\"FOREST_PC\":51.32,\"URBAN_PC\":0.28,\"REF_TYPE\":\"DTM\",\"LAND_TYPE\":\"ALL\",\"LANDTYP_PC\":100.0,\"DEM_LOW_SC\":\"ALOS\",\"CRITERION\":\"ELD_STD\",\"FABDEM\":10.12,\"COP\":9.63,\"ALOS\":2.64,\"NASA\":10.5,\"SRTM\":10.35,\"ASTER\":14.5},{\"index\":856,\"qgrid_unfiltered_index\":856,\"AREA\":\"almeria\",\"DEMIX_TILE\":\"N36YW003C\",\"LAT\":36.85,\"LONG\":-2.75,\"AVG_ELEV\":981.06,\"AVG_SLOPE\":41.32,\"AVG_ROUGH\":9.86,\"RELIEF\":2028.9,\"FOREST_PC\":51.32,\"URBAN_PC\":0.28,\"REF_TYPE\":\"DTM\",\"LAND_TYPE\":\"ALL\",\"LANDTYP_PC\":100.0,\"DEM_LOW_SC\":\"ALOS\",\"CRITERION\":\"ELD_RMSE\",\"FABDEM\":10.63,\"COP\":10.4,\"ALOS\":2.65,\"NASA\":11.9,\"SRTM\":11.23,\"ASTER\":14.83},{\"index\":857,\"qgrid_unfiltered_index\":857,\"AREA\":\"almeria\",\"DEMIX_TILE\":\"N36YW003C\",\"LAT\":36.85,\"LONG\":-2.75,\"AVG_ELEV\":981.06,\"AVG_SLOPE\":41.32,\"AVG_ROUGH\":9.86,\"RELIEF\":2028.9,\"FOREST_PC\":51.32,\"URBAN_PC\":0.28,\"REF_TYPE\":\"DTM\",\"LAND_TYPE\":\"ALL\",\"LANDTYP_PC\":100.0,\"DEM_LOW_SC\":\"ALOS\",\"CRITERION\":\"ELD_MAE\",\"FABDEM\":8.31,\"COP\":8.18,\"ALOS\":1.73,\"NASA\":9.36,\"SRTM\":8.72,\"ASTER\":11.12},{\"index\":858,\"qgrid_unfiltered_index\":858,\"AREA\":\"almeria\",\"DEMIX_TILE\":\"N36YW003C\",\"LAT\":36.85,\"LONG\":-2.75,\"AVG_ELEV\":981.06,\"AVG_SLOPE\":41.32,\"AVG_ROUGH\":9.86,\"RELIEF\":2028.9,\"FOREST_PC\":51.32,\"URBAN_PC\":0.28,\"REF_TYPE\":\"DTM\",\"LAND_TYPE\":\"ALL\",\"LANDTYP_PC\":100.0,\"DEM_LOW_SC\":\"ALOS\",\"CRITERION\":\"ELD_LE90\",\"FABDEM\":17.23,\"COP\":16.89,\"ALOS\":3.6,\"NASA\":19.15,\"SRTM\":18.11,\"ASTER\":23.59},{\"index\":859,\"qgrid_unfiltered_index\":859,\"AREA\":\"almeria\",\"DEMIX_TILE\":\"N36YW003C\",\"LAT\":36.85,\"LONG\":-2.75,\"AVG_ELEV\":981.06,\"AVG_SLOPE\":41.32,\"AVG_ROUGH\":9.86,\"RELIEF\":2028.9,\"FOREST_PC\":51.32,\"URBAN_PC\":0.28,\"REF_TYPE\":\"DTM\",\"LAND_TYPE\":\"ALL\",\"LANDTYP_PC\":100.0,\"DEM_LOW_SC\":\"ALOS\",\"CRITERION\":\"ELD_MEAN\",\"FABDEM\":3.25,\"COP\":3.91,\"ALOS\":0.13,\"NASA\":5.6,\"SRTM\":4.36,\"ASTER\":3.14},{\"index\":860,\"qgrid_unfiltered_index\":860,\"AREA\":\"almeria\",\"DEMIX_TILE\":\"N36YW003C\",\"LAT\":36.85,\"LONG\":-2.75,\"AVG_ELEV\":981.06,\"AVG_SLOPE\":41.32,\"AVG_ROUGH\":9.86,\"RELIEF\":2028.9,\"FOREST_PC\":51.32,\"URBAN_PC\":0.28,\"REF_TYPE\":\"DTM\",\"LAND_TYPE\":\"ALL\",\"LANDTYP_PC\":100.0,\"DEM_LOW_SC\":\"ASTER\",\"CRITERION\":\"ELD_MEDIAN\",\"FABDEM\":3.09,\"COP\":3.58,\"ALOS\":-0.08,\"NASA\":5.24,\"SRTM\":4.1,\"ASTER\":2.75},{\"index\":952,\"qgrid_unfiltered_index\":952,\"AREA\":\"almeria\",\"DEMIX_TILE\":\"N36YW003D\",\"LAT\":36.85,\"LONG\":-2.65,\"AVG_ELEV\":583.85,\"AVG_SLOPE\":32.24,\"AVG_ROUGH\":9.32,\"RELIEF\":1336.99,\"FOREST_PC\":8.95,\"URBAN_PC\":3.88,\"REF_TYPE\":\"DTM\",\"LAND_TYPE\":\"ALL\",\"LANDTYP_PC\":100.0,\"DEM_LOW_SC\":\"ALOS\",\"CRITERION\":\"ELD_AVG\",\"FABDEM\":5.83,\"COP\":5.76,\"ALOS\":1.64,\"NASA\":6.51,\"SRTM\":6.35,\"ASTER\":8.53},{\"index\":953,\"qgrid_unfiltered_index\":953,\"AREA\":\"almeria\",\"DEMIX_TILE\":\"N36YW003D\",\"LAT\":36.85,\"LONG\":-2.65,\"AVG_ELEV\":583.85,\"AVG_SLOPE\":32.24,\"AVG_ROUGH\":9.32,\"RELIEF\":1336.99,\"FOREST_PC\":8.95,\"URBAN_PC\":3.88,\"REF_TYPE\":\"DTM\",\"LAND_TYPE\":\"ALL\",\"LANDTYP_PC\":100.0,\"DEM_LOW_SC\":\"ALOS\",\"CRITERION\":\"ELD_STD\",\"FABDEM\":7.69,\"COP\":7.59,\"ALOS\":2.3,\"NASA\":8.64,\"SRTM\":8.47,\"ASTER\":11.36},{\"index\":954,\"qgrid_unfiltered_index\":954,\"AREA\":\"almeria\",\"DEMIX_TILE\":\"N36YW003D\",\"LAT\":36.85,\"LONG\":-2.65,\"AVG_ELEV\":583.85,\"AVG_SLOPE\":32.24,\"AVG_ROUGH\":9.32,\"RELIEF\":1336.99,\"FOREST_PC\":8.95,\"URBAN_PC\":3.88,\"REF_TYPE\":\"DTM\",\"LAND_TYPE\":\"ALL\",\"LANDTYP_PC\":100.0,\"DEM_LOW_SC\":\"ALOS\",\"CRITERION\":\"ELD_RMSE\",\"FABDEM\":8.14,\"COP\":8.12,\"ALOS\":2.36,\"NASA\":9.38,\"SRTM\":8.88,\"ASTER\":11.36},{\"index\":955,\"qgrid_unfiltered_index\":955,\"AREA\":\"almeria\",\"DEMIX_TILE\":\"N36YW003D\",\"LAT\":36.85,\"LONG\":-2.65,\"AVG_ELEV\":583.85,\"AVG_SLOPE\":32.24,\"AVG_ROUGH\":9.32,\"RELIEF\":1336.99,\"FOREST_PC\":8.95,\"URBAN_PC\":3.88,\"REF_TYPE\":\"DTM\",\"LAND_TYPE\":\"ALL\",\"LANDTYP_PC\":100.0,\"DEM_LOW_SC\":\"ALOS\",\"CRITERION\":\"ELD_MAE\",\"FABDEM\":6.13,\"COP\":6.18,\"ALOS\":1.72,\"NASA\":7.18,\"SRTM\":6.72,\"ASTER\":8.52},{\"index\":956,\"qgrid_unfiltered_index\":956,\"AREA\":\"almeria\",\"DEMIX_TILE\":\"N36YW003D\",\"LAT\":36.85,\"LONG\":-2.65,\"AVG_ELEV\":583.85,\"AVG_SLOPE\":32.24,\"AVG_ROUGH\":9.32,\"RELIEF\":1336.99,\"FOREST_PC\":8.95,\"URBAN_PC\":3.88,\"REF_TYPE\":\"DTM\",\"LAND_TYPE\":\"ALL\",\"LANDTYP_PC\":100.0,\"DEM_LOW_SC\":\"ALOS\",\"CRITERION\":\"ELD_LE90\",\"FABDEM\":13.63,\"COP\":13.5,\"ALOS\":3.5,\"NASA\":15.57,\"SRTM\":14.71,\"ASTER\":18.5},{\"index\":957,\"qgrid_unfiltered_index\":957,\"AREA\":\"almeria\",\"DEMIX_TILE\":\"N36YW003D\",\"LAT\":36.85,\"LONG\":-2.65,\"AVG_ELEV\":583.85,\"AVG_SLOPE\":32.24,\"AVG_ROUGH\":9.32,\"RELIEF\":1336.99,\"FOREST_PC\":8.95,\"URBAN_PC\":3.88,\"REF_TYPE\":\"DTM\",\"LAND_TYPE\":\"ALL\",\"LANDTYP_PC\":100.0,\"DEM_LOW_SC\":\"ASTER\",\"CRITERION\":\"ELD_MEAN\",\"FABDEM\":2.68,\"COP\":2.87,\"ALOS\":-0.52,\"NASA\":3.66,\"SRTM\":2.66,\"ASTER\":0.3},{\"index\":958,\"qgrid_unfiltered_index\":958,\"AREA\":\"almeria\",\"DEMIX_TILE\":\"N36YW003D\",\"LAT\":36.85,\"LONG\":-2.65,\"AVG_ELEV\":583.85,\"AVG_SLOPE\":32.24,\"AVG_ROUGH\":9.32,\"RELIEF\":1336.99,\"FOREST_PC\":8.95,\"URBAN_PC\":3.88,\"REF_TYPE\":\"DTM\",\"LAND_TYPE\":\"ALL\",\"LANDTYP_PC\":100.0,\"DEM_LOW_SC\":\"FABDEM\",\"CRITERION\":\"ELD_MEDIAN\",\"FABDEM\":2.09,\"COP\":2.43,\"ALOS\":-0.65,\"NASA\":3.26,\"SRTM\":2.39,\"ASTER\":-0.24},{\"index\":1050,\"qgrid_unfiltered_index\":1050,\"AREA\":\"almeria\",\"DEMIX_TILE\":\"N36YW003F\",\"LAT\":36.85,\"LONG\":-2.55,\"AVG_ELEV\":498.77,\"AVG_SLOPE\":30.6,\"AVG_ROUGH\":9.74,\"RELIEF\":1084.99,\"FOREST_PC\":1.66,\"URBAN_PC\":4.44,\"REF_TYPE\":\"DTM\",\"LAND_TYPE\":\"ALL\",\"LANDTYP_PC\":100.0,\"DEM_LOW_SC\":\"ALOS\",\"CRITERION\":\"ELD_AVG\",\"FABDEM\":6.14,\"COP\":6.17,\"ALOS\":1.59,\"NASA\":6.62,\"SRTM\":6.55,\"ASTER\":9.28},{\"index\":1051,\"qgrid_unfiltered_index\":1051,\"AREA\":\"almeria\",\"DEMIX_TILE\":\"N36YW003F\",\"LAT\":36.85,\"LONG\":-2.55,\"AVG_ELEV\":498.77,\"AVG_SLOPE\":30.6,\"AVG_ROUGH\":9.74,\"RELIEF\":1084.99,\"FOREST_PC\":1.66,\"URBAN_PC\":4.44,\"REF_TYPE\":\"DTM\",\"LAND_TYPE\":\"ALL\",\"LANDTYP_PC\":100.0,\"DEM_LOW_SC\":\"ALOS\",\"CRITERION\":\"ELD_STD\",\"FABDEM\":8.11,\"COP\":8.12,\"ALOS\":2.4,\"NASA\":8.77,\"SRTM\":8.7,\"ASTER\":12.27},{\"index\":1052,\"qgrid_unfiltered_index\":1052,\"AREA\":\"almeria\",\"DEMIX_TILE\":\"N36YW003F\",\"LAT\":36.85,\"LONG\":-2.55,\"AVG_ELEV\":498.77,\"AVG_SLOPE\":30.6,\"AVG_ROUGH\":9.74,\"RELIEF\":1084.99,\"FOREST_PC\":1.66,\"URBAN_PC\":4.44,\"REF_TYPE\":\"DTM\",\"LAND_TYPE\":\"ALL\",\"LANDTYP_PC\":100.0,\"DEM_LOW_SC\":\"ALOS\",\"CRITERION\":\"ELD_RMSE\",\"FABDEM\":8.34,\"COP\":8.39,\"ALOS\":2.61,\"NASA\":9.07,\"SRTM\":8.81,\"ASTER\":12.35},{\"index\":1053,\"qgrid_unfiltered_index\":1053,\"AREA\":\"almeria\",\"DEMIX_TILE\":\"N36YW003F\",\"LAT\":36.85,\"LONG\":-2.55,\"AVG_ELEV\":498.77,\"AVG_SLOPE\":30.6,\"AVG_ROUGH\":9.74,\"RELIEF\":1084.99,\"FOREST_PC\":1.66,\"URBAN_PC\":4.44,\"REF_TYPE\":\"DTM\",\"LAND_TYPE\":\"ALL\",\"LANDTYP_PC\":100.0,\"DEM_LOW_SC\":\"ALOS\",\"CRITERION\":\"ELD_MAE\",\"FABDEM\":6.21,\"COP\":6.35,\"ALOS\":1.88,\"NASA\":6.86,\"SRTM\":6.64,\"ASTER\":9.36},{\"index\":1054,\"qgrid_unfiltered_index\":1054,\"AREA\":\"almeria\",\"DEMIX_TILE\":\"N36YW003F\",\"LAT\":36.85,\"LONG\":-2.55,\"AVG_ELEV\":498.77,\"AVG_SLOPE\":30.6,\"AVG_ROUGH\":9.74,\"RELIEF\":1084.99,\"FOREST_PC\":1.66,\"URBAN_PC\":4.44,\"REF_TYPE\":\"DTM\",\"LAND_TYPE\":\"ALL\",\"LANDTYP_PC\":100.0,\"DEM_LOW_SC\":\"ALOS\",\"CRITERION\":\"ELD_LE90\",\"FABDEM\":13.75,\"COP\":13.78,\"ALOS\":3.7,\"NASA\":14.92,\"SRTM\":14.5,\"ASTER\":20.03},{\"index\":1055,\"qgrid_unfiltered_index\":1055,\"AREA\":\"almeria\",\"DEMIX_TILE\":\"N36YW003F\",\"LAT\":36.85,\"LONG\":-2.55,\"AVG_ELEV\":498.77,\"AVG_SLOPE\":30.6,\"AVG_ROUGH\":9.74,\"RELIEF\":1084.99,\"FOREST_PC\":1.66,\"URBAN_PC\":4.44,\"REF_TYPE\":\"DTM\",\"LAND_TYPE\":\"ALL\",\"LANDTYP_PC\":100.0,\"DEM_LOW_SC\":\"SRTM\",\"CRITERION\":\"ELD_MEAN\",\"FABDEM\":1.94,\"COP\":2.11,\"ALOS\":-1.01,\"NASA\":2.3,\"SRTM\":1.43,\"ASTER\":-1.46},{\"index\":1056,\"qgrid_unfiltered_index\":1056,\"AREA\":\"almeria\",\"DEMIX_TILE\":\"N36YW003F\",\"LAT\":36.85,\"LONG\":-2.55,\"AVG_ELEV\":498.77,\"AVG_SLOPE\":30.6,\"AVG_ROUGH\":9.74,\"RELIEF\":1084.99,\"FOREST_PC\":1.66,\"URBAN_PC\":4.44,\"REF_TYPE\":\"DTM\",\"LAND_TYPE\":\"ALL\",\"LANDTYP_PC\":100.0,\"DEM_LOW_SC\":\"FABDEM\",\"CRITERION\":\"ELD_MEDIAN\",\"FABDEM\":1.17,\"COP\":1.71,\"ALOS\":-1.14,\"NASA\":2.05,\"SRTM\":1.26,\"ASTER\":-1.44},{\"index\":1148,\"qgrid_unfiltered_index\":1148,\"AREA\":\"almeria\",\"DEMIX_TILE\":\"N36YW003G\",\"LAT\":36.85,\"LONG\":-2.45,\"AVG_ELEV\":133.89,\"AVG_SLOPE\":15.19,\"AVG_ROUGH\":6.1,\"RELIEF\":670.97,\"FOREST_PC\":0.92,\"URBAN_PC\":25.82,\"REF_TYPE\":\"DTM\",\"LAND_TYPE\":\"ALL\",\"LANDTYP_PC\":100.0,\"DEM_LOW_SC\":\"ALOS\",\"CRITERION\":\"ELD_AVG\",\"FABDEM\":3.62,\"COP\":4.01,\"ALOS\":2.31,\"NASA\":4.48,\"SRTM\":4.51,\"ASTER\":8.01},{\"index\":1149,\"qgrid_unfiltered_index\":1149,\"AREA\":\"almeria\",\"DEMIX_TILE\":\"N36YW003G\",\"LAT\":36.85,\"LONG\":-2.45,\"AVG_ELEV\":133.89,\"AVG_SLOPE\":15.19,\"AVG_ROUGH\":6.1,\"RELIEF\":670.97,\"FOREST_PC\":0.92,\"URBAN_PC\":25.82,\"REF_TYPE\":\"DTM\",\"LAND_TYPE\":\"ALL\",\"LANDTYP_PC\":100.0,\"DEM_LOW_SC\":\"ALOS\",\"CRITERION\":\"ELD_STD\",\"FABDEM\":5.88,\"COP\":6.1,\"ALOS\":3.53,\"NASA\":6.89,\"SRTM\":6.88,\"ASTER\":10.55},{\"index\":1150,\"qgrid_unfiltered_index\":1150,\"AREA\":\"almeria\",\"DEMIX_TILE\":\"N36YW003G\",\"LAT\":36.85,\"LONG\":-2.45,\"AVG_ELEV\":133.89,\"AVG_SLOPE\":15.19,\"AVG_ROUGH\":6.1,\"RELIEF\":670.97,\"FOREST_PC\":0.92,\"URBAN_PC\":25.82,\"REF_TYPE\":\"DTM\",\"LAND_TYPE\":\"ALL\",\"LANDTYP_PC\":100.0,\"DEM_LOW_SC\":\"ALOS\",\"CRITERION\":\"ELD_RMSE\",\"FABDEM\":5.9,\"COP\":6.26,\"ALOS\":3.73,\"NASA\":7.13,\"SRTM\":6.92,\"ASTER\":11.27},{\"index\":1151,\"qgrid_unfiltered_index\":1151,\"AREA\":\"almeria\",\"DEMIX_TILE\":\"N36YW003G\",\"LAT\":36.85,\"LONG\":-2.45,\"AVG_ELEV\":133.89,\"AVG_SLOPE\":15.19,\"AVG_ROUGH\":6.1,\"RELIEF\":670.97,\"FOREST_PC\":0.92,\"URBAN_PC\":25.82,\"REF_TYPE\":\"DTM\",\"LAND_TYPE\":\"ALL\",\"LANDTYP_PC\":100.0,\"DEM_LOW_SC\":\"ALOS\",\"CRITERION\":\"ELD_MAE\",\"FABDEM\":3.6,\"COP\":4.11,\"ALOS\":2.33,\"NASA\":4.79,\"SRTM\":4.52,\"ASTER\":8.81},{\"index\":1152,\"qgrid_unfiltered_index\":1152,\"AREA\":\"almeria\",\"DEMIX_TILE\":\"N36YW003G\",\"LAT\":36.85,\"LONG\":-2.45,\"AVG_ELEV\":133.89,\"AVG_SLOPE\":15.19,\"AVG_ROUGH\":6.1,\"RELIEF\":670.97,\"FOREST_PC\":0.92,\"URBAN_PC\":25.82,\"REF_TYPE\":\"DTM\",\"LAND_TYPE\":\"ALL\",\"LANDTYP_PC\":100.0,\"DEM_LOW_SC\":\"ALOS\",\"CRITERION\":\"ELD_LE90\",\"FABDEM\":10.39,\"COP\":10.9,\"ALOS\":4.95,\"NASA\":11.52,\"SRTM\":11.2,\"ASTER\":18.0},{\"index\":1153,\"qgrid_unfiltered_index\":1153,\"AREA\":\"almeria\",\"DEMIX_TILE\":\"N36YW003G\",\"LAT\":36.85,\"LONG\":-2.45,\"AVG_ELEV\":133.89,\"AVG_SLOPE\":15.19,\"AVG_ROUGH\":6.1,\"RELIEF\":670.97,\"FOREST_PC\":0.92,\"URBAN_PC\":25.82,\"REF_TYPE\":\"DTM\",\"LAND_TYPE\":\"ALL\",\"LANDTYP_PC\":100.0,\"DEM_LOW_SC\":\"FABDEM\",\"CRITERION\":\"ELD_MEAN\",\"FABDEM\":0.54,\"COP\":1.41,\"ALOS\":1.21,\"NASA\":1.86,\"SRTM\":0.71,\"ASTER\":-3.94},{\"index\":1154,\"qgrid_unfiltered_index\":1154,\"AREA\":\"almeria\",\"DEMIX_TILE\":\"N36YW003G\",\"LAT\":36.85,\"LONG\":-2.45,\"AVG_ELEV\":133.89,\"AVG_SLOPE\":15.19,\"AVG_ROUGH\":6.1,\"RELIEF\":670.97,\"FOREST_PC\":0.92,\"URBAN_PC\":25.82,\"REF_TYPE\":\"DTM\",\"LAND_TYPE\":\"ALL\",\"LANDTYP_PC\":100.0,\"DEM_LOW_SC\":\"FABDEM\",\"CRITERION\":\"ELD_MEDIAN\",\"FABDEM\":0.19,\"COP\":0.88,\"ALOS\":0.65,\"NASA\":1.69,\"SRTM\":0.41,\"ASTER\":-4.43},{\"index\":1246,\"qgrid_unfiltered_index\":1246,\"AREA\":\"almeria\",\"DEMIX_TILE\":\"N36YW003J\",\"LAT\":36.85,\"LONG\":-2.25,\"AVG_ELEV\":81.03,\"AVG_SLOPE\":6.74,\"AVG_ROUGH\":3.22,\"RELIEF\":260.35,\"FOREST_PC\":1.45,\"URBAN_PC\":5.01,\"REF_TYPE\":\"DTM\",\"LAND_TYPE\":\"ALL\",\"LANDTYP_PC\":100.0,\"DEM_LOW_SC\":\"ALOS\",\"CRITERION\":\"ELD_AVG\",\"FABDEM\":1.29,\"COP\":1.3,\"ALOS\":0.93,\"NASA\":2.05,\"SRTM\":2.05,\"ASTER\":6.72}]}",
      "_df_range": [
       0,
       141
      ],
      "_dom_classes": [],
      "_editable_rows": {},
      "_index_col_name": "qgrid_unfiltered_index",
      "_interval_columns": [],
      "_model_module": "qgrid",
      "_model_module_version": "1.1.1",
      "_model_name": "QgridModel",
      "_multi_index": false,
      "_row_count": 2680,
      "_row_styles": {},
      "_sort_ascending": true,
      "_sort_field": null,
      "_view_count": null,
      "_view_module": "qgrid",
      "_view_module_version": "1.1.1",
      "_view_name": "QgridView",
      "_viewport_range": [
       41,
       58
      ],
      "grid_options": {
       "autoEdit": false,
       "boldIndex": true,
       "defaultColumnWidth": 150,
       "editable": true,
       "enableColumnReorder": false,
       "enableTextSelectionOnCells": true,
       "explicitInitialization": true,
       "filterable": true,
       "forceFitColumns": true,
       "fullWidthRows": true,
       "highlightSelectedCell": false,
       "highlightSelectedRow": true,
       "maxVisibleRows": 15,
       "minVisibleRows": 8,
       "rowHeight": 28,
       "sortable": true,
       "syncColumnCellResize": true
      },
      "id": "28c6f231-b7ce-4ec8-a98c-902126d2ffce",
      "layout": "IPY_MODEL_a506a2e386a64f19bfede3ad1aea00c1",
      "precision": 5,
      "show_toolbar": false
     }
    }
   }
  }
 },
 "nbformat": 4,
 "nbformat_minor": 5
}
