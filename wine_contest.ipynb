{
 "cells": [
  {
   "cell_type": "markdown",
   "id": "legal-equation",
   "metadata": {},
   "source": [
    "### Notebook to test the Wine Contest\n",
    "\n",
    "Carlos H Grohmann\n",
    "2022"
   ]
  },
  {
   "cell_type": "code",
   "execution_count": 2,
   "id": "stylish-details",
   "metadata": {},
   "outputs": [],
   "source": [
    "# imports\n",
    "import sys,os\n",
    "from IPython.display import clear_output, display\n",
    "import qgrid\n",
    "\n",
    "import pandas as pd\n",
    "import numpy as np\n",
    "from scipy.special import ndtri\n",
    "import seaborn as sns\n",
    "\n",
    "# aux func\n",
    "def qshow(df):\n",
    "    '''show df witrh qgrid and predefined options'''\n",
    "    grd = qgrid.show_grid(df, grid_options={'forceFitColumns': False, 'defaultColumnWidth': 100})\n",
    "    return grd\n"
   ]
  },
  {
   "cell_type": "markdown",
   "id": "atmospheric-sender",
   "metadata": {},
   "source": [
    "#### I can't get the interactive file selection to work on Binder, so we'll have to go manual.   \n",
    "#### I'll print a list of the available CSV files and you decide which ones you want."
   ]
  },
  {
   "cell_type": "markdown",
   "id": "turkish-cancellation",
   "metadata": {},
   "source": [
    "### Open CSV file(s)"
   ]
  },
  {
   "cell_type": "code",
   "execution_count": 5,
   "id": "furnished-microwave",
   "metadata": {},
   "outputs": [
    {
     "name": "stdout",
     "output_type": "stream",
     "text": [
      "Available CSV files: \n",
      "\n",
      "italy_Elevation_moments.csv\n",
      "italy_Elevation_moments_diff.csv\n",
      "italy_Elev_diff_stats.csv\n",
      "italy_Pits_and_peaks.csv\n",
      "italy_Slope_diff_stats.csv\n",
      "italy_Slope_moments.csv\n",
      "italy_Slope_moments_diff.csv\n",
      "la_palma_Elevation_moments.csv\n",
      "la_palma_Elevation_moments_diff.csv\n",
      "la_palma_Elev_diff_stats.csv\n",
      "la_palma_Geodetic_control_stats.csv\n",
      "la_palma_ICESat_best_diff_stats.csv\n",
      "la_palma_Pits_and_peaks.csv\n",
      "la_palma_Slope_diff_stats.csv\n",
      "la_palma_Slope_moments.csv\n",
      "la_palma_Slope_moments_diff.csv\n",
      "oxford1_Elevation_moments.csv\n",
      "oxford1_Elevation_moments_diff.csv\n",
      "oxford1_Elev_diff_stats.csv\n",
      "oxford1_Pits_and_peaks.csv\n",
      "oxford1_Slope_diff_stats.csv\n",
      "oxford1_Slope_moments.csv\n",
      "oxford1_Slope_moments_diff.csv\n",
      "uruguay_1_Elevation_moments.csv\n",
      "uruguay_1_Elevation_moments_diff.csv\n",
      "uruguay_1_Elev_diff_stats.csv\n",
      "uruguay_1_Pits_and_peaks.csv\n",
      "uruguay_1_Slope_diff_stats.csv\n",
      "uruguay_1_Slope_moments.csv\n",
      "uruguay_1_Slope_moments_diff.csv\n"
     ]
    }
   ],
   "source": [
    "csv_dir = 'csv_files'\n",
    "csv_files = os.listdir(csv_dir)\n",
    "print('Available CSV files: \\n')\n",
    "for f in csv_files:\n",
    "    print(f)"
   ]
  },
  {
   "cell_type": "code",
   "execution_count": 6,
   "id": "frank-absence",
   "metadata": {},
   "outputs": [],
   "source": [
    "# define here a listo of the files to be opened:\n",
    "\n",
    "selected_csv_files = ['italy_Elevation_moments.csv','la_palma_Elevation_moments.csv']"
   ]
  },
  {
   "cell_type": "code",
   "execution_count": 7,
   "id": "acute-activation",
   "metadata": {},
   "outputs": [
    {
     "name": "stdout",
     "output_type": "stream",
     "text": [
      "DEMs being compared: ['md_italy_1sec_point', 'md_italy_1sec_area', 'COP', 'SRTM_egm2008', 'ALOS_egm2008', 'NASA_egm2008', 'ASTER_egm2008', 'FABDEM', 'md_dtm-2m_1sec_point', 'md_dtm-2m_1sec_area']\n",
      "\n",
      "Criteria: ['GRID_FULL', 'MIN', 'Max', 'Mean', 'STD_DEV', 'SKEWNESS', 'KURTOSIS', 'MEDIAN', 'N']\n"
     ]
    },
    {
     "data": {
      "application/vnd.jupyter.widget-view+json": {
       "model_id": "75059bd39d2d4148b4671b33a0b92876",
       "version_major": 2,
       "version_minor": 0
      },
      "text/plain": [
       "QgridWidget(grid_options={'fullWidthRows': True, 'syncColumnCellResize': True, 'forceFitColumns': False, 'defa…"
      ]
     },
     "metadata": {},
     "output_type": "display_data"
    }
   ],
   "source": [
    "# make dataframes from csv files and append all to a single one\n",
    "df_csv = pd.DataFrame()\n",
    "for f in selected_csv_files:\n",
    "    f = os.path.join(csv_dir,f)\n",
    "    df = pd.read_csv(f, sep=',',engine='python',comment='#',quotechar='\"')\n",
    "    df_csv = pd.concat([df_csv,df],sort=False)\n",
    "    \n",
    "# get lists with DEMs names and criteria\n",
    "crit_cols = list(df_csv.columns)[5:]\n",
    "crit_cols_rank = [i+'_rank' for i in crit_cols]\n",
    "crit_cols_rank_sq = [i+'_rank_sq' for i in crit_cols]\n",
    "dem_cols = list(df_csv['DEM'].unique())\n",
    "\n",
    "\n",
    "# rank values in df\n",
    "df_ranks = pd.concat([df_csv, df_csv.rank(method='average', ascending=True, axis=1).add_suffix('_rank')], axis=1)\n",
    "for col in crit_cols:\n",
    "    df_ranks[col+'_rank_sq'] = df_ranks[col+'_rank']**2\n",
    "\n",
    "\n",
    "print(f'DEMs being compared: {dem_cols}\\n')\n",
    "print(f'Criteria: {crit_cols}')\n",
    "\n",
    "# show table \n",
    "qshow(df_ranks)"
   ]
  },
  {
   "cell_type": "code",
   "execution_count": null,
   "id": "million-attribute",
   "metadata": {},
   "outputs": [],
   "source": []
  },
  {
   "cell_type": "markdown",
   "id": "aerial-style",
   "metadata": {},
   "source": [
    "### First to compute: Friedman Test Statistic's"
   ]
  },
  {
   "cell_type": "markdown",
   "id": "lovely-conversation",
   "metadata": {},
   "source": [
    "*Null hypothesis: there exist no statistically significant difference among the DEMs*  \n",
    "\n",
    "Friedman Test using formula from:https://jimgrange.wordpress.com/2014/05/29/friedmans-test-with-tied-data/ \n",
    "\n",
    "where n is the number of observations per condition, k is the number of conditions, and Ri is the sum of the ith column (condition).\n",
    "\n",
    "Friedman Statistic's  \n",
    "n(k-1)[sum Ri_sq/n - cf] / sum rij_sq - cf  \n",
    "cf = (1/4)nk(k+1)**2"
   ]
  },
  {
   "cell_type": "code",
   "execution_count": 8,
   "id": "stable-burning",
   "metadata": {},
   "outputs": [
    {
     "name": "stdout",
     "output_type": "stream",
     "text": [
      "n = 10 (number of DEMs)\n",
      "k = 9 (number of Criteria)\n",
      "cf = 2250.0\n",
      "sum of ranks = 5220.0\n",
      "sum of ranks squared = 53765.5\n",
      "chi_r = 84.217\n"
     ]
    }
   ],
   "source": [
    "n = len(dem_cols) # number of DEMs\n",
    "k = len(crit_cols) # number of CRITERIA\n",
    "cf = 1/4*n*k*((k+1)**2)\n",
    "\n",
    "sum_ranks = df_ranks[crit_cols_rank].sum().sum()\n",
    "sum_ranks_sq = df_ranks[crit_cols_rank_sq].sum().sum()\n",
    "\n",
    "chi_r =( (n * (k-1)) * (sum_ranks_sq/n - cf) )/ (sum_ranks - cf)\n",
    "\n",
    "print(f'n = {n} (number of DEMs)')\n",
    "print(f'k = {k} (number of Criteria)')\n",
    "print(f'cf = {cf}')\n",
    "print(f'sum of ranks = {sum_ranks}')\n",
    "print(f'sum of ranks squared = {sum_ranks_sq}')\n",
    "print(f'chi_r = {chi_r:4.3f}')"
   ]
  },
  {
   "cell_type": "code",
   "execution_count": null,
   "id": "federal-agency",
   "metadata": {},
   "outputs": [],
   "source": []
  },
  {
   "cell_type": "markdown",
   "id": "familiar-programmer",
   "metadata": {},
   "source": [
    "#### Get critical value from tables\n",
    "\n",
    "Given your k value, look for the proper table at:   http://hdl.handle.net/20.500.11968/4208  \n",
    "From the table, look at the row at your N and read the entry at your preferred confidence level  \n",
    "if chi_r>chi_crit, we must reject the null hipothesis and go the the Post-Hoc analysis below  \n",
    "(Reject means that we cannot accept that all DEM are equivalent)  \n",
    "If chi_r<chi_crit, we cannot disprove the null hipothesis at the given CL and the test finishes"
   ]
  },
  {
   "cell_type": "code",
   "execution_count": 9,
   "id": "electoral-housing",
   "metadata": {},
   "outputs": [
    {
     "name": "stdout",
     "output_type": "stream",
     "text": [
      "For k=9, CL=0.05, and N=10, the critical value to compare is chi_crit=15.06\n",
      "\n",
      "chi_r: 84.217\n",
      "chi_crit: 15.06\n",
      "\n",
      "Yay!! We can reject the null hipothesis and go to the Post-Hoc analysis!!\n"
     ]
    }
   ],
   "source": [
    "CL = 0.05\n",
    "\n",
    "tables_dir = 'Friedmans_tables'\n",
    "# os.listdir(tables_dir)\n",
    "table_needed = f'k_{k}.txt'\n",
    "# print(f'Table needed: {table_needed}')\n",
    "df_crit = pd.read_csv(os.path.join(tables_dir,table_needed),sep=';')\n",
    "df_crit = df_crit.iloc[: , :-1] # drop last column as it is empty\n",
    "df_crit\n",
    "\n",
    "# find chi_crit in table\n",
    "n_alpha = f'N={n}' \n",
    "idx = df_crit.loc[df_crit['alpha'] == n_alpha].index[0]\n",
    "col = f'{CL:05.3f}'\n",
    "\n",
    "# try to get the value, if not possible, use last row IS THIS CORRECT??\n",
    "try:\n",
    "    chi_crit = df_crit.at[idx, col]\n",
    "except:\n",
    "    idx = df_crit.index[-1]\n",
    "    chi_crit = df_crit.at[idx, col]\n",
    "    \n",
    "print(f'For k={k}, CL={CL}, and N={n}, the critical value to compare is chi_crit={chi_crit}')\n",
    "print()\n",
    "print(f'chi_r: {chi_r:04.3f}')\n",
    "print(f'chi_crit: {chi_crit}\\n')\n",
    "\n",
    "if chi_r > chi_crit:\n",
    "    print('Yay!! We can reject the null hipothesis and go to the Post-Hoc analysis!!')\n",
    "else:\n",
    "    print('Oh, no! We  we cannot disprove the null hipothesis at the given CL...')"
   ]
  },
  {
   "cell_type": "code",
   "execution_count": null,
   "id": "improving-mills",
   "metadata": {},
   "outputs": [],
   "source": []
  },
  {
   "cell_type": "markdown",
   "id": "acoustic-wallet",
   "metadata": {},
   "source": [
    "### DEMs Ranked"
   ]
  },
  {
   "cell_type": "code",
   "execution_count": 10,
   "id": "inside-calgary",
   "metadata": {},
   "outputs": [
    {
     "name": "stdout",
     "output_type": "stream",
     "text": [
      "                      rank_sum  final_rank\n",
      "DEM                                       \n",
      "md_italy_1sec_area        32.0         1.0\n",
      "md_italy_1sec_point       38.0         2.0\n",
      "NASA_egm2008             565.5         3.0\n",
      "FABDEM                   627.5         4.0\n",
      "ALOS_egm2008             638.5         5.0\n",
      "ASTER_egm2008            647.5         6.0\n",
      "md_dtm-2m_1sec_area      658.0         7.0\n",
      "md_dtm-2m_1sec_point     662.0         8.0\n",
      "COP                      674.5         9.0\n",
      "SRTM_egm2008             676.5        10.0\n"
     ]
    }
   ],
   "source": [
    "# DEMs ranked\n",
    "pd_ranked = pd.DataFrame()\n",
    "dems_ranked = df_ranks.groupby('DEM')[crit_cols_rank].sum().sum(axis=1)\n",
    "pd_ranked['rank_sum'] = dems_ranked\n",
    "pd_ranked['final_rank'] = pd_ranked['rank_sum'].rank(ascending=1)\n",
    "# pd_ranked = pd_ranked.set_index('final_rank').sort_index()\n",
    "print(pd_ranked.sort_values(by='final_rank'))"
   ]
  },
  {
   "cell_type": "code",
   "execution_count": null,
   "id": "younger-statement",
   "metadata": {},
   "outputs": [],
   "source": []
  },
  {
   "cell_type": "markdown",
   "id": "painful-machinery",
   "metadata": {},
   "source": [
    "### Post-Hoc Analysis\n",
    "#### As a quick-and-dirty option, we illustrate the procedure with Bonferroni-Dunn test\n",
    "\n",
    "Note: Bonferroni-Dunn test is not state of the art  \n",
    "\n",
    "About the table below:  \n",
    "\"Y\" means that the difference is significative to the 95%  \n",
    "“N” means that we cannot demonstrate a statistically significative difference  \n",
    "The test is pairwise (DEM-i vs. DEM-j), so by symmetry we disregard the lower part of the matrix  "
   ]
  },
  {
   "cell_type": "code",
   "execution_count": 11,
   "id": "ambient-botswana",
   "metadata": {},
   "outputs": [
    {
     "name": "stdout",
     "output_type": "stream",
     "text": [
      "\n",
      "DEM  ALOS_egm2008  ASTER_egm2008    COP  FABDEM  NASA_egm2008  SRTM_egm2008  \\\n",
      "0           638.5          647.5  674.5   627.5         565.5         676.5   \n",
      "\n",
      "DEM  md_dtm-2m_1sec_area  md_dtm-2m_1sec_point  md_italy_1sec_area  \\\n",
      "0                  658.0                 662.0                32.0   \n",
      "\n",
      "DEM  md_italy_1sec_point  \n",
      "0                   38.0  \n"
     ]
    },
    {
     "data": {
      "text/html": [
       "<style  type=\"text/css\" >\n",
       "#T_e9edb_row1_col1,#T_e9edb_row2_col1,#T_e9edb_row2_col2,#T_e9edb_row3_col1,#T_e9edb_row3_col2,#T_e9edb_row3_col3,#T_e9edb_row4_col1,#T_e9edb_row4_col2,#T_e9edb_row4_col3,#T_e9edb_row4_col4,#T_e9edb_row5_col1,#T_e9edb_row5_col2,#T_e9edb_row5_col3,#T_e9edb_row5_col4,#T_e9edb_row5_col5,#T_e9edb_row6_col1,#T_e9edb_row6_col2,#T_e9edb_row6_col3,#T_e9edb_row6_col4,#T_e9edb_row6_col5,#T_e9edb_row6_col6,#T_e9edb_row7_col1,#T_e9edb_row7_col2,#T_e9edb_row7_col3,#T_e9edb_row7_col4,#T_e9edb_row7_col5,#T_e9edb_row7_col6,#T_e9edb_row7_col7,#T_e9edb_row8_col1,#T_e9edb_row8_col2,#T_e9edb_row8_col3,#T_e9edb_row8_col4,#T_e9edb_row8_col5,#T_e9edb_row8_col6,#T_e9edb_row8_col7,#T_e9edb_row8_col8,#T_e9edb_row9_col1,#T_e9edb_row9_col2,#T_e9edb_row9_col3,#T_e9edb_row9_col4,#T_e9edb_row9_col5,#T_e9edb_row9_col6,#T_e9edb_row9_col7,#T_e9edb_row9_col8,#T_e9edb_row9_col9{\n",
       "            opacity:  20%;\n",
       "        }</style><table id=\"T_e9edb_\" ><thead>    <tr>        <th class=\"blank level0\" ></th>        <th class=\"col_heading level0 col0\" >DEM</th>        <th class=\"col_heading level0 col1\" >md_italy_1sec_point</th>        <th class=\"col_heading level0 col2\" >md_italy_1sec_area</th>        <th class=\"col_heading level0 col3\" >COP</th>        <th class=\"col_heading level0 col4\" >SRTM_egm2008</th>        <th class=\"col_heading level0 col5\" >ALOS_egm2008</th>        <th class=\"col_heading level0 col6\" >NASA_egm2008</th>        <th class=\"col_heading level0 col7\" >ASTER_egm2008</th>        <th class=\"col_heading level0 col8\" >FABDEM</th>        <th class=\"col_heading level0 col9\" >md_dtm-2m_1sec_point</th>        <th class=\"col_heading level0 col10\" >md_dtm-2m_1sec_area</th>    </tr></thead><tbody>\n",
       "                <tr>\n",
       "                        <th id=\"T_e9edb_level0_row0\" class=\"row_heading level0 row0\" >0</th>\n",
       "                        <td id=\"T_e9edb_row0_col0\" class=\"data row0 col0\" >md_italy_1sec_point</td>\n",
       "                        <td id=\"T_e9edb_row0_col1\" class=\"data row0 col1\" >LOOSE</td>\n",
       "                        <td id=\"T_e9edb_row0_col2\" class=\"data row0 col2\" >LOOSE</td>\n",
       "                        <td id=\"T_e9edb_row0_col3\" class=\"data row0 col3\" >WIN</td>\n",
       "                        <td id=\"T_e9edb_row0_col4\" class=\"data row0 col4\" >WIN</td>\n",
       "                        <td id=\"T_e9edb_row0_col5\" class=\"data row0 col5\" >WIN</td>\n",
       "                        <td id=\"T_e9edb_row0_col6\" class=\"data row0 col6\" >WIN</td>\n",
       "                        <td id=\"T_e9edb_row0_col7\" class=\"data row0 col7\" >WIN</td>\n",
       "                        <td id=\"T_e9edb_row0_col8\" class=\"data row0 col8\" >WIN</td>\n",
       "                        <td id=\"T_e9edb_row0_col9\" class=\"data row0 col9\" >WIN</td>\n",
       "                        <td id=\"T_e9edb_row0_col10\" class=\"data row0 col10\" >WIN</td>\n",
       "            </tr>\n",
       "            <tr>\n",
       "                        <th id=\"T_e9edb_level0_row1\" class=\"row_heading level0 row1\" >1</th>\n",
       "                        <td id=\"T_e9edb_row1_col0\" class=\"data row1 col0\" >md_italy_1sec_area</td>\n",
       "                        <td id=\"T_e9edb_row1_col1\" class=\"data row1 col1\" >0</td>\n",
       "                        <td id=\"T_e9edb_row1_col2\" class=\"data row1 col2\" >LOOSE</td>\n",
       "                        <td id=\"T_e9edb_row1_col3\" class=\"data row1 col3\" >WIN</td>\n",
       "                        <td id=\"T_e9edb_row1_col4\" class=\"data row1 col4\" >WIN</td>\n",
       "                        <td id=\"T_e9edb_row1_col5\" class=\"data row1 col5\" >WIN</td>\n",
       "                        <td id=\"T_e9edb_row1_col6\" class=\"data row1 col6\" >WIN</td>\n",
       "                        <td id=\"T_e9edb_row1_col7\" class=\"data row1 col7\" >WIN</td>\n",
       "                        <td id=\"T_e9edb_row1_col8\" class=\"data row1 col8\" >WIN</td>\n",
       "                        <td id=\"T_e9edb_row1_col9\" class=\"data row1 col9\" >WIN</td>\n",
       "                        <td id=\"T_e9edb_row1_col10\" class=\"data row1 col10\" >WIN</td>\n",
       "            </tr>\n",
       "            <tr>\n",
       "                        <th id=\"T_e9edb_level0_row2\" class=\"row_heading level0 row2\" >2</th>\n",
       "                        <td id=\"T_e9edb_row2_col0\" class=\"data row2 col0\" >COP</td>\n",
       "                        <td id=\"T_e9edb_row2_col1\" class=\"data row2 col1\" >0</td>\n",
       "                        <td id=\"T_e9edb_row2_col2\" class=\"data row2 col2\" >0</td>\n",
       "                        <td id=\"T_e9edb_row2_col3\" class=\"data row2 col3\" >LOOSE</td>\n",
       "                        <td id=\"T_e9edb_row2_col4\" class=\"data row2 col4\" >LOOSE</td>\n",
       "                        <td id=\"T_e9edb_row2_col5\" class=\"data row2 col5\" >WIN</td>\n",
       "                        <td id=\"T_e9edb_row2_col6\" class=\"data row2 col6\" >WIN</td>\n",
       "                        <td id=\"T_e9edb_row2_col7\" class=\"data row2 col7\" >LOOSE</td>\n",
       "                        <td id=\"T_e9edb_row2_col8\" class=\"data row2 col8\" >WIN</td>\n",
       "                        <td id=\"T_e9edb_row2_col9\" class=\"data row2 col9\" >LOOSE</td>\n",
       "                        <td id=\"T_e9edb_row2_col10\" class=\"data row2 col10\" >LOOSE</td>\n",
       "            </tr>\n",
       "            <tr>\n",
       "                        <th id=\"T_e9edb_level0_row3\" class=\"row_heading level0 row3\" >3</th>\n",
       "                        <td id=\"T_e9edb_row3_col0\" class=\"data row3 col0\" >SRTM_egm2008</td>\n",
       "                        <td id=\"T_e9edb_row3_col1\" class=\"data row3 col1\" >0</td>\n",
       "                        <td id=\"T_e9edb_row3_col2\" class=\"data row3 col2\" >0</td>\n",
       "                        <td id=\"T_e9edb_row3_col3\" class=\"data row3 col3\" >0</td>\n",
       "                        <td id=\"T_e9edb_row3_col4\" class=\"data row3 col4\" >LOOSE</td>\n",
       "                        <td id=\"T_e9edb_row3_col5\" class=\"data row3 col5\" >WIN</td>\n",
       "                        <td id=\"T_e9edb_row3_col6\" class=\"data row3 col6\" >WIN</td>\n",
       "                        <td id=\"T_e9edb_row3_col7\" class=\"data row3 col7\" >WIN</td>\n",
       "                        <td id=\"T_e9edb_row3_col8\" class=\"data row3 col8\" >WIN</td>\n",
       "                        <td id=\"T_e9edb_row3_col9\" class=\"data row3 col9\" >LOOSE</td>\n",
       "                        <td id=\"T_e9edb_row3_col10\" class=\"data row3 col10\" >LOOSE</td>\n",
       "            </tr>\n",
       "            <tr>\n",
       "                        <th id=\"T_e9edb_level0_row4\" class=\"row_heading level0 row4\" >4</th>\n",
       "                        <td id=\"T_e9edb_row4_col0\" class=\"data row4 col0\" >ALOS_egm2008</td>\n",
       "                        <td id=\"T_e9edb_row4_col1\" class=\"data row4 col1\" >0</td>\n",
       "                        <td id=\"T_e9edb_row4_col2\" class=\"data row4 col2\" >0</td>\n",
       "                        <td id=\"T_e9edb_row4_col3\" class=\"data row4 col3\" >0</td>\n",
       "                        <td id=\"T_e9edb_row4_col4\" class=\"data row4 col4\" >0</td>\n",
       "                        <td id=\"T_e9edb_row4_col5\" class=\"data row4 col5\" >LOOSE</td>\n",
       "                        <td id=\"T_e9edb_row4_col6\" class=\"data row4 col6\" >WIN</td>\n",
       "                        <td id=\"T_e9edb_row4_col7\" class=\"data row4 col7\" >LOOSE</td>\n",
       "                        <td id=\"T_e9edb_row4_col8\" class=\"data row4 col8\" >LOOSE</td>\n",
       "                        <td id=\"T_e9edb_row4_col9\" class=\"data row4 col9\" >LOOSE</td>\n",
       "                        <td id=\"T_e9edb_row4_col10\" class=\"data row4 col10\" >LOOSE</td>\n",
       "            </tr>\n",
       "            <tr>\n",
       "                        <th id=\"T_e9edb_level0_row5\" class=\"row_heading level0 row5\" >5</th>\n",
       "                        <td id=\"T_e9edb_row5_col0\" class=\"data row5 col0\" >NASA_egm2008</td>\n",
       "                        <td id=\"T_e9edb_row5_col1\" class=\"data row5 col1\" >0</td>\n",
       "                        <td id=\"T_e9edb_row5_col2\" class=\"data row5 col2\" >0</td>\n",
       "                        <td id=\"T_e9edb_row5_col3\" class=\"data row5 col3\" >0</td>\n",
       "                        <td id=\"T_e9edb_row5_col4\" class=\"data row5 col4\" >0</td>\n",
       "                        <td id=\"T_e9edb_row5_col5\" class=\"data row5 col5\" >0</td>\n",
       "                        <td id=\"T_e9edb_row5_col6\" class=\"data row5 col6\" >LOOSE</td>\n",
       "                        <td id=\"T_e9edb_row5_col7\" class=\"data row5 col7\" >WIN</td>\n",
       "                        <td id=\"T_e9edb_row5_col8\" class=\"data row5 col8\" >WIN</td>\n",
       "                        <td id=\"T_e9edb_row5_col9\" class=\"data row5 col9\" >WIN</td>\n",
       "                        <td id=\"T_e9edb_row5_col10\" class=\"data row5 col10\" >WIN</td>\n",
       "            </tr>\n",
       "            <tr>\n",
       "                        <th id=\"T_e9edb_level0_row6\" class=\"row_heading level0 row6\" >6</th>\n",
       "                        <td id=\"T_e9edb_row6_col0\" class=\"data row6 col0\" >ASTER_egm2008</td>\n",
       "                        <td id=\"T_e9edb_row6_col1\" class=\"data row6 col1\" >0</td>\n",
       "                        <td id=\"T_e9edb_row6_col2\" class=\"data row6 col2\" >0</td>\n",
       "                        <td id=\"T_e9edb_row6_col3\" class=\"data row6 col3\" >0</td>\n",
       "                        <td id=\"T_e9edb_row6_col4\" class=\"data row6 col4\" >0</td>\n",
       "                        <td id=\"T_e9edb_row6_col5\" class=\"data row6 col5\" >0</td>\n",
       "                        <td id=\"T_e9edb_row6_col6\" class=\"data row6 col6\" >0</td>\n",
       "                        <td id=\"T_e9edb_row6_col7\" class=\"data row6 col7\" >LOOSE</td>\n",
       "                        <td id=\"T_e9edb_row6_col8\" class=\"data row6 col8\" >LOOSE</td>\n",
       "                        <td id=\"T_e9edb_row6_col9\" class=\"data row6 col9\" >LOOSE</td>\n",
       "                        <td id=\"T_e9edb_row6_col10\" class=\"data row6 col10\" >LOOSE</td>\n",
       "            </tr>\n",
       "            <tr>\n",
       "                        <th id=\"T_e9edb_level0_row7\" class=\"row_heading level0 row7\" >7</th>\n",
       "                        <td id=\"T_e9edb_row7_col0\" class=\"data row7 col0\" >FABDEM</td>\n",
       "                        <td id=\"T_e9edb_row7_col1\" class=\"data row7 col1\" >0</td>\n",
       "                        <td id=\"T_e9edb_row7_col2\" class=\"data row7 col2\" >0</td>\n",
       "                        <td id=\"T_e9edb_row7_col3\" class=\"data row7 col3\" >0</td>\n",
       "                        <td id=\"T_e9edb_row7_col4\" class=\"data row7 col4\" >0</td>\n",
       "                        <td id=\"T_e9edb_row7_col5\" class=\"data row7 col5\" >0</td>\n",
       "                        <td id=\"T_e9edb_row7_col6\" class=\"data row7 col6\" >0</td>\n",
       "                        <td id=\"T_e9edb_row7_col7\" class=\"data row7 col7\" >0</td>\n",
       "                        <td id=\"T_e9edb_row7_col8\" class=\"data row7 col8\" >LOOSE</td>\n",
       "                        <td id=\"T_e9edb_row7_col9\" class=\"data row7 col9\" >WIN</td>\n",
       "                        <td id=\"T_e9edb_row7_col10\" class=\"data row7 col10\" >WIN</td>\n",
       "            </tr>\n",
       "            <tr>\n",
       "                        <th id=\"T_e9edb_level0_row8\" class=\"row_heading level0 row8\" >8</th>\n",
       "                        <td id=\"T_e9edb_row8_col0\" class=\"data row8 col0\" >md_dtm-2m_1sec_point</td>\n",
       "                        <td id=\"T_e9edb_row8_col1\" class=\"data row8 col1\" >0</td>\n",
       "                        <td id=\"T_e9edb_row8_col2\" class=\"data row8 col2\" >0</td>\n",
       "                        <td id=\"T_e9edb_row8_col3\" class=\"data row8 col3\" >0</td>\n",
       "                        <td id=\"T_e9edb_row8_col4\" class=\"data row8 col4\" >0</td>\n",
       "                        <td id=\"T_e9edb_row8_col5\" class=\"data row8 col5\" >0</td>\n",
       "                        <td id=\"T_e9edb_row8_col6\" class=\"data row8 col6\" >0</td>\n",
       "                        <td id=\"T_e9edb_row8_col7\" class=\"data row8 col7\" >0</td>\n",
       "                        <td id=\"T_e9edb_row8_col8\" class=\"data row8 col8\" >0</td>\n",
       "                        <td id=\"T_e9edb_row8_col9\" class=\"data row8 col9\" >LOOSE</td>\n",
       "                        <td id=\"T_e9edb_row8_col10\" class=\"data row8 col10\" >LOOSE</td>\n",
       "            </tr>\n",
       "            <tr>\n",
       "                        <th id=\"T_e9edb_level0_row9\" class=\"row_heading level0 row9\" >9</th>\n",
       "                        <td id=\"T_e9edb_row9_col0\" class=\"data row9 col0\" >md_dtm-2m_1sec_area</td>\n",
       "                        <td id=\"T_e9edb_row9_col1\" class=\"data row9 col1\" >0</td>\n",
       "                        <td id=\"T_e9edb_row9_col2\" class=\"data row9 col2\" >0</td>\n",
       "                        <td id=\"T_e9edb_row9_col3\" class=\"data row9 col3\" >0</td>\n",
       "                        <td id=\"T_e9edb_row9_col4\" class=\"data row9 col4\" >0</td>\n",
       "                        <td id=\"T_e9edb_row9_col5\" class=\"data row9 col5\" >0</td>\n",
       "                        <td id=\"T_e9edb_row9_col6\" class=\"data row9 col6\" >0</td>\n",
       "                        <td id=\"T_e9edb_row9_col7\" class=\"data row9 col7\" >0</td>\n",
       "                        <td id=\"T_e9edb_row9_col8\" class=\"data row9 col8\" >0</td>\n",
       "                        <td id=\"T_e9edb_row9_col9\" class=\"data row9 col9\" >0</td>\n",
       "                        <td id=\"T_e9edb_row9_col10\" class=\"data row9 col10\" >LOOSE</td>\n",
       "            </tr>\n",
       "    </tbody></table>"
      ],
      "text/plain": [
       "<pandas.io.formats.style.Styler at 0x7fdddd145df0>"
      ]
     },
     "execution_count": 11,
     "metadata": {},
     "output_type": "execute_result"
    }
   ],
   "source": [
    "alpha_bd = 0.95\n",
    "quant =  1-alpha_bd/k/(k-1)\n",
    "zi = ndtri(quant)\n",
    "crit = zi*np.sqrt(n*k*(k+1)/6) # why divide by 6? is this k?\n",
    "\n",
    "# print(f'quant: {quant:3.4f}')\n",
    "# print(f'zi: {zi:3.4f}')\n",
    "# print(f'crit: {crit:3.4f}')\n",
    "\n",
    "# create table\n",
    "cols = ['DEM'] + dem_cols\n",
    "df_table = pd.DataFrame(columns=cols)\n",
    "df_table['DEM'] = dem_cols\n",
    "\n",
    "# get ranks values \n",
    "ranks_vals = dems_ranked.to_frame().T\n",
    "\n",
    "# print(df_table)\n",
    "print()\n",
    "print(ranks_vals)\n",
    "\n",
    "# populate table\n",
    "for d1 in dem_cols:\n",
    "    r = dem_cols.index(d1)\n",
    "    for d2 in dem_cols:\n",
    "        rank_dem1 = ranks_vals[d1].values[0]\n",
    "        rank_dem2 = ranks_vals[d2].values[0]\n",
    "#         print(d1,d2,rank_dem1,rank_dem2)\n",
    "        if np.abs(rank_dem1 - rank_dem2) > crit:\n",
    "            df_table.at[r,d2] = 'WIN'\n",
    "        else:\n",
    "            df_table.at[r,d2] = 'LOOSE'\n",
    "            \n",
    "# use numpy to get only the upper triangle of the table \n",
    "m = np.triu(df_table.values,k=1)\n",
    "# m[np.tril_indices(m.shape[0], 1)] = np.nan\n",
    "df2 = pd.DataFrame(m,columns=cols)\n",
    "df2['DEM'] = dem_cols\n",
    "df2\n",
    "# df2.drop(columns='dem',inplace=True)\n",
    "# df2.style.applymap(lambda v: 'opacity: 20%;' if pd.isnull(v) else None)\n",
    "df2.style.applymap(lambda v: 'opacity: 20%;' if (v==0) else None)"
   ]
  },
  {
   "cell_type": "code",
   "execution_count": null,
   "id": "dried-rochester",
   "metadata": {},
   "outputs": [],
   "source": []
  },
  {
   "cell_type": "code",
   "execution_count": null,
   "id": "protecting-price",
   "metadata": {},
   "outputs": [],
   "source": []
  },
  {
   "cell_type": "code",
   "execution_count": null,
   "id": "loaded-style",
   "metadata": {},
   "outputs": [],
   "source": []
  },
  {
   "cell_type": "code",
   "execution_count": null,
   "id": "patent-sculpture",
   "metadata": {},
   "outputs": [],
   "source": []
  },
  {
   "cell_type": "code",
   "execution_count": null,
   "id": "familiar-journey",
   "metadata": {},
   "outputs": [],
   "source": []
  },
  {
   "cell_type": "markdown",
   "id": "finnish-swing",
   "metadata": {},
   "source": [
    "### Plotting (basic examples)"
   ]
  },
  {
   "cell_type": "code",
   "execution_count": 12,
   "id": "german-preservation",
   "metadata": {},
   "outputs": [
    {
     "name": "stdout",
     "output_type": "stream",
     "text": [
      "Criteria: ['GRID_FULL', 'MIN', 'Max', 'Mean', 'STD_DEV', 'SKEWNESS', 'KURTOSIS', 'MEDIAN', 'N']\n"
     ]
    }
   ],
   "source": [
    "print(f'Criteria: {crit_cols}')"
   ]
  },
  {
   "cell_type": "code",
   "execution_count": 13,
   "id": "latin-block",
   "metadata": {},
   "outputs": [
    {
     "data": {
      "text/html": [
       "<div>\n",
       "<style scoped>\n",
       "    .dataframe tbody tr th:only-of-type {\n",
       "        vertical-align: middle;\n",
       "    }\n",
       "\n",
       "    .dataframe tbody tr th {\n",
       "        vertical-align: top;\n",
       "    }\n",
       "\n",
       "    .dataframe thead th {\n",
       "        text-align: right;\n",
       "    }\n",
       "</style>\n",
       "<table border=\"1\" class=\"dataframe\">\n",
       "  <thead>\n",
       "    <tr style=\"text-align: right;\">\n",
       "      <th></th>\n",
       "      <th>GRID_FULL</th>\n",
       "      <th>MIN</th>\n",
       "      <th>Max</th>\n",
       "      <th>Mean</th>\n",
       "      <th>STD_DEV</th>\n",
       "      <th>SKEWNESS</th>\n",
       "      <th>KURTOSIS</th>\n",
       "      <th>MEDIAN</th>\n",
       "      <th>N</th>\n",
       "    </tr>\n",
       "  </thead>\n",
       "  <tbody>\n",
       "    <tr>\n",
       "      <th>count</th>\n",
       "      <td>72.000000</td>\n",
       "      <td>72.000000</td>\n",
       "      <td>72.000000</td>\n",
       "      <td>72.000000</td>\n",
       "      <td>72.000000</td>\n",
       "      <td>72.000000</td>\n",
       "      <td>72.000000</td>\n",
       "      <td>72.000000</td>\n",
       "      <td>72.000000</td>\n",
       "    </tr>\n",
       "    <tr>\n",
       "      <th>mean</th>\n",
       "      <td>95.168889</td>\n",
       "      <td>102.596528</td>\n",
       "      <td>2257.590000</td>\n",
       "      <td>947.965556</td>\n",
       "      <td>533.774861</td>\n",
       "      <td>0.264861</td>\n",
       "      <td>-0.836806</td>\n",
       "      <td>904.046250</td>\n",
       "      <td>217842.444444</td>\n",
       "    </tr>\n",
       "    <tr>\n",
       "      <th>std</th>\n",
       "      <td>5.594574</td>\n",
       "      <td>218.982423</td>\n",
       "      <td>267.753221</td>\n",
       "      <td>290.838854</td>\n",
       "      <td>99.668637</td>\n",
       "      <td>0.229911</td>\n",
       "      <td>0.198067</td>\n",
       "      <td>344.355233</td>\n",
       "      <td>84650.285450</td>\n",
       "    </tr>\n",
       "    <tr>\n",
       "      <th>min</th>\n",
       "      <td>87.180000</td>\n",
       "      <td>-40.420000</td>\n",
       "      <td>1930.600000</td>\n",
       "      <td>478.020000</td>\n",
       "      <td>332.270000</td>\n",
       "      <td>-0.060000</td>\n",
       "      <td>-1.140000</td>\n",
       "      <td>201.670000</td>\n",
       "      <td>113612.000000</td>\n",
       "    </tr>\n",
       "    <tr>\n",
       "      <th>25%</th>\n",
       "      <td>91.080000</td>\n",
       "      <td>-5.480000</td>\n",
       "      <td>2038.257500</td>\n",
       "      <td>805.322500</td>\n",
       "      <td>459.512500</td>\n",
       "      <td>0.150000</td>\n",
       "      <td>-0.992500</td>\n",
       "      <td>803.595000</td>\n",
       "      <td>138802.000000</td>\n",
       "    </tr>\n",
       "    <tr>\n",
       "      <th>50%</th>\n",
       "      <td>100.000000</td>\n",
       "      <td>-0.390000</td>\n",
       "      <td>2343.975000</td>\n",
       "      <td>942.795000</td>\n",
       "      <td>512.670000</td>\n",
       "      <td>0.190000</td>\n",
       "      <td>-0.875000</td>\n",
       "      <td>949.235000</td>\n",
       "      <td>229262.500000</td>\n",
       "    </tr>\n",
       "    <tr>\n",
       "      <th>75%</th>\n",
       "      <td>100.000000</td>\n",
       "      <td>1.772500</td>\n",
       "      <td>2421.285000</td>\n",
       "      <td>1104.577500</td>\n",
       "      <td>600.892500</td>\n",
       "      <td>0.312500</td>\n",
       "      <td>-0.660000</td>\n",
       "      <td>1083.270000</td>\n",
       "      <td>253061.000000</td>\n",
       "    </tr>\n",
       "    <tr>\n",
       "      <th>max</th>\n",
       "      <td>100.000000</td>\n",
       "      <td>652.670000</td>\n",
       "      <td>2770.320000</td>\n",
       "      <td>1453.490000</td>\n",
       "      <td>705.350000</td>\n",
       "      <td>0.840000</td>\n",
       "      <td>-0.420000</td>\n",
       "      <td>1431.050000</td>\n",
       "      <td>383021.000000</td>\n",
       "    </tr>\n",
       "  </tbody>\n",
       "</table>\n",
       "</div>"
      ],
      "text/plain": [
       "        GRID_FULL         MIN          Max         Mean     STD_DEV  \\\n",
       "count   72.000000   72.000000    72.000000    72.000000   72.000000   \n",
       "mean    95.168889  102.596528  2257.590000   947.965556  533.774861   \n",
       "std      5.594574  218.982423   267.753221   290.838854   99.668637   \n",
       "min     87.180000  -40.420000  1930.600000   478.020000  332.270000   \n",
       "25%     91.080000   -5.480000  2038.257500   805.322500  459.512500   \n",
       "50%    100.000000   -0.390000  2343.975000   942.795000  512.670000   \n",
       "75%    100.000000    1.772500  2421.285000  1104.577500  600.892500   \n",
       "max    100.000000  652.670000  2770.320000  1453.490000  705.350000   \n",
       "\n",
       "        SKEWNESS   KURTOSIS       MEDIAN              N  \n",
       "count  72.000000  72.000000    72.000000      72.000000  \n",
       "mean    0.264861  -0.836806   904.046250  217842.444444  \n",
       "std     0.229911   0.198067   344.355233   84650.285450  \n",
       "min    -0.060000  -1.140000   201.670000  113612.000000  \n",
       "25%     0.150000  -0.992500   803.595000  138802.000000  \n",
       "50%     0.190000  -0.875000   949.235000  229262.500000  \n",
       "75%     0.312500  -0.660000  1083.270000  253061.000000  \n",
       "max     0.840000  -0.420000  1431.050000  383021.000000  "
      ]
     },
     "execution_count": 13,
     "metadata": {},
     "output_type": "execute_result"
    }
   ],
   "source": [
    "df_csv.describe()"
   ]
  },
  {
   "cell_type": "code",
   "execution_count": 14,
   "id": "organized-affairs",
   "metadata": {},
   "outputs": [
    {
     "data": {
      "text/plain": [
       "array([[<AxesSubplot:title={'center':'GRID_FULL'}>,\n",
       "        <AxesSubplot:title={'center':'MIN'}>,\n",
       "        <AxesSubplot:title={'center':'Max'}>],\n",
       "       [<AxesSubplot:title={'center':'Mean'}>,\n",
       "        <AxesSubplot:title={'center':'STD_DEV'}>,\n",
       "        <AxesSubplot:title={'center':'SKEWNESS'}>],\n",
       "       [<AxesSubplot:title={'center':'KURTOSIS'}>,\n",
       "        <AxesSubplot:title={'center':'MEDIAN'}>,\n",
       "        <AxesSubplot:title={'center':'N'}>]], dtype=object)"
      ]
     },
     "execution_count": 14,
     "metadata": {},
     "output_type": "execute_result"
    },
    {
     "data": {
      "image/png": "[encoded data removed]",
      "text/plain": [
       "<Figure size 432x288 with 9 Axes>"
      ]
     },
     "metadata": {
      "needs_background": "light"
     },
     "output_type": "display_data"
    }
   ],
   "source": [
    "df_csv.hist()"
   ]
  },
  {
   "cell_type": "code",
   "execution_count": 16,
   "id": "aquatic-relay",
   "metadata": {},
   "outputs": [
    {
     "data": {
      "text/plain": [
       "<AxesSubplot:>"
      ]
     },
     "execution_count": 16,
     "metadata": {},
     "output_type": "execute_result"
    },
    {
     "data": {
      "image/png": "[encoded data removed]",
      "text/plain": [
       "<Figure size 432x288 with 1 Axes>"
      ]
     },
     "metadata": {
      "needs_background": "light"
     },
     "output_type": "display_data"
    }
   ],
   "source": [
    "df_csv['STD_DEV'].hist()"
   ]
  },
  {
   "cell_type": "code",
   "execution_count": null,
   "id": "established-debut",
   "metadata": {},
   "outputs": [],
   "source": []
  },
  {
   "cell_type": "code",
   "execution_count": null,
   "id": "comparative-singer",
   "metadata": {},
   "outputs": [],
   "source": []
  },
  {
   "cell_type": "code",
   "execution_count": null,
   "id": "horizontal-copying",
   "metadata": {},
   "outputs": [],
   "source": []
  },
  {
   "cell_type": "code",
   "execution_count": null,
   "id": "toxic-breathing",
   "metadata": {},
   "outputs": [],
   "source": []
  },
  {
   "cell_type": "code",
   "execution_count": null,
   "id": "radio-administration",
   "metadata": {},
   "outputs": [],
   "source": []
  },
  {
   "cell_type": "code",
   "execution_count": null,
   "id": "transparent-pickup",
   "metadata": {},
   "outputs": [],
   "source": []
  },
  {
   "cell_type": "code",
   "execution_count": null,
   "id": "introductory-pulse",
   "metadata": {},
   "outputs": [],
   "source": []
  },
  {
   "cell_type": "code",
   "execution_count": null,
   "id": "driving-employer",
   "metadata": {},
   "outputs": [],
   "source": []
  },
  {
   "cell_type": "code",
   "execution_count": null,
   "id": "sacred-introduction",
   "metadata": {},
   "outputs": [],
   "source": []
  },
  {
   "cell_type": "code",
   "execution_count": null,
   "id": "talented-research",
   "metadata": {},
   "outputs": [],
   "source": []
  },
  {
   "cell_type": "code",
   "execution_count": null,
   "id": "lyric-wayne",
   "metadata": {},
   "outputs": [],
   "source": []
  },
  {
   "cell_type": "code",
   "execution_count": null,
   "id": "flexible-seattle",
   "metadata": {},
   "outputs": [],
   "source": []
  },
  {
   "cell_type": "code",
   "execution_count": null,
   "id": "threaded-sunglasses",
   "metadata": {},
   "outputs": [],
   "source": []
  },
  {
   "cell_type": "code",
   "execution_count": null,
   "id": "boxed-greene",
   "metadata": {},
   "outputs": [],
   "source": []
  },
  {
   "cell_type": "code",
   "execution_count": null,
   "id": "thirty-default",
   "metadata": {},
   "outputs": [],
   "source": []
  },
  {
   "cell_type": "code",
   "execution_count": null,
   "id": "prime-medication",
   "metadata": {},
   "outputs": [],
   "source": []
  },
  {
   "cell_type": "code",
   "execution_count": null,
   "id": "flexible-reception",
   "metadata": {},
   "outputs": [],
   "source": []
  },
  {
   "cell_type": "code",
   "execution_count": null,
   "id": "metric-flexibility",
   "metadata": {},
   "outputs": [],
   "source": []
  }
 ],
 "metadata": {
  "kernelspec": {
   "display_name": "Python 3",
   "language": "python",
   "name": "python3"
  },
  "language_info": {
   "codemirror_mode": {
    "name": "ipython",
    "version": 3
   },
   "file_extension": ".py",
   "mimetype": "text/x-python",
   "name": "python",
   "nbconvert_exporter": "python",
   "pygments_lexer": "ipython3",
   "version": "3.8.5"
  }
 },
 "nbformat": 4,
 "nbformat_minor": 5
}
