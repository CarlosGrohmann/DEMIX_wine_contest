{
 "cells": [
  {
   "cell_type": "markdown",
   "id": "legal-equation",
   "metadata": {},
   "source": [
    "### Notebook to test the Wine Contest with results from Peter Guth\n",
    "\n",
    "Carlos H Grohmann\n",
    "2022"
   ]
  },
  {
   "cell_type": "code",
   "execution_count": 1,
   "id": "stylish-details",
   "metadata": {},
   "outputs": [
    {
     "name": "stdout",
     "output_type": "stream",
     "text": [
      "Available CSV files: \n",
      "\n",
      "Elev_diff_stats.csv\n",
      "Roughness_diff_stats.csv\n",
      "Slope_diff_stats.csv\n"
     ]
    }
   ],
   "source": [
    "# imports\n",
    "import sys,os\n",
    "import pandas as pd\n",
    "import numpy as np\n",
    "from scipy.special import ndtri\n",
    "import seaborn as sns\n",
    "\n",
    "import demix_wine_functions as dw\n",
    "from IPython.display import display\n",
    "\n",
    "import qgrid\n",
    "\n",
    "# set data dir -CHANGE TO YOURS HERE!!\n",
    "base = '/mnt/d'\n",
    "# base = '/home/guano'\n",
    "datadir = f'{base}/Dropbox/USP/projetosPesquisa/Global_DEMs/DEMIX/SG_2/wine_jupyter/csv_files/files_2022_05_11'\n",
    "tables_dir = f'{base}/Dropbox/USP/projetosPesquisa/Global_DEMs/DEMIX/SG_2/wine_jupyter/Friedmans_tables'\n",
    "\n",
    "# list csv files\n",
    "csv_files = os.listdir(datadir)\n",
    "print('Available CSV files: \\n')\n",
    "for f in csv_files:\n",
    "    print(f)"
   ]
  },
  {
   "cell_type": "code",
   "execution_count": 5,
   "id": "economic-thermal",
   "metadata": {},
   "outputs": [
    {
     "data": {
      "application/vnd.jupyter.widget-view+json": {
       "model_id": "1f85d037c9e44b8a8c3c628a220a6278",
       "version_major": 2,
       "version_minor": 0
      },
      "text/plain": [
       "QgridWidget(grid_options={'fullWidthRows': True, 'syncColumnCellResize': True, 'forceFitColumns': True, 'defau…"
      ]
     },
     "metadata": {},
     "output_type": "display_data"
    }
   ],
   "source": [
    "# define here a list of the files to be opened:\n",
    "# selected_csv_files = csv_files # opens ALL the files\n",
    "selected_csv_files = ['Elev_diff_stats.csv','Roughness_diff_stats.csv','Slope_diff_stats.csv']\n",
    "\n",
    "\n",
    "# make df with one criterion per row\n",
    "df_criteria = dw.make_criteria_df(selected_csv_files,datadir)\n",
    "\n",
    "# make a list of dems, will use it later\n",
    "mtrc_idx  = list(df_criteria.columns).index('METRIC')\n",
    "dem_list  = list(df_criteria.columns)[mtrc_idx+1:]\n",
    "\n",
    "# qshow(df_criteria)\n",
    "grid = qgrid.QGridWidget(df=df_criteria)\n",
    "display(grid)"
   ]
  },
  {
   "cell_type": "code",
   "execution_count": 8,
   "id": "moving-individual",
   "metadata": {},
   "outputs": [
    {
     "name": "stdout",
     "output_type": "stream",
     "text": [
      "n = 1482 (number of criteria)\n",
      "k = 6 (number of DEMs)\n",
      "cf = 108927.0\n",
      "sum of ranks = 25716.0\n",
      "sum of ranks squared = 102828.0\n",
      "chi_r = 9693.850\n",
      "For k=6, CL=0.05, and N=1482, the critical value to compare is chi_crit=11.038\n",
      "Yay!! We can reject the null hipothesis and go to the Post-Hoc analysis!!\n",
      "\n",
      "             rank_sum  rank\n",
      "FABDEM_rank    2784.0   1.0\n",
      "COP_rank       3232.0   2.0\n",
      "ALOS_rank      3557.0   3.0\n",
      "NASA_rank      4881.0   4.0\n",
      "SRTM_rank      5231.0   5.0\n",
      "ASTER_rank     6031.0   6.0\n",
      "\n"
     ]
    },
    {
     "data": {
      "text/html": [
       "<style  type=\"text/css\" >\n",
       "#T_675a2_row0_col1,#T_675a2_row1_col1,#T_675a2_row1_col2,#T_675a2_row2_col1,#T_675a2_row2_col2,#T_675a2_row2_col3,#T_675a2_row3_col1,#T_675a2_row3_col2,#T_675a2_row3_col3,#T_675a2_row3_col4,#T_675a2_row4_col1,#T_675a2_row4_col2,#T_675a2_row4_col3,#T_675a2_row4_col4,#T_675a2_row4_col5,#T_675a2_row5_col1,#T_675a2_row5_col2,#T_675a2_row5_col3,#T_675a2_row5_col4,#T_675a2_row5_col5,#T_675a2_row5_col6{\n",
       "            opacity:  0%;\n",
       "        }</style><table id=\"T_675a2_\" ><thead>    <tr>        <th class=\"blank level0\" ></th>        <th class=\"col_heading level0 col0\" >DEM</th>        <th class=\"col_heading level0 col1\" >COP</th>        <th class=\"col_heading level0 col2\" >SRTM</th>        <th class=\"col_heading level0 col3\" >ALOS</th>        <th class=\"col_heading level0 col4\" >NASA</th>        <th class=\"col_heading level0 col5\" >ASTER</th>        <th class=\"col_heading level0 col6\" >FABDEM</th>    </tr></thead><tbody>\n",
       "                <tr>\n",
       "                        <th id=\"T_675a2_level0_row0\" class=\"row_heading level0 row0\" >0</th>\n",
       "                        <td id=\"T_675a2_row0_col0\" class=\"data row0 col0\" >COP</td>\n",
       "                        <td id=\"T_675a2_row0_col1\" class=\"data row0 col1\" >0</td>\n",
       "                        <td id=\"T_675a2_row0_col2\" class=\"data row0 col2\" >Y</td>\n",
       "                        <td id=\"T_675a2_row0_col3\" class=\"data row0 col3\" >Y</td>\n",
       "                        <td id=\"T_675a2_row0_col4\" class=\"data row0 col4\" >Y</td>\n",
       "                        <td id=\"T_675a2_row0_col5\" class=\"data row0 col5\" >Y</td>\n",
       "                        <td id=\"T_675a2_row0_col6\" class=\"data row0 col6\" >Y</td>\n",
       "            </tr>\n",
       "            <tr>\n",
       "                        <th id=\"T_675a2_level0_row1\" class=\"row_heading level0 row1\" >1</th>\n",
       "                        <td id=\"T_675a2_row1_col0\" class=\"data row1 col0\" >SRTM</td>\n",
       "                        <td id=\"T_675a2_row1_col1\" class=\"data row1 col1\" >0</td>\n",
       "                        <td id=\"T_675a2_row1_col2\" class=\"data row1 col2\" >0</td>\n",
       "                        <td id=\"T_675a2_row1_col3\" class=\"data row1 col3\" >Y</td>\n",
       "                        <td id=\"T_675a2_row1_col4\" class=\"data row1 col4\" >Y</td>\n",
       "                        <td id=\"T_675a2_row1_col5\" class=\"data row1 col5\" >Y</td>\n",
       "                        <td id=\"T_675a2_row1_col6\" class=\"data row1 col6\" >Y</td>\n",
       "            </tr>\n",
       "            <tr>\n",
       "                        <th id=\"T_675a2_level0_row2\" class=\"row_heading level0 row2\" >2</th>\n",
       "                        <td id=\"T_675a2_row2_col0\" class=\"data row2 col0\" >ALOS</td>\n",
       "                        <td id=\"T_675a2_row2_col1\" class=\"data row2 col1\" >0</td>\n",
       "                        <td id=\"T_675a2_row2_col2\" class=\"data row2 col2\" >0</td>\n",
       "                        <td id=\"T_675a2_row2_col3\" class=\"data row2 col3\" >0</td>\n",
       "                        <td id=\"T_675a2_row2_col4\" class=\"data row2 col4\" >Y</td>\n",
       "                        <td id=\"T_675a2_row2_col5\" class=\"data row2 col5\" >Y</td>\n",
       "                        <td id=\"T_675a2_row2_col6\" class=\"data row2 col6\" >Y</td>\n",
       "            </tr>\n",
       "            <tr>\n",
       "                        <th id=\"T_675a2_level0_row3\" class=\"row_heading level0 row3\" >3</th>\n",
       "                        <td id=\"T_675a2_row3_col0\" class=\"data row3 col0\" >NASA</td>\n",
       "                        <td id=\"T_675a2_row3_col1\" class=\"data row3 col1\" >0</td>\n",
       "                        <td id=\"T_675a2_row3_col2\" class=\"data row3 col2\" >0</td>\n",
       "                        <td id=\"T_675a2_row3_col3\" class=\"data row3 col3\" >0</td>\n",
       "                        <td id=\"T_675a2_row3_col4\" class=\"data row3 col4\" >0</td>\n",
       "                        <td id=\"T_675a2_row3_col5\" class=\"data row3 col5\" >Y</td>\n",
       "                        <td id=\"T_675a2_row3_col6\" class=\"data row3 col6\" >Y</td>\n",
       "            </tr>\n",
       "            <tr>\n",
       "                        <th id=\"T_675a2_level0_row4\" class=\"row_heading level0 row4\" >4</th>\n",
       "                        <td id=\"T_675a2_row4_col0\" class=\"data row4 col0\" >ASTER</td>\n",
       "                        <td id=\"T_675a2_row4_col1\" class=\"data row4 col1\" >0</td>\n",
       "                        <td id=\"T_675a2_row4_col2\" class=\"data row4 col2\" >0</td>\n",
       "                        <td id=\"T_675a2_row4_col3\" class=\"data row4 col3\" >0</td>\n",
       "                        <td id=\"T_675a2_row4_col4\" class=\"data row4 col4\" >0</td>\n",
       "                        <td id=\"T_675a2_row4_col5\" class=\"data row4 col5\" >0</td>\n",
       "                        <td id=\"T_675a2_row4_col6\" class=\"data row4 col6\" >Y</td>\n",
       "            </tr>\n",
       "            <tr>\n",
       "                        <th id=\"T_675a2_level0_row5\" class=\"row_heading level0 row5\" >5</th>\n",
       "                        <td id=\"T_675a2_row5_col0\" class=\"data row5 col0\" >FABDEM</td>\n",
       "                        <td id=\"T_675a2_row5_col1\" class=\"data row5 col1\" >0</td>\n",
       "                        <td id=\"T_675a2_row5_col2\" class=\"data row5 col2\" >0</td>\n",
       "                        <td id=\"T_675a2_row5_col3\" class=\"data row5 col3\" >0</td>\n",
       "                        <td id=\"T_675a2_row5_col4\" class=\"data row5 col4\" >0</td>\n",
       "                        <td id=\"T_675a2_row5_col5\" class=\"data row5 col5\" >0</td>\n",
       "                        <td id=\"T_675a2_row5_col6\" class=\"data row5 col6\" >0</td>\n",
       "            </tr>\n",
       "    </tbody></table>"
      ],
      "text/plain": [
       "<pandas.io.formats.style.Styler at 0x7f2012b04d60>"
      ]
     },
     "execution_count": 8,
     "metadata": {},
     "output_type": "execute_result"
    }
   ],
   "source": [
    "# get changed (or not) df from qgrid\n",
    "df_for_ranking = grid.get_changed_df()\n",
    "\n",
    "# calculate ranks for criteria (error metrics) in dataframes\n",
    "df_ranks = dw.make_rank_df(df_for_ranking,dem_list)\n",
    "# df_ranks.iloc[:13,[4,5,6,7,8,9,10,11,12,13,14,15]]\n",
    "# df_ranks\n",
    "\n",
    "#friedman stats\n",
    "dw.friedman_stats(df_ranks,dem_list,tables_dir,cl=0.05)\n",
    "print()\n",
    "\n",
    "# DEMs ranked\n",
    "dw.print_dems_ranked(df_ranks,dem_list)\n",
    "print()\n",
    "\n",
    "# apply Bonferroni-Dunn test\n",
    "df_bd = dw.bonferroni_dunn_test(df_ranks,dem_list,alpha=0.95)\n",
    "df_bd.style.applymap(lambda v: 'opacity: 0%;' if (v==0) else None)"
   ]
  },
  {
   "cell_type": "code",
   "execution_count": null,
   "id": "protecting-price",
   "metadata": {},
   "outputs": [],
   "source": []
  },
  {
   "cell_type": "code",
   "execution_count": null,
   "id": "loaded-style",
   "metadata": {},
   "outputs": [],
   "source": []
  },
  {
   "cell_type": "code",
   "execution_count": null,
   "id": "patent-sculpture",
   "metadata": {},
   "outputs": [],
   "source": []
  },
  {
   "cell_type": "code",
   "execution_count": null,
   "id": "toxic-breathing",
   "metadata": {},
   "outputs": [],
   "source": []
  },
  {
   "cell_type": "code",
   "execution_count": null,
   "id": "radio-administration",
   "metadata": {},
   "outputs": [],
   "source": []
  },
  {
   "cell_type": "code",
   "execution_count": null,
   "id": "transparent-pickup",
   "metadata": {},
   "outputs": [],
   "source": []
  },
  {
   "cell_type": "code",
   "execution_count": null,
   "id": "introductory-pulse",
   "metadata": {},
   "outputs": [],
   "source": []
  },
  {
   "cell_type": "code",
   "execution_count": null,
   "id": "driving-employer",
   "metadata": {},
   "outputs": [],
   "source": []
  },
  {
   "cell_type": "code",
   "execution_count": null,
   "id": "sacred-introduction",
   "metadata": {},
   "outputs": [],
   "source": []
  },
  {
   "cell_type": "code",
   "execution_count": null,
   "id": "talented-research",
   "metadata": {},
   "outputs": [],
   "source": []
  },
  {
   "cell_type": "code",
   "execution_count": null,
   "id": "lyric-wayne",
   "metadata": {},
   "outputs": [],
   "source": []
  },
  {
   "cell_type": "code",
   "execution_count": null,
   "id": "flexible-seattle",
   "metadata": {},
   "outputs": [],
   "source": []
  },
  {
   "cell_type": "code",
   "execution_count": null,
   "id": "threaded-sunglasses",
   "metadata": {},
   "outputs": [],
   "source": []
  },
  {
   "cell_type": "code",
   "execution_count": null,
   "id": "boxed-greene",
   "metadata": {},
   "outputs": [],
   "source": []
  },
  {
   "cell_type": "code",
   "execution_count": null,
   "id": "thirty-default",
   "metadata": {},
   "outputs": [],
   "source": []
  },
  {
   "cell_type": "code",
   "execution_count": null,
   "id": "flexible-reception",
   "metadata": {},
   "outputs": [],
   "source": []
  },
  {
   "cell_type": "code",
   "execution_count": 53,
   "id": "macro-miller",
   "metadata": {},
   "outputs": [],
   "source": []
  },
  {
   "cell_type": "code",
   "execution_count": null,
   "id": "embedded-reminder",
   "metadata": {},
   "outputs": [],
   "source": []
  },
  {
   "cell_type": "code",
   "execution_count": null,
   "id": "funny-satisfaction",
   "metadata": {},
   "outputs": [],
   "source": []
  },
  {
   "cell_type": "code",
   "execution_count": null,
   "id": "formal-windsor",
   "metadata": {},
   "outputs": [],
   "source": []
  }
 ],
 "metadata": {
  "kernelspec": {
   "display_name": "Python 3",
   "language": "python",
   "name": "python3"
  },
  "language_info": {
   "codemirror_mode": {
    "name": "ipython",
    "version": 3
   },
   "file_extension": ".py",
   "mimetype": "text/x-python",
   "name": "python",
   "nbconvert_exporter": "python",
   "pygments_lexer": "ipython3",
   "version": "3.8.5"
  }
 },
 "nbformat": 4,
 "nbformat_minor": 5
}
