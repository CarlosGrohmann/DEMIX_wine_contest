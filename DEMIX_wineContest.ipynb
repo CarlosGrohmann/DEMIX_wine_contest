{
 "cells": [
  {
   "cell_type": "markdown",
   "id": "legal-equation",
   "metadata": {},
   "source": [
    "### Notebook to show the Wine Contest with results from MicroDEM\n",
    "\n",
    "Notebook by Carlos H Grohmann (IEE-USP, Brazil)  \n",
    "last update 2022-07-18"
   ]
  },
  {
   "cell_type": "code",
   "execution_count": null,
   "id": "abandoned-gamma",
   "metadata": {},
   "outputs": [],
   "source": []
  },
  {
   "cell_type": "markdown",
   "id": "skilled-amsterdam",
   "metadata": {},
   "source": [
    "### 1 - Import python libraries"
   ]
  },
  {
   "cell_type": "code",
   "execution_count": 1,
   "id": "solar-caribbean",
   "metadata": {},
   "outputs": [],
   "source": [
    "# imports\n",
    "import sys,os\n",
    "import pandas as pd\n",
    "import numpy as np\n",
    "from scipy.special import ndtri\n",
    "from scipy import stats\n",
    "import matplotlib.pyplot as plt\n",
    "import seaborn as sns\n",
    "sns.set(style=\"whitegrid\")\n",
    "\n",
    "from ipywidgets import Button\n",
    "from tkinter import Tk, filedialog\n",
    "from IPython.display import clear_output, display\n",
    "\n",
    "import demix_wine_functions as dw\n",
    "\n",
    "import qgrid"
   ]
  },
  {
   "cell_type": "markdown",
   "id": "superb-nicaragua",
   "metadata": {},
   "source": [
    "### 2 - Set data directories and define how to select CSV files  \n",
    "\n",
    "You can choose the CSV files in two ways:  \n",
    "\n",
    "1 - run this cell to create a \"Select CSV file(s)\" button, then choose a local file (re-run the cell to re-cretae the button and choose a different file)  \n",
    "\n",
    "2 - uncomment the last lines to just print a list of CSV files in the \"root_dir\"\n",
    "directory. In the next cell, you can then add the wanted files to a list manually."
   ]
  },
  {
   "cell_type": "code",
   "execution_count": 2,
   "id": "stylish-details",
   "metadata": {},
   "outputs": [
    {
     "data": {
      "application/vnd.jupyter.widget-view+json": {
       "model_id": "3c17e0ea71bf4efcb79c32a7a1a1408f",
       "version_major": 2,
       "version_minor": 0
      },
      "text/plain": [
       "Button(description='Select CSV file(s)', style=ButtonStyle())"
      ]
     },
     "metadata": {},
     "output_type": "display_data"
    }
   ],
   "source": [
    "# set data directories \n",
    "root_dir = '.'\n",
    "tables_dir = f'{root_dir}/Friedmans_tables'\n",
    "\n",
    "# --------------------------------------------------------\n",
    "# choose local CSV file(s) - click on the button that is created\n",
    "# when you run this cell and choose the file(s)\n",
    "open_csv_files = Button(description=\"Select CSV file(s)\")\n",
    "open_csv_files.files = ()\n",
    "open_csv_files.on_click(dw.select_files)\n",
    "open_csv_files\n",
    "\n",
    "# --------------------------------------------------------\n",
    "# alternatively, list all CSV files from a directory \n",
    "# and add them manually to the list of files to be opened\n",
    "# uncomment the lines below to list the files in \"root_dir\"\n",
    "\n",
    "# all_files = os.listdir(root_dir)\n",
    "# csv_files = [f for f in all_files if f.endswith('.csv')]\n",
    "# print('Available CSV files: \\n')\n",
    "# for f in csv_files:\n",
    "#     print(f)"
   ]
  },
  {
   "cell_type": "markdown",
   "id": "short-viking",
   "metadata": {},
   "source": [
    "### 3 - Define which files will be opened, those selected using the button/file chooser dialog or those defined manually in a list"
   ]
  },
  {
   "cell_type": "code",
   "execution_count": 6,
   "id": "right-consultancy",
   "metadata": {},
   "outputs": [],
   "source": [
    "# --------------------------------------------------------\n",
    "# this option will open the files selected via the button/file chooser \n",
    "selected_csv_files = open_csv_files.files\n",
    "\n",
    "# --------------------------------------------------------\n",
    "# uncomment the lines below to use the files list\n",
    "# files_list = ['file1.csv','file2.csv','file3.csv']\n",
    "# selected_csv_files = [f'{root_dir}/{f}' for f in files_list]\n",
    "\n",
    "# files_list = ['simple_italy.csv']\n",
    "# files_list = ['demix_15july.csv']\n",
    "# selected_csv_files = [f'{root_dir}/csv_files/{f}' for f in files_list]"
   ]
  },
  {
   "cell_type": "markdown",
   "id": "robust-setup",
   "metadata": {},
   "source": [
    "### 4 - Read CSV and create dataframe"
   ]
  },
  {
   "cell_type": "code",
   "execution_count": 7,
   "id": "economic-thermal",
   "metadata": {},
   "outputs": [],
   "source": [
    "# make df with one criterion per row\n",
    "df_criteria = dw.make_criteria_df(selected_csv_files)\n",
    "\n",
    "# we use this to remove the '-9999' values that come from voids (nodata)\n",
    "df_criteria.replace({-9999: np.nan}, inplace=True)\n",
    "\n",
    "# make a list of dems being compared, will be needed later\n",
    "crit_idx  = list(df_criteria.columns).index('CRITERION')\n",
    "dem_list  = list(df_criteria.columns)[crit_idx+1:]"
   ]
  },
  {
   "cell_type": "code",
   "execution_count": 8,
   "id": "db5ff9d1",
   "metadata": {},
   "outputs": [
    {
     "data": {
      "text/plain": [
       "Index(['AREA', 'DEMIX_TILE', 'LAT', 'LONG', 'AVG_ELEV', 'AVG_SLOPE',\n",
       "       'AVG_ROUGH', 'RELIEF', 'FOREST_PC', 'URBAN_PC', 'REF_TYPE', 'LAND_TYPE',\n",
       "       'LANDTYP_PC', 'BEST_DEM', 'CRITERION', 'FABDEM', 'COP', 'ALOS', 'NASA',\n",
       "       'SRTM', 'ASTER'],\n",
       "      dtype='object')"
      ]
     },
     "execution_count": 8,
     "metadata": {},
     "output_type": "execute_result"
    }
   ],
   "source": [
    "df_criteria.columns"
   ]
  },
  {
   "cell_type": "code",
   "execution_count": 9,
   "id": "64eac95e",
   "metadata": {},
   "outputs": [],
   "source": [
    "# romove some columns which are not important for the wine contest\n",
    "# but useful for the description of the results and plots\n",
    "# cols_to_drop = ['BEST_DEM','FABDEM_SCR','COP_SCR','ALOS_SCR','NASA_SCR','SRTM_SCR','ASTER_SCR','REC_ID']\n",
    "# df_criteria = df_criteria_full.drop(cols_to_drop, axis=1)"
   ]
  },
  {
   "cell_type": "markdown",
   "id": "amateur-poker",
   "metadata": {},
   "source": [
    "### 5 - Display the dataframe using qgrid  \n",
    "\n",
    "You can use the filter controls next to each column name to further select which data you want to be analysed.  \n",
    "\n",
    "Note that applying a filter to any DEM column will impact the results, and therefore is not advisable. "
   ]
  },
  {
   "cell_type": "code",
   "execution_count": 10,
   "id": "premium-lightweight",
   "metadata": {
    "scrolled": true
   },
   "outputs": [
    {
     "data": {
      "application/vnd.jupyter.widget-view+json": {
       "model_id": "554fa7c080c44456947b2e6cda2a7084",
       "version_major": 2,
       "version_minor": 0
      },
      "text/plain": [
       "QgridWidget(grid_options={'fullWidthRows': True, 'syncColumnCellResize': True, 'forceFitColumns': True, 'defau…"
      ]
     },
     "metadata": {},
     "output_type": "display_data"
    }
   ],
   "source": [
    "grid = qgrid.show_grid(data_frame=df_criteria)\n",
    "display(grid)"
   ]
  },
  {
   "cell_type": "markdown",
   "id": "balanced-navigator",
   "metadata": {},
   "source": [
    "### 6 - Run the statistical analysis and check results\n",
    "\n",
    "Run the next cell every time you change the selection of the dataframe using the filter controls to get new results based on the filtered data"
   ]
  },
  {
   "cell_type": "code",
   "execution_count": 13,
   "id": "moving-individual",
   "metadata": {},
   "outputs": [
    {
     "name": "stdout",
     "output_type": "stream",
     "text": [
      "Ranking using tolerance of: 0.01\n",
      "\n",
      "\n",
      "N = 13275 (number of \"opinions\")\n",
      "k = 6 (number of DEMs)\n",
      "CF = 975712.5\n",
      "chi_r = -30002.193\n",
      "For k=6, CL=0.05, and N=13275, the critical value to compare is chi_crit=11.038\n",
      "But since chi_r (-30002.193407556606) is less than chi_crit (11.038)...\n",
      "Oh, no! We cannot disprove the null hipothesis at the given CL...\n",
      "\n",
      "             rank_sum  rank\n",
      "FABDEM_rank   27290.5   1.0\n",
      "ALOS_rank     31706.0   2.0\n",
      "COP_rank      33209.0   3.0\n",
      "NASA_rank     46525.0   4.0\n",
      "SRTM_rank     48607.0   5.0\n",
      "ASTER_rank    69717.5   6.0\n",
      "\n"
     ]
    },
    {
     "data": {
      "text/html": [
       "<style  type=\"text/css\" >\n",
       "#T_cff87_row0_col1,#T_cff87_row1_col1,#T_cff87_row1_col2,#T_cff87_row2_col1,#T_cff87_row2_col2,#T_cff87_row2_col3,#T_cff87_row3_col1,#T_cff87_row3_col2,#T_cff87_row3_col3,#T_cff87_row3_col4,#T_cff87_row4_col1,#T_cff87_row4_col2,#T_cff87_row4_col3,#T_cff87_row4_col4,#T_cff87_row4_col5,#T_cff87_row5_col1,#T_cff87_row5_col2,#T_cff87_row5_col3,#T_cff87_row5_col4,#T_cff87_row5_col5,#T_cff87_row5_col6{\n",
       "            opacity:  0%;\n",
       "        }</style><table id=\"T_cff87_\" ><thead>    <tr>        <th class=\"blank level0\" ></th>        <th class=\"col_heading level0 col0\" >DEM</th>        <th class=\"col_heading level0 col1\" >FABDEM</th>        <th class=\"col_heading level0 col2\" >COP</th>        <th class=\"col_heading level0 col3\" >ALOS</th>        <th class=\"col_heading level0 col4\" >NASA</th>        <th class=\"col_heading level0 col5\" >SRTM</th>        <th class=\"col_heading level0 col6\" >ASTER</th>    </tr></thead><tbody>\n",
       "                <tr>\n",
       "                        <th id=\"T_cff87_level0_row0\" class=\"row_heading level0 row0\" >0</th>\n",
       "                        <td id=\"T_cff87_row0_col0\" class=\"data row0 col0\" >FABDEM</td>\n",
       "                        <td id=\"T_cff87_row0_col1\" class=\"data row0 col1\" >0</td>\n",
       "                        <td id=\"T_cff87_row0_col2\" class=\"data row0 col2\" >Y</td>\n",
       "                        <td id=\"T_cff87_row0_col3\" class=\"data row0 col3\" >Y</td>\n",
       "                        <td id=\"T_cff87_row0_col4\" class=\"data row0 col4\" >Y</td>\n",
       "                        <td id=\"T_cff87_row0_col5\" class=\"data row0 col5\" >Y</td>\n",
       "                        <td id=\"T_cff87_row0_col6\" class=\"data row0 col6\" >Y</td>\n",
       "            </tr>\n",
       "            <tr>\n",
       "                        <th id=\"T_cff87_level0_row1\" class=\"row_heading level0 row1\" >1</th>\n",
       "                        <td id=\"T_cff87_row1_col0\" class=\"data row1 col0\" >COP</td>\n",
       "                        <td id=\"T_cff87_row1_col1\" class=\"data row1 col1\" >0</td>\n",
       "                        <td id=\"T_cff87_row1_col2\" class=\"data row1 col2\" >0</td>\n",
       "                        <td id=\"T_cff87_row1_col3\" class=\"data row1 col3\" >Y</td>\n",
       "                        <td id=\"T_cff87_row1_col4\" class=\"data row1 col4\" >Y</td>\n",
       "                        <td id=\"T_cff87_row1_col5\" class=\"data row1 col5\" >Y</td>\n",
       "                        <td id=\"T_cff87_row1_col6\" class=\"data row1 col6\" >Y</td>\n",
       "            </tr>\n",
       "            <tr>\n",
       "                        <th id=\"T_cff87_level0_row2\" class=\"row_heading level0 row2\" >2</th>\n",
       "                        <td id=\"T_cff87_row2_col0\" class=\"data row2 col0\" >ALOS</td>\n",
       "                        <td id=\"T_cff87_row2_col1\" class=\"data row2 col1\" >0</td>\n",
       "                        <td id=\"T_cff87_row2_col2\" class=\"data row2 col2\" >0</td>\n",
       "                        <td id=\"T_cff87_row2_col3\" class=\"data row2 col3\" >0</td>\n",
       "                        <td id=\"T_cff87_row2_col4\" class=\"data row2 col4\" >Y</td>\n",
       "                        <td id=\"T_cff87_row2_col5\" class=\"data row2 col5\" >Y</td>\n",
       "                        <td id=\"T_cff87_row2_col6\" class=\"data row2 col6\" >Y</td>\n",
       "            </tr>\n",
       "            <tr>\n",
       "                        <th id=\"T_cff87_level0_row3\" class=\"row_heading level0 row3\" >3</th>\n",
       "                        <td id=\"T_cff87_row3_col0\" class=\"data row3 col0\" >NASA</td>\n",
       "                        <td id=\"T_cff87_row3_col1\" class=\"data row3 col1\" >0</td>\n",
       "                        <td id=\"T_cff87_row3_col2\" class=\"data row3 col2\" >0</td>\n",
       "                        <td id=\"T_cff87_row3_col3\" class=\"data row3 col3\" >0</td>\n",
       "                        <td id=\"T_cff87_row3_col4\" class=\"data row3 col4\" >0</td>\n",
       "                        <td id=\"T_cff87_row3_col5\" class=\"data row3 col5\" >Y</td>\n",
       "                        <td id=\"T_cff87_row3_col6\" class=\"data row3 col6\" >Y</td>\n",
       "            </tr>\n",
       "            <tr>\n",
       "                        <th id=\"T_cff87_level0_row4\" class=\"row_heading level0 row4\" >4</th>\n",
       "                        <td id=\"T_cff87_row4_col0\" class=\"data row4 col0\" >SRTM</td>\n",
       "                        <td id=\"T_cff87_row4_col1\" class=\"data row4 col1\" >0</td>\n",
       "                        <td id=\"T_cff87_row4_col2\" class=\"data row4 col2\" >0</td>\n",
       "                        <td id=\"T_cff87_row4_col3\" class=\"data row4 col3\" >0</td>\n",
       "                        <td id=\"T_cff87_row4_col4\" class=\"data row4 col4\" >0</td>\n",
       "                        <td id=\"T_cff87_row4_col5\" class=\"data row4 col5\" >0</td>\n",
       "                        <td id=\"T_cff87_row4_col6\" class=\"data row4 col6\" >Y</td>\n",
       "            </tr>\n",
       "            <tr>\n",
       "                        <th id=\"T_cff87_level0_row5\" class=\"row_heading level0 row5\" >5</th>\n",
       "                        <td id=\"T_cff87_row5_col0\" class=\"data row5 col0\" >ASTER</td>\n",
       "                        <td id=\"T_cff87_row5_col1\" class=\"data row5 col1\" >0</td>\n",
       "                        <td id=\"T_cff87_row5_col2\" class=\"data row5 col2\" >0</td>\n",
       "                        <td id=\"T_cff87_row5_col3\" class=\"data row5 col3\" >0</td>\n",
       "                        <td id=\"T_cff87_row5_col4\" class=\"data row5 col4\" >0</td>\n",
       "                        <td id=\"T_cff87_row5_col5\" class=\"data row5 col5\" >0</td>\n",
       "                        <td id=\"T_cff87_row5_col6\" class=\"data row5 col6\" >0</td>\n",
       "            </tr>\n",
       "    </tbody></table>"
      ],
      "text/plain": [
       "<pandas.io.formats.style.Styler at 0x7f3573195d60>"
      ]
     },
     "execution_count": 13,
     "metadata": {},
     "output_type": "execute_result"
    }
   ],
   "source": [
    "# get changed (or not) df from qgrid - only the DEM values for ranking\n",
    "df_for_ranking = grid.get_changed_df()\n",
    "\n",
    "# tolerance\n",
    "tolerance = 0.010\n",
    "\n",
    "# calculate ranks for metrics in dataframe\n",
    "df_ranks = dw.make_rank_df(df_for_ranking,dem_list,tolerance,method='average')\n",
    "\n",
    "#friedman stats\n",
    "CL = 0.05 # confidence level\n",
    "dw.friedman_stats(df_ranks,dem_list,tables_dir,cl=CL)\n",
    "print()\n",
    "\n",
    "# DEMs ranked\n",
    "dw.print_dems_ranked(df_ranks,dem_list)\n",
    "print()\n",
    "\n",
    "# apply Bonferroni-Dunn test\n",
    "df_bd = dw.bonferroni_dunn_test(df_ranks,dem_list,alpha=0.95)\n",
    "df_bd.style.applymap(lambda v: 'opacity: 0%;' if (v==0) else None)"
   ]
  },
  {
   "cell_type": "code",
   "execution_count": null,
   "id": "revolutionary-variation",
   "metadata": {},
   "outputs": [],
   "source": []
  },
  {
   "cell_type": "code",
   "execution_count": null,
   "id": "liable-oriental",
   "metadata": {},
   "outputs": [],
   "source": []
  },
  {
   "cell_type": "code",
   "execution_count": null,
   "id": "bibliographic-ribbon",
   "metadata": {},
   "outputs": [],
   "source": [
    "# def wilcox_test(df,dems_list,alpha=0.95):\n",
    "#     '''apply Wilconx test'''\n",
    "    \n",
    "#     dem_cols_rank = [i+'_rank' for i in dems_list]\n",
    "#     dems_ranked = df[dem_cols_rank].sum()\n",
    "\n",
    "# k = len(dem_list)\n",
    "# n = len(df) # number of CRITERIA \n",
    "\n",
    "# # alpha = 0.95 default value\n",
    "# quant =  1-alpha/k/(k-1)\n",
    "# zi = ndtri(quant)\n",
    "# crit = zi*np.sqrt(n*k*(k+1)/6) # always divide by 6\n",
    "    \n",
    "#     # create table\n",
    "#     cols = ['DEM'] + dems_list\n",
    "#     df_table = pd.DataFrame(columns=cols) # df and cols names\n",
    "#     df_table['DEM'] = dems_list # first column of df\n",
    "\n",
    "#     # get ranks values \n",
    "#     ranks_vals = dems_ranked.to_frame().T\n",
    "dem_list  = list(df_criteria_full.columns)[crit_idx+1:]\n",
    "first = second = dem_list\n",
    "combined = [(f,s) for f in first for s in second if f!=s]\n",
    "\n",
    "    # populate table\n",
    "for pair in combined:\n",
    "    d1 = pair[0]\n",
    "    d2 = pair[1]\n",
    "    print(f'{d1} x {d2} w = {w}')\n",
    "    w, p = stats.wilcoxon(df_ranks[d1],df_ranks[d2],alternative='greater')\n",
    "#     print(f'w: {w}')\n",
    "#     print(f'p: {p}')\n",
    "    \n",
    "    \n",
    "#             # print(d1,d2,rank_dem1,rank_dem2)\n",
    "#             if np.abs(rank_dem1 - rank_dem2) > crit:\n",
    "#                 df_table.at[r,d2] = 'Y'\n",
    "#             else:\n",
    "#                 df_table.at[r,d2] = 'N'\n",
    "\n",
    "#     # use numpy to get only the upper triangle of the table \n",
    "#     m = np.triu(df_table.values,k=2)\n",
    "#     df2 = pd.DataFrame(m,columns=cols)\n",
    "#     df2['DEM'] = dems_list\n",
    "#     # return df2\n",
    "#     return df2\n"
   ]
  },
  {
   "cell_type": "code",
   "execution_count": null,
   "id": "f1f499e5",
   "metadata": {},
   "outputs": [],
   "source": []
  },
  {
   "cell_type": "code",
   "execution_count": null,
   "id": "46027f2d",
   "metadata": {},
   "outputs": [],
   "source": []
  },
  {
   "cell_type": "code",
   "execution_count": null,
   "id": "27062c2c",
   "metadata": {},
   "outputs": [],
   "source": []
  },
  {
   "cell_type": "code",
   "execution_count": null,
   "id": "b2b66e01",
   "metadata": {},
   "outputs": [],
   "source": []
  },
  {
   "cell_type": "code",
   "execution_count": null,
   "id": "a7483422",
   "metadata": {},
   "outputs": [],
   "source": []
  },
  {
   "cell_type": "code",
   "execution_count": null,
   "id": "0ef874a1",
   "metadata": {},
   "outputs": [],
   "source": []
  },
  {
   "cell_type": "code",
   "execution_count": null,
   "id": "fed04237",
   "metadata": {},
   "outputs": [],
   "source": []
  },
  {
   "cell_type": "markdown",
   "id": "2a0a5761",
   "metadata": {},
   "source": [
    "### 7 - Make some plots\n"
   ]
  },
  {
   "cell_type": "code",
   "execution_count": null,
   "id": "defensive-musician",
   "metadata": {},
   "outputs": [],
   "source": [
    "# main options for plots (colors, symbols etc)\n",
    "\n",
    "# dem order\n",
    "dem_order = ['ALOS','COP','FABDEM','NASA','SRTM','ASTER']\n",
    "dem_order_rank = [i+'_rank' for i in dem_order]\n",
    "# dem_colors_rank = {'ALOS_rank':'firebrick','COP_rank':'royalblue','FABDEM_rank':'forestgreen','NASA_rank':'darkorchid','SRTM_rank':'darkorange','ASTER_rank':'darkgoldenrod'}\n",
    "# colors = ['firebrick','royalblue','forestgreen','darkorchid','darkorange','darkgoldenrod']\n",
    "\n",
    "# symbols\n",
    "symbols = ['X','o','s','^','v','d']\n",
    "\n",
    "# http://scipy.github.io/old-wiki/pages/Cookbook/Matplotlib/Show_colormaps"
   ]
  },
  {
   "cell_type": "code",
   "execution_count": null,
   "id": "loaded-style",
   "metadata": {},
   "outputs": [],
   "source": [
    "# create a dataframe for plotting the normalized values for each criterion\n",
    "# Uses the unfiltered 'df_criteria' dataframe!\n",
    "        \n",
    "# create dict with each criterion in CRITERION column \n",
    "# and each type in REF_TYPE and LAND_TYPE columns\n",
    "crit_dict = {target:'CRITERION' for target in df_criteria['CRITERION'].unique()}\n",
    "type_dict = {\n",
    "    'DSM':'REF_TYPE',\n",
    "    'DTM':'REF_TYPE',\n",
    "    'ALL':'LAND_TYPE',\n",
    "    'FLAT':'LAND_TYPE',\n",
    "    'STEEP':'LAND_TYPE',\n",
    "    'URBAN':'LAND_TYPE',\n",
    "    'FOREST':'LAND_TYPE'}\n",
    "eq_dict ={**type_dict,**crit_dict}\n",
    "\n",
    "# create dict to hold greater than conditions\n",
    "gt_dict={\n",
    "    'Urban > 25 %':'URBAN_PC',\n",
    "    'Forest > 50 %':'FOREST_PC',\n",
    "    'Avg Rough > 10 m':'AVG_ROUGH',\n",
    "    'Relief > 500 m':'RELIEF',\n",
    "    'Avg Slope > 18 %':'AVG_SLOPE'}\n",
    "\n",
    "# create dict to hold less than conditions\n",
    "lt_dict={\n",
    "    'Avg Rough < 5 m':'AVG_ROUGH',\n",
    "    'Relief < 25 m':'RELIEF',\n",
    "    'Avg Slope < 18 %':'AVG_SLOPE'}\n",
    "\n",
    "# list of labels to define order of row for plotting\n",
    "list_yaxis = ['Forest > 50 %', \n",
    "'Urban > 25 %',\n",
    "'Avg Rough < 5 m', \n",
    "'Avg Rough > 10 m', \n",
    "'Relief > 500 m',\n",
    "'Relief < 25 m',\n",
    "'Avg Slope > 18 %', \n",
    "'Avg Slope < 18 %', \n",
    "'DSM', \n",
    "'DTM', \n",
    "'FOREST', \n",
    "'URBAN', \n",
    "'STEEP',\n",
    "'FLAT', \n",
    "'ALL', \n",
    "'ELD_LE90',\n",
    "'ELD_MAE', \n",
    "'ELD_RMSE', \n",
    "'ELD_STD', \n",
    "'ELD_AVG', \n",
    "'SMD_LE90', \n",
    "'SMD_MAE', \n",
    "'SMD_RMSE', \n",
    "'SMD_STD', \n",
    "'SMD_AVG', \n",
    "'RUFD_LE90', \n",
    "'RUFD_MAE', \n",
    "'RUFD_RMSE', \n",
    "'RUFD_STD', \n",
    "'RUFD_AVG']\n",
    "\n",
    "# get ranks for conditions and make dataframes\n",
    "# ideally, this should be run with the full df_ranks dataframe \n",
    "df_eq_crit = dw.get_ranks_for_equal_criteria(df_ranks,eq_dict,dem_list)\n",
    "df_gt_crit = dw.get_ranks_for_gt_criteria(df_ranks,gt_dict,dem_list)\n",
    "df_lt_crit = dw.get_ranks_for_lt_criteria(df_ranks,lt_dict,dem_list)\n",
    "\n",
    "# create dataframe for plotting \n",
    "df_plot = pd.concat([df_gt_crit,df_lt_crit,df_eq_crit])\n",
    "\n",
    "# normalize values per row\n",
    "df_plot_norm = df_plot.div(df_plot.max(axis=1), axis=0)\n",
    "\n",
    "# df_plot_norm #uncomment to see the dataframe"
   ]
  },
  {
   "cell_type": "code",
   "execution_count": null,
   "id": "lyric-wayne",
   "metadata": {},
   "outputs": [],
   "source": [
    "# define df and order of rows for plotting\n",
    "df = df_plot_norm.loc[list_yaxis][::-1]\n",
    "\n",
    "# plot\n",
    "fig, ax = plt.subplots(figsize=(10,15))\n",
    "for dem,s in zip(dem_list,symbols):\n",
    "    ax.scatter(y=df.index, x=df[dem], label=dem, marker=s, s=50, cmap='Paired', alpha=0.8)\n",
    "\n",
    "# decorations\n",
    "ax.set_title('Normalized ranks', fontdict={'size':18})\n",
    "ax.set_xlabel('Normalized ranks')\n",
    "ax.set_yticks(df.index)\n",
    "ax.legend()\n",
    "plt.show()"
   ]
  },
  {
   "cell_type": "code",
   "execution_count": null,
   "id": "43a83a45",
   "metadata": {},
   "outputs": [],
   "source": []
  },
  {
   "cell_type": "code",
   "execution_count": null,
   "id": "27d8ba0c",
   "metadata": {},
   "outputs": [],
   "source": [
    "# create a dataframe for plotting the metrics values for selected tiles\n",
    "        \n",
    "# selected tiles\n",
    "tiles_list= [\n",
    "'N59TE010C',\n",
    "'N59TE010B',\n",
    "'N59RE010C',\n",
    "'N59RE010B',\n",
    "'N59RE0101',\n",
    "'N59RE009G',\n",
    "'N43PW002C',\n",
    "'N43PW002B',\n",
    "'N28XW018B',\n",
    "'N28VW018B',]\n",
    "\n",
    "# selected criteria\n",
    "crit_list = [\n",
    "'ELD_LE90']#,\n",
    "#'ELD_RMSE']\n",
    "\n",
    "# select by tile, by criteria, and only with 'LAND_TYPE'=='ALL'\n",
    "df = df_ranks\n",
    "df_select = df.loc[(df['DEMIX_TILE'].isin(tiles_list)) & (df['CRITERION'].isin(crit_list)) & (df['LAND_TYPE']=='ALL')]\n",
    "\n",
    "# select only needed cols and set index \n",
    "df_select = df_select[['DEMIX_TILE','REF_TYPE','CRITERION'] + dem_order].set_index('DEMIX_TILE')\n"
   ]
  },
  {
   "cell_type": "code",
   "execution_count": null,
   "id": "4ea630b9",
   "metadata": {},
   "outputs": [],
   "source": [
    "# plot\n",
    "\n",
    "# figure\n",
    "fig, (ax1, ax2) = plt.subplots(2, sharex=True, figsize=(10,15))\n",
    "\n",
    "# dsm\n",
    "ax1.set_ylabel('DSM')\n",
    "df = df_select.loc[df_select['REF_TYPE']=='DSM']\n",
    "for tile,dem,s in zip(tiles_list,dem_list,symbols):\n",
    "    ax1.scatter(y=df.index, x=df[dem], label=dem, marker=s, s=80, cmap='Paired', alpha=0.8)\n",
    "ax1.legend()\n",
    "\n",
    "# dtm\n",
    "ax2.set_ylabel('DTM')\n",
    "df = df_select.loc[df_select['REF_TYPE']=='DTM']\n",
    "for tile,dem,s in zip(tiles_list,dem_list,symbols):\n",
    "    ax2.scatter(y=df.index, x=df[dem], label=dem, marker=s, s=80, cmap='Paired', alpha=0.8)\n",
    "    \n",
    "# decorations\n",
    "fig.suptitle('ELD_LE90', fontsize=14, y=0.9);\n",
    "plt.subplots_adjust(hspace=0.05)\n"
   ]
  },
  {
   "cell_type": "code",
   "execution_count": null,
   "id": "01f31a79",
   "metadata": {},
   "outputs": [],
   "source": []
  },
  {
   "cell_type": "code",
   "execution_count": null,
   "id": "9c5a00c8",
   "metadata": {},
   "outputs": [],
   "source": []
  },
  {
   "cell_type": "code",
   "execution_count": null,
   "id": "flexible-seattle",
   "metadata": {},
   "outputs": [],
   "source": []
  },
  {
   "cell_type": "code",
   "execution_count": null,
   "id": "thirty-default",
   "metadata": {},
   "outputs": [],
   "source": [
    "# create a dataframe for plotting the counting of ranks for each DEM\n",
    "# Uses the unfiltered 'df_criteria' dataframe!\n",
    "\n",
    "ranks_cols = [i+'_rank' for i in dem_list]\n",
    "df_only_ranks = df_ranks[ranks_cols]\n",
    "df_counts = df_only_ranks.apply(pd.value_counts)\n",
    "\n",
    "# df_counts[dem_order_rank] # uncomment to see the dataframe"
   ]
  },
  {
   "cell_type": "code",
   "execution_count": null,
   "id": "flexible-reception",
   "metadata": {},
   "outputs": [],
   "source": [
    "# plot stacked bar chart of ranks - by DEM\n",
    "# color=[plt.cm.Paired(np.arange(len(df)))])\n",
    "\n",
    "df = df_counts[dem_order_rank].T\n",
    "ax = df.plot(kind='barh', stacked=True, figsize=(12,5), sort_columns=True, colormap='RdBu', alpha=0.6)\n",
    "ax.legend(loc='center left',bbox_to_anchor=(1.0, 0.5))\n",
    "ax.set_title('Ranks by DEM');"
   ]
  },
  {
   "cell_type": "code",
   "execution_count": null,
   "id": "macro-miller",
   "metadata": {},
   "outputs": [],
   "source": []
  },
  {
   "cell_type": "code",
   "execution_count": null,
   "id": "embedded-reminder",
   "metadata": {},
   "outputs": [],
   "source": [
    "# plot stacked bar chart of rank - by rank value\n",
    "df = df_counts[dem_order_rank]\n",
    "ax = df.plot(kind='barh', stacked=True, figsize=(12,8), colormap='Paired', alpha=0.8)#, color=dem_colors_rank)\n",
    "ax.legend(loc='center left',bbox_to_anchor=(1.0, 0.5))\n",
    "ax.set_title('Ranks by value');"
   ]
  },
  {
   "cell_type": "code",
   "execution_count": null,
   "id": "funny-satisfaction",
   "metadata": {},
   "outputs": [],
   "source": []
  },
  {
   "cell_type": "code",
   "execution_count": null,
   "id": "associate-cartridge",
   "metadata": {},
   "outputs": [],
   "source": [
    "# create a dataframe for plotting the counting of ranks for each criterion\n",
    "\n",
    "crit_list = ['ELD_LE90',\n",
    "'ELD_MAE', \n",
    "'ELD_RMSE', \n",
    "'ELD_STD', \n",
    "'ELD_AVG', \n",
    "'SMD_LE90', \n",
    "'SMD_MAE', \n",
    "'SMD_RMSE', \n",
    "'SMD_STD', \n",
    "'SMD_AVG', \n",
    "'RUFD_LE90', \n",
    "'RUFD_MAE', \n",
    "'RUFD_RMSE', \n",
    "'RUFD_STD', \n",
    "'RUFD_AVG']\n",
    "\n",
    "# subset ranks dataframe\n",
    "dem_ranks = [i+'_rank' for i in dem_list]\n",
    "ranks_cols = ['CRITERION']+dem_ranks\n",
    "df_crit_ranks = df_ranks[ranks_cols]\n",
    "\n",
    "# create new df\n",
    "df_crit_low = pd.DataFrame(columns=ranks_cols)\n",
    "df_crit_low['CRITERION'] = crit_list\n",
    "# df_crit_low.set_index('CRITERION')\n",
    "\n",
    "# populate df\n",
    "for d in dem_ranks:\n",
    "#     dfrow = dem_ranks.index(d)\n",
    "    for c in crit_list:\n",
    "        c_row = crit_list.index(c)\n",
    "        try:\n",
    "            rank_dem = df_crit_ranks[df_crit_ranks['CRITERION']==c][d].value_counts()[1.0]\n",
    "        except:\n",
    "            rank_dem = 0\n",
    "        df_crit_low.at[c_row,d] = rank_dem\n",
    "\n",
    "df_crit_low = df_crit_low.set_index('CRITERION')\n",
    "        \n",
    "# df_crit_low # uncomment to see the dataframe"
   ]
  },
  {
   "cell_type": "code",
   "execution_count": null,
   "id": "baking-publication",
   "metadata": {},
   "outputs": [],
   "source": [
    "df = df_crit_low[dem_order_rank]\n",
    "ax = df.plot(kind='barh', stacked=True, figsize=(12,8), colormap='Paired', alpha=0.8)\n",
    "ax.legend(loc='center left',bbox_to_anchor=(1.0, 0.5))\n",
    "ax.set_title('Number of times a DEM is best');"
   ]
  },
  {
   "cell_type": "code",
   "execution_count": null,
   "id": "cognitive-beatles",
   "metadata": {},
   "outputs": [],
   "source": []
  },
  {
   "cell_type": "code",
   "execution_count": null,
   "id": "multiple-nomination",
   "metadata": {},
   "outputs": [],
   "source": []
  },
  {
   "cell_type": "code",
   "execution_count": null,
   "id": "ruled-label",
   "metadata": {},
   "outputs": [],
   "source": []
  },
  {
   "cell_type": "code",
   "execution_count": null,
   "id": "russian-civilian",
   "metadata": {},
   "outputs": [],
   "source": []
  },
  {
   "cell_type": "code",
   "execution_count": null,
   "id": "spoken-fortune",
   "metadata": {},
   "outputs": [],
   "source": []
  },
  {
   "cell_type": "code",
   "execution_count": null,
   "id": "alert-buffalo",
   "metadata": {},
   "outputs": [],
   "source": []
  },
  {
   "cell_type": "code",
   "execution_count": null,
   "id": "living-means",
   "metadata": {},
   "outputs": [],
   "source": []
  },
  {
   "cell_type": "code",
   "execution_count": null,
   "id": "acoustic-warner",
   "metadata": {},
   "outputs": [],
   "source": []
  },
  {
   "cell_type": "code",
   "execution_count": null,
   "id": "descending-labor",
   "metadata": {},
   "outputs": [],
   "source": []
  },
  {
   "cell_type": "code",
   "execution_count": null,
   "id": "patient-earth",
   "metadata": {},
   "outputs": [],
   "source": []
  },
  {
   "cell_type": "code",
   "execution_count": null,
   "id": "textile-wholesale",
   "metadata": {},
   "outputs": [],
   "source": []
  },
  {
   "cell_type": "code",
   "execution_count": null,
   "id": "formal-windsor",
   "metadata": {},
   "outputs": [],
   "source": []
  }
 ],
 "metadata": {
  "kernelspec": {
   "display_name": "Python 3",
   "language": "python",
   "name": "python3"
  },
  "language_info": {
   "codemirror_mode": {
    "name": "ipython",
    "version": 3
   },
   "file_extension": ".py",
   "mimetype": "text/x-python",
   "name": "python",
   "nbconvert_exporter": "python",
   "pygments_lexer": "ipython3",
   "version": "3.8.5"
  }
 },
 "nbformat": 4,
 "nbformat_minor": 5
}
