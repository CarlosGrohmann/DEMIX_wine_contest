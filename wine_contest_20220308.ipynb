{
 "cells": [
  {
   "cell_type": "markdown",
   "id": "legal-equation",
   "metadata": {},
   "source": [
    "### Notebook to test the Wine Contest\n",
    "\n",
    "Carlos H Grohmann\n",
    "2022"
   ]
  },
  {
   "cell_type": "code",
   "execution_count": 8,
   "id": "stylish-details",
   "metadata": {},
   "outputs": [],
   "source": [
    "# imports\n",
    "import sys,os\n",
    "from ipywidgets import Button\n",
    "from tkinter import Tk, filedialog\n",
    "from IPython.display import clear_output, display\n",
    "import qgrid\n",
    "\n",
    "import pandas as pd\n",
    "import numpy as np\n",
    "from scipy.special import ndtri\n",
    "import seaborn as sns\n",
    "\n",
    "\n",
    "\n",
    "# aux funcs\n",
    "def qshow(df):\n",
    "    '''show df witrh qgrid and predefined options'''\n",
    "    grd = qgrid.show_grid(df, grid_options={'forceFitColumns': False, 'defaultColumnWidth': 100})\n",
    "    return grd\n",
    "\n",
    "# from: https://edusecrets.com/lesson-02-creating-a-file-select-button-in-jupyter-notebook/\n",
    "def select_files(b):\n",
    "    clear_output()\n",
    "    root = Tk()\n",
    "    root.withdraw() # Hide the main window.\n",
    "    root.call('wm', 'attributes', '.', '-topmost', True) # Raise the root to the top of all windows.\n",
    "    b.files = filedialog.askopenfilename(multiple=True) # List of selected files will be set button's file attribute.\n",
    "#     b.names = [f.split('/')[-1].split('.')[0] for f in b.files] # only names of files\n",
    "    names = [f.split('/')[-1] for f in b.files]\n",
    "    print(f'Selected files:{str(names)[1:-1]}') # Print the list of files selected.\n",
    "\n",
    "open_csv_files = Button(description=\"Select CSV file(s)\")\n",
    "open_csv_files.on_click(select_files)"
   ]
  },
  {
   "cell_type": "code",
   "execution_count": null,
   "id": "trying-movie",
   "metadata": {},
   "outputs": [],
   "source": []
  },
  {
   "cell_type": "code",
   "execution_count": null,
   "id": "furnished-microwave",
   "metadata": {},
   "outputs": [],
   "source": []
  },
  {
   "cell_type": "markdown",
   "id": "turkish-cancellation",
   "metadata": {},
   "source": [
    "### Open CSV file(s)"
   ]
  },
  {
   "cell_type": "code",
   "execution_count": 9,
   "id": "frank-absence",
   "metadata": {},
   "outputs": [
    {
     "data": {
      "application/vnd.jupyter.widget-view+json": {
       "model_id": "8bfeac3d3c994b6f9b55095b38c6acb9",
       "version_major": 2,
       "version_minor": 0
      },
      "text/plain": [
       "Button(description='Select CSV file(s)', style=ButtonStyle())"
      ]
     },
     "metadata": {},
     "output_type": "display_data"
    }
   ],
   "source": [
    "# open csv files with tk dialog\n",
    "open_csv_files"
   ]
  },
  {
   "cell_type": "code",
   "execution_count": 3,
   "id": "acute-activation",
   "metadata": {},
   "outputs": [
    {
     "name": "stdout",
     "output_type": "stream",
     "text": [
      "DEMs being compared: ['COP', 'SRTM_egm2008', 'ALOS_egm2008', 'NASA_egm2008', 'ASTER_egm2008', 'FABDEM']\n",
      "\n",
      "Criteria: ['GRID_FULL', 'DIFF_MIN', 'DIFF_Max', 'DIFF_Mean', 'DIFF_STDEV', 'DIFF_SKEW', 'DIFF_KURT', 'DIFF_MED', 'N']\n"
     ]
    },
    {
     "data": {
      "application/vnd.jupyter.widget-view+json": {
       "model_id": "3615442aa9c043878ca150c8886e8d1a",
       "version_major": 2,
       "version_minor": 0
      },
      "text/plain": [
       "QgridWidget(grid_options={'fullWidthRows': True, 'syncColumnCellResize': True, 'forceFitColumns': False, 'defa…"
      ]
     },
     "metadata": {},
     "output_type": "display_data"
    }
   ],
   "source": [
    "# make dataframes from csv files and append all to a single one\n",
    "df_csv = pd.DataFrame()\n",
    "for f in open_csv_files.files:\n",
    "    df = pd.read_csv(f, sep=',',engine='python',comment='#',quotechar='\"')\n",
    "    df_csv = pd.concat([df_csv,df],sort=False)\n",
    "    \n",
    "# get lists with DEMs names and criteria\n",
    "crit_cols = list(df_csv.columns)[5:]\n",
    "crit_cols_rank = [i+'_rank' for i in crit_cols]\n",
    "crit_cols_rank_sq = [i+'_rank_sq' for i in crit_cols]\n",
    "dem_cols = list(df_csv['DEM'].unique())\n",
    "\n",
    "\n",
    "# rank values in df\n",
    "df_ranks = pd.concat([df_csv, df_csv.groupby('DEMIX_TILE').rank(method='average', ascending=True, axis=1).add_suffix('_rank')], axis=1)\n",
    "for col in crit_cols:\n",
    "    df_ranks[col+'_rank_sq'] = df_ranks[col+'_rank']**2\n",
    "\n",
    "\n",
    "print(f'DEMs being compared: {dem_cols}\\n')\n",
    "print(f'Criteria: {crit_cols}')\n",
    "\n",
    "# show table \n",
    "qshow(df_ranks)"
   ]
  },
  {
   "cell_type": "code",
   "execution_count": null,
   "id": "million-attribute",
   "metadata": {},
   "outputs": [],
   "source": []
  },
  {
   "cell_type": "markdown",
   "id": "aerial-style",
   "metadata": {},
   "source": [
    "### First to compute: Friedman Test Statistic's"
   ]
  },
  {
   "cell_type": "markdown",
   "id": "lovely-conversation",
   "metadata": {},
   "source": [
    "*Null hypothesis: there exist no statistically significant difference among the DEMs*  \n",
    "\n",
    "Friedman Test using formula from:https://jimgrange.wordpress.com/2014/05/29/friedmans-test-with-tied-data/ \n",
    "\n",
    "where n is the number of observations per condition, k is the number of conditions, and Ri is the sum of the ith column (condition).\n",
    "\n",
    "Friedman Statistic's  \n",
    "n(k-1)[sum Ri_sq/n - cf] / sum rij_sq - cf  \n",
    "cf = (1/4)nk(k+1)**2"
   ]
  },
  {
   "cell_type": "code",
   "execution_count": 4,
   "id": "stable-burning",
   "metadata": {},
   "outputs": [
    {
     "name": "stdout",
     "output_type": "stream",
     "text": [
      "n = 6 (number of DEMs)\n",
      "k = 9 (number of Criteria)\n",
      "cf = 1350.0\n",
      "sum of ranks = 3753.0\n",
      "sum of ranks squared = 26331.5\n",
      "chi_r = 60.696\n"
     ]
    }
   ],
   "source": [
    "n = len(dem_cols) # number of DEMs\n",
    "k = len(crit_cols) # number of CRITERIA\n",
    "cf = 1/4*n*k*((k+1)**2)\n",
    "\n",
    "sum_ranks = df_ranks[crit_cols_rank].sum().sum()\n",
    "sum_ranks_sq = df_ranks[crit_cols_rank_sq].sum().sum()\n",
    "\n",
    "chi_r =( (n * (k-1)) * (sum_ranks_sq/n - cf) )/ (sum_ranks - cf)\n",
    "\n",
    "print(f'n = {n} (number of DEMs)')\n",
    "print(f'k = {k} (number of Criteria)')\n",
    "print(f'cf = {cf}')\n",
    "print(f'sum of ranks = {sum_ranks}')\n",
    "print(f'sum of ranks squared = {sum_ranks_sq}')\n",
    "print(f'chi_r = {chi_r:4.3f}')"
   ]
  },
  {
   "cell_type": "code",
   "execution_count": null,
   "id": "federal-agency",
   "metadata": {},
   "outputs": [],
   "source": []
  },
  {
   "cell_type": "markdown",
   "id": "familiar-programmer",
   "metadata": {},
   "source": [
    "#### Get critical value from tables\n",
    "\n",
    "Given your k value, look for the proper table at:   http://hdl.handle.net/20.500.11968/4208  \n",
    "From the table, look at the row at your N and read the entry at your preferred confidence level  \n",
    "if chi_r>chi_crit, we must reject the null hipothesis and go the the Post-Hoc analysis below  \n",
    "(Reject means that we cannot accept that all DEM are equivalent)  \n",
    "If chi_r<chi_crit, we cannot disprove the null hipothesis at the given CL and the test finishes"
   ]
  },
  {
   "cell_type": "code",
   "execution_count": 5,
   "id": "electoral-housing",
   "metadata": {},
   "outputs": [
    {
     "name": "stdout",
     "output_type": "stream",
     "text": [
      "For k=9, CL=0.05, and N=6, the critical value to compare is chi_crit=14.739\n",
      "\n",
      "chi_r: 60.696\n",
      "chi_crit: 14.739\n",
      "\n",
      "Yay!! We can reject the null hipothesis and go to the Post-Hoc analysis!!\n"
     ]
    }
   ],
   "source": [
    "CL = 0.05\n",
    "\n",
    "tables_dir = 'Friedmans_tables'\n",
    "# os.listdir(tables_dir)\n",
    "table_needed = f'k_{k}.txt'\n",
    "# print(f'Table needed: {table_needed}')\n",
    "df_crit = pd.read_csv(os.path.join(tables_dir,table_needed),sep=';')\n",
    "df_crit = df_crit.iloc[: , :-1] # drop last column as it is empty\n",
    "df_crit\n",
    "\n",
    "# find chi_crit in table\n",
    "n_alpha = f'N={n}' \n",
    "idx = df_crit.loc[df_crit['alpha'] == n_alpha].index[0]\n",
    "col = f'{CL:05.3f}'\n",
    "\n",
    "# try to get the value, if not possible, use last row IS THIS CORRECT??\n",
    "try:\n",
    "    chi_crit = df_crit.at[idx, col]\n",
    "except:\n",
    "    idx = df_crit.index[-1]\n",
    "    chi_crit = df_crit.at[idx, col]\n",
    "    \n",
    "print(f'For k={k}, CL={CL}, and N={n}, the critical value to compare is chi_crit={chi_crit}')\n",
    "print()\n",
    "print(f'chi_r: {chi_r:04.3f}')\n",
    "print(f'chi_crit: {chi_crit}\\n')\n",
    "\n",
    "if chi_r > chi_crit:\n",
    "    print('Yay!! We can reject the null hipothesis and go to the Post-Hoc analysis!!')\n",
    "else:\n",
    "    print('Oh, no! We  we cannot disprove the null hipothesis at the given CL...')"
   ]
  },
  {
   "cell_type": "code",
   "execution_count": null,
   "id": "improving-mills",
   "metadata": {},
   "outputs": [],
   "source": []
  },
  {
   "cell_type": "markdown",
   "id": "acoustic-wallet",
   "metadata": {},
   "source": [
    "### DEMs Ranked"
   ]
  },
  {
   "cell_type": "code",
   "execution_count": 6,
   "id": "inside-calgary",
   "metadata": {},
   "outputs": [
    {
     "name": "stdout",
     "output_type": "stream",
     "text": [
      "               rank_sum  final_rank\n",
      "DEM                                \n",
      "NASA_egm2008      529.0         1.0\n",
      "FABDEM            610.0         2.0\n",
      "ALOS_egm2008      633.5         3.0\n",
      "SRTM_egm2008      650.0         4.0\n",
      "COP               657.0         5.0\n",
      "ASTER_egm2008     673.5         6.0\n"
     ]
    }
   ],
   "source": [
    "# DEMs ranked\n",
    "pd_ranked = pd.DataFrame()\n",
    "dems_ranked = df_ranks.groupby('DEM')[crit_cols_rank].sum().sum(axis=1)\n",
    "pd_ranked['rank_sum'] = dems_ranked\n",
    "pd_ranked['final_rank'] = pd_ranked['rank_sum'].rank(ascending=1)\n",
    "# pd_ranked = pd_ranked.set_index('final_rank').sort_index()\n",
    "print(pd_ranked.sort_values(by='final_rank'))"
   ]
  },
  {
   "cell_type": "code",
   "execution_count": null,
   "id": "younger-statement",
   "metadata": {},
   "outputs": [],
   "source": []
  },
  {
   "cell_type": "markdown",
   "id": "painful-machinery",
   "metadata": {},
   "source": [
    "### Post-Hoc Analysis\n",
    "#### As a quick-and-dirty option, we illustrate the procedure with Bonferroni-Dunn test\n",
    "\n",
    "Note: Bonferroni-Dunn test is not state of the art  \n",
    "\n",
    "About the table below:  \n",
    "\"Y\" means that the difference is significative to the 95%  \n",
    "“N” means that we cannot demonstrate a statistically significative difference  \n",
    "The test is pairwise (DEM-i vs. DEM-j), so by symmetry we disregard the lower part of the matrix  "
   ]
  },
  {
   "cell_type": "code",
   "execution_count": 7,
   "id": "ambient-botswana",
   "metadata": {},
   "outputs": [
    {
     "name": "stdout",
     "output_type": "stream",
     "text": [
      "\n",
      "DEM  ALOS_egm2008  ASTER_egm2008    COP  FABDEM  NASA_egm2008  SRTM_egm2008\n",
      "0           633.5          673.5  657.0   610.0         529.0         650.0\n"
     ]
    },
    {
     "data": {
      "text/html": [
       "<style  type=\"text/css\" >\n",
       "#T_41394_row1_col1,#T_41394_row2_col1,#T_41394_row2_col2,#T_41394_row3_col1,#T_41394_row3_col2,#T_41394_row3_col3,#T_41394_row4_col1,#T_41394_row4_col2,#T_41394_row4_col3,#T_41394_row4_col4,#T_41394_row5_col1,#T_41394_row5_col2,#T_41394_row5_col3,#T_41394_row5_col4,#T_41394_row5_col5{\n",
       "            opacity:  20%;\n",
       "        }</style><table id=\"T_41394_\" ><thead>    <tr>        <th class=\"blank level0\" ></th>        <th class=\"col_heading level0 col0\" >DEM</th>        <th class=\"col_heading level0 col1\" >COP</th>        <th class=\"col_heading level0 col2\" >SRTM_egm2008</th>        <th class=\"col_heading level0 col3\" >ALOS_egm2008</th>        <th class=\"col_heading level0 col4\" >NASA_egm2008</th>        <th class=\"col_heading level0 col5\" >ASTER_egm2008</th>        <th class=\"col_heading level0 col6\" >FABDEM</th>    </tr></thead><tbody>\n",
       "                <tr>\n",
       "                        <th id=\"T_41394_level0_row0\" class=\"row_heading level0 row0\" >0</th>\n",
       "                        <td id=\"T_41394_row0_col0\" class=\"data row0 col0\" >COP</td>\n",
       "                        <td id=\"T_41394_row0_col1\" class=\"data row0 col1\" >LOOSE</td>\n",
       "                        <td id=\"T_41394_row0_col2\" class=\"data row0 col2\" >LOOSE</td>\n",
       "                        <td id=\"T_41394_row0_col3\" class=\"data row0 col3\" >WIN</td>\n",
       "                        <td id=\"T_41394_row0_col4\" class=\"data row0 col4\" >WIN</td>\n",
       "                        <td id=\"T_41394_row0_col5\" class=\"data row0 col5\" >LOOSE</td>\n",
       "                        <td id=\"T_41394_row0_col6\" class=\"data row0 col6\" >WIN</td>\n",
       "            </tr>\n",
       "            <tr>\n",
       "                        <th id=\"T_41394_level0_row1\" class=\"row_heading level0 row1\" >1</th>\n",
       "                        <td id=\"T_41394_row1_col0\" class=\"data row1 col0\" >SRTM_egm2008</td>\n",
       "                        <td id=\"T_41394_row1_col1\" class=\"data row1 col1\" >0</td>\n",
       "                        <td id=\"T_41394_row1_col2\" class=\"data row1 col2\" >LOOSE</td>\n",
       "                        <td id=\"T_41394_row1_col3\" class=\"data row1 col3\" >LOOSE</td>\n",
       "                        <td id=\"T_41394_row1_col4\" class=\"data row1 col4\" >WIN</td>\n",
       "                        <td id=\"T_41394_row1_col5\" class=\"data row1 col5\" >WIN</td>\n",
       "                        <td id=\"T_41394_row1_col6\" class=\"data row1 col6\" >WIN</td>\n",
       "            </tr>\n",
       "            <tr>\n",
       "                        <th id=\"T_41394_level0_row2\" class=\"row_heading level0 row2\" >2</th>\n",
       "                        <td id=\"T_41394_row2_col0\" class=\"data row2 col0\" >ALOS_egm2008</td>\n",
       "                        <td id=\"T_41394_row2_col1\" class=\"data row2 col1\" >0</td>\n",
       "                        <td id=\"T_41394_row2_col2\" class=\"data row2 col2\" >0</td>\n",
       "                        <td id=\"T_41394_row2_col3\" class=\"data row2 col3\" >LOOSE</td>\n",
       "                        <td id=\"T_41394_row2_col4\" class=\"data row2 col4\" >WIN</td>\n",
       "                        <td id=\"T_41394_row2_col5\" class=\"data row2 col5\" >WIN</td>\n",
       "                        <td id=\"T_41394_row2_col6\" class=\"data row2 col6\" >WIN</td>\n",
       "            </tr>\n",
       "            <tr>\n",
       "                        <th id=\"T_41394_level0_row3\" class=\"row_heading level0 row3\" >3</th>\n",
       "                        <td id=\"T_41394_row3_col0\" class=\"data row3 col0\" >NASA_egm2008</td>\n",
       "                        <td id=\"T_41394_row3_col1\" class=\"data row3 col1\" >0</td>\n",
       "                        <td id=\"T_41394_row3_col2\" class=\"data row3 col2\" >0</td>\n",
       "                        <td id=\"T_41394_row3_col3\" class=\"data row3 col3\" >0</td>\n",
       "                        <td id=\"T_41394_row3_col4\" class=\"data row3 col4\" >LOOSE</td>\n",
       "                        <td id=\"T_41394_row3_col5\" class=\"data row3 col5\" >WIN</td>\n",
       "                        <td id=\"T_41394_row3_col6\" class=\"data row3 col6\" >WIN</td>\n",
       "            </tr>\n",
       "            <tr>\n",
       "                        <th id=\"T_41394_level0_row4\" class=\"row_heading level0 row4\" >4</th>\n",
       "                        <td id=\"T_41394_row4_col0\" class=\"data row4 col0\" >ASTER_egm2008</td>\n",
       "                        <td id=\"T_41394_row4_col1\" class=\"data row4 col1\" >0</td>\n",
       "                        <td id=\"T_41394_row4_col2\" class=\"data row4 col2\" >0</td>\n",
       "                        <td id=\"T_41394_row4_col3\" class=\"data row4 col3\" >0</td>\n",
       "                        <td id=\"T_41394_row4_col4\" class=\"data row4 col4\" >0</td>\n",
       "                        <td id=\"T_41394_row4_col5\" class=\"data row4 col5\" >LOOSE</td>\n",
       "                        <td id=\"T_41394_row4_col6\" class=\"data row4 col6\" >WIN</td>\n",
       "            </tr>\n",
       "            <tr>\n",
       "                        <th id=\"T_41394_level0_row5\" class=\"row_heading level0 row5\" >5</th>\n",
       "                        <td id=\"T_41394_row5_col0\" class=\"data row5 col0\" >FABDEM</td>\n",
       "                        <td id=\"T_41394_row5_col1\" class=\"data row5 col1\" >0</td>\n",
       "                        <td id=\"T_41394_row5_col2\" class=\"data row5 col2\" >0</td>\n",
       "                        <td id=\"T_41394_row5_col3\" class=\"data row5 col3\" >0</td>\n",
       "                        <td id=\"T_41394_row5_col4\" class=\"data row5 col4\" >0</td>\n",
       "                        <td id=\"T_41394_row5_col5\" class=\"data row5 col5\" >0</td>\n",
       "                        <td id=\"T_41394_row5_col6\" class=\"data row5 col6\" >LOOSE</td>\n",
       "            </tr>\n",
       "    </tbody></table>"
      ],
      "text/plain": [
       "<pandas.io.formats.style.Styler at 0x7f9d50b85eb0>"
      ]
     },
     "execution_count": 7,
     "metadata": {},
     "output_type": "execute_result"
    }
   ],
   "source": [
    "alpha_bd = 0.95\n",
    "quant =  1-alpha_bd/k/(k-1)\n",
    "zi = ndtri(quant)\n",
    "crit = zi*np.sqrt(n*k*(k+1)/6) # why divide by 6? is this k?\n",
    "\n",
    "# print(f'quant: {quant:3.4f}')\n",
    "# print(f'zi: {zi:3.4f}')\n",
    "# print(f'crit: {crit:3.4f}')\n",
    "\n",
    "# create table\n",
    "cols = ['DEM'] + dem_cols\n",
    "df_table = pd.DataFrame(columns=cols)\n",
    "df_table['DEM'] = dem_cols\n",
    "\n",
    "# get ranks values \n",
    "ranks_vals = dems_ranked.to_frame().T\n",
    "\n",
    "# print(df_table)\n",
    "print()\n",
    "print(ranks_vals)\n",
    "\n",
    "# populate table\n",
    "for d1 in dem_cols:\n",
    "    r = dem_cols.index(d1)\n",
    "    for d2 in dem_cols:\n",
    "        rank_dem1 = ranks_vals[d1].values[0]\n",
    "        rank_dem2 = ranks_vals[d2].values[0]\n",
    "#         print(d1,d2,rank_dem1,rank_dem2)\n",
    "        if np.abs(rank_dem1 - rank_dem2) > crit:\n",
    "            df_table.at[r,d2] = 'WIN'\n",
    "        else:\n",
    "            df_table.at[r,d2] = 'LOOSE'\n",
    "            \n",
    "# use numpy to get only the upper triangle of the table \n",
    "m = np.triu(df_table.values,k=1)\n",
    "# m[np.tril_indices(m.shape[0], 1)] = np.nan\n",
    "df2 = pd.DataFrame(m,columns=cols)\n",
    "df2['DEM'] = dem_cols\n",
    "df2\n",
    "# df2.drop(columns='dem',inplace=True)\n",
    "# df2.style.applymap(lambda v: 'opacity: 20%;' if pd.isnull(v) else None)\n",
    "df2.style.applymap(lambda v: 'opacity: 20%;' if (v==0) else None)"
   ]
  },
  {
   "cell_type": "code",
   "execution_count": null,
   "id": "dried-rochester",
   "metadata": {},
   "outputs": [],
   "source": []
  },
  {
   "cell_type": "code",
   "execution_count": null,
   "id": "protecting-price",
   "metadata": {},
   "outputs": [],
   "source": []
  },
  {
   "cell_type": "code",
   "execution_count": null,
   "id": "loaded-style",
   "metadata": {},
   "outputs": [],
   "source": []
  },
  {
   "cell_type": "code",
   "execution_count": null,
   "id": "patent-sculpture",
   "metadata": {},
   "outputs": [],
   "source": []
  },
  {
   "cell_type": "code",
   "execution_count": null,
   "id": "familiar-journey",
   "metadata": {},
   "outputs": [],
   "source": []
  },
  {
   "cell_type": "markdown",
   "id": "finnish-swing",
   "metadata": {},
   "source": [
    "### Plotting"
   ]
  },
  {
   "cell_type": "code",
   "execution_count": 57,
   "id": "german-preservation",
   "metadata": {},
   "outputs": [
    {
     "name": "stdout",
     "output_type": "stream",
     "text": [
      "Criteria: ['GRID_FULL', 'ELD_MIN', 'ELD_Max', 'ELD_Mean', 'ELD_AVG', 'ELD_STD', 'ELD_MEDIAN', 'ELD_RMSE', 'ELD_MAE', 'ELD_AB_MD', 'N']\n"
     ]
    }
   ],
   "source": [
    "print(f'Criteria: {crit_cols}')"
   ]
  },
  {
   "cell_type": "code",
   "execution_count": 58,
   "id": "latin-block",
   "metadata": {},
   "outputs": [
    {
     "data": {
      "text/html": [
       "<div>\n",
       "<style scoped>\n",
       "    .dataframe tbody tr th:only-of-type {\n",
       "        vertical-align: middle;\n",
       "    }\n",
       "\n",
       "    .dataframe tbody tr th {\n",
       "        vertical-align: top;\n",
       "    }\n",
       "\n",
       "    .dataframe thead th {\n",
       "        text-align: right;\n",
       "    }\n",
       "</style>\n",
       "<table border=\"1\" class=\"dataframe\">\n",
       "  <thead>\n",
       "    <tr style=\"text-align: right;\">\n",
       "      <th></th>\n",
       "      <th>GRID_FULL</th>\n",
       "      <th>ELD_MIN</th>\n",
       "      <th>ELD_Max</th>\n",
       "      <th>ELD_Mean</th>\n",
       "      <th>ELD_AVG</th>\n",
       "      <th>ELD_STD</th>\n",
       "      <th>ELD_MEDIAN</th>\n",
       "      <th>ELD_RMSE</th>\n",
       "      <th>ELD_MAE</th>\n",
       "      <th>ELD_AB_MD</th>\n",
       "      <th>N</th>\n",
       "    </tr>\n",
       "  </thead>\n",
       "  <tbody>\n",
       "    <tr>\n",
       "      <th>count</th>\n",
       "      <td>78.000000</td>\n",
       "      <td>7.800000e+01</td>\n",
       "      <td>7.800000e+01</td>\n",
       "      <td>7.800000e+01</td>\n",
       "      <td>7.800000e+01</td>\n",
       "      <td>7.800000e+01</td>\n",
       "      <td>78.000000</td>\n",
       "      <td>7.800000e+01</td>\n",
       "      <td>7.800000e+01</td>\n",
       "      <td>78.000000</td>\n",
       "      <td>78.000000</td>\n",
       "    </tr>\n",
       "    <tr>\n",
       "      <th>mean</th>\n",
       "      <td>92.322308</td>\n",
       "      <td>-2.366074e+34</td>\n",
       "      <td>5.083384e+32</td>\n",
       "      <td>-1.364500e+29</td>\n",
       "      <td>2.784070e+29</td>\n",
       "      <td>5.569374e+31</td>\n",
       "      <td>4.939872</td>\n",
       "      <td>5.569376e+31</td>\n",
       "      <td>1.419600e+29</td>\n",
       "      <td>6.768333</td>\n",
       "      <td>207030.679487</td>\n",
       "    </tr>\n",
       "    <tr>\n",
       "      <th>std</th>\n",
       "      <td>7.922213</td>\n",
       "      <td>1.194859e+35</td>\n",
       "      <td>1.772334e+33</td>\n",
       "      <td>7.025666e+29</td>\n",
       "      <td>1.418190e+30</td>\n",
       "      <td>2.826297e+32</td>\n",
       "      <td>4.667955</td>\n",
       "      <td>2.826298e+32</td>\n",
       "      <td>7.157077e+29</td>\n",
       "      <td>4.660422</td>\n",
       "      <td>69311.763098</td>\n",
       "    </tr>\n",
       "    <tr>\n",
       "      <th>min</th>\n",
       "      <td>77.050000</td>\n",
       "      <td>-1.000000e+36</td>\n",
       "      <td>2.007000e+01</td>\n",
       "      <td>-5.915124e+30</td>\n",
       "      <td>6.800000e-01</td>\n",
       "      <td>1.410000e+00</td>\n",
       "      <td>-3.330000</td>\n",
       "      <td>1.540000e+00</td>\n",
       "      <td>9.300000e-01</td>\n",
       "      <td>0.530000</td>\n",
       "      <td>83540.000000</td>\n",
       "    </tr>\n",
       "    <tr>\n",
       "      <th>25%</th>\n",
       "      <td>87.180000</td>\n",
       "      <td>-2.022800e+02</td>\n",
       "      <td>8.732000e+01</td>\n",
       "      <td>1.507500e+00</td>\n",
       "      <td>4.550000e+00</td>\n",
       "      <td>6.365000e+00</td>\n",
       "      <td>0.530000</td>\n",
       "      <td>8.110000e+00</td>\n",
       "      <td>5.447500e+00</td>\n",
       "      <td>1.820000</td>\n",
       "      <td>147341.250000</td>\n",
       "    </tr>\n",
       "    <tr>\n",
       "      <th>50%</th>\n",
       "      <td>91.080000</td>\n",
       "      <td>-1.044300e+02</td>\n",
       "      <td>2.192500e+02</td>\n",
       "      <td>5.750000e+00</td>\n",
       "      <td>8.760000e+00</td>\n",
       "      <td>1.420000e+01</td>\n",
       "      <td>4.510000</td>\n",
       "      <td>1.521000e+01</td>\n",
       "      <td>1.108500e+01</td>\n",
       "      <td>6.700000</td>\n",
       "      <td>184444.500000</td>\n",
       "    </tr>\n",
       "    <tr>\n",
       "      <th>75%</th>\n",
       "      <td>100.000000</td>\n",
       "      <td>-5.107000e+01</td>\n",
       "      <td>3.333800e+02</td>\n",
       "      <td>1.150000e+01</td>\n",
       "      <td>1.604000e+01</td>\n",
       "      <td>2.413000e+01</td>\n",
       "      <td>8.852500</td>\n",
       "      <td>2.741000e+01</td>\n",
       "      <td>1.756250e+01</td>\n",
       "      <td>10.165000</td>\n",
       "      <td>238406.000000</td>\n",
       "    </tr>\n",
       "    <tr>\n",
       "      <th>max</th>\n",
       "      <td>100.000000</td>\n",
       "      <td>-1.667000e+01</td>\n",
       "      <td>6.608402e+33</td>\n",
       "      <td>1.884000e+01</td>\n",
       "      <td>1.190167e+31</td>\n",
       "      <td>2.369073e+33</td>\n",
       "      <td>14.100000</td>\n",
       "      <td>2.369074e+33</td>\n",
       "      <td>5.986677e+30</td>\n",
       "      <td>16.280000</td>\n",
       "      <td>347017.000000</td>\n",
       "    </tr>\n",
       "  </tbody>\n",
       "</table>\n",
       "</div>"
      ],
      "text/plain": [
       "        GRID_FULL       ELD_MIN       ELD_Max      ELD_Mean       ELD_AVG  \\\n",
       "count   78.000000  7.800000e+01  7.800000e+01  7.800000e+01  7.800000e+01   \n",
       "mean    92.322308 -2.366074e+34  5.083384e+32 -1.364500e+29  2.784070e+29   \n",
       "std      7.922213  1.194859e+35  1.772334e+33  7.025666e+29  1.418190e+30   \n",
       "min     77.050000 -1.000000e+36  2.007000e+01 -5.915124e+30  6.800000e-01   \n",
       "25%     87.180000 -2.022800e+02  8.732000e+01  1.507500e+00  4.550000e+00   \n",
       "50%     91.080000 -1.044300e+02  2.192500e+02  5.750000e+00  8.760000e+00   \n",
       "75%    100.000000 -5.107000e+01  3.333800e+02  1.150000e+01  1.604000e+01   \n",
       "max    100.000000 -1.667000e+01  6.608402e+33  1.884000e+01  1.190167e+31   \n",
       "\n",
       "            ELD_STD  ELD_MEDIAN      ELD_RMSE       ELD_MAE  ELD_AB_MD  \\\n",
       "count  7.800000e+01   78.000000  7.800000e+01  7.800000e+01  78.000000   \n",
       "mean   5.569374e+31    4.939872  5.569376e+31  1.419600e+29   6.768333   \n",
       "std    2.826297e+32    4.667955  2.826298e+32  7.157077e+29   4.660422   \n",
       "min    1.410000e+00   -3.330000  1.540000e+00  9.300000e-01   0.530000   \n",
       "25%    6.365000e+00    0.530000  8.110000e+00  5.447500e+00   1.820000   \n",
       "50%    1.420000e+01    4.510000  1.521000e+01  1.108500e+01   6.700000   \n",
       "75%    2.413000e+01    8.852500  2.741000e+01  1.756250e+01  10.165000   \n",
       "max    2.369073e+33   14.100000  2.369074e+33  5.986677e+30  16.280000   \n",
       "\n",
       "                   N  \n",
       "count      78.000000  \n",
       "mean   207030.679487  \n",
       "std     69311.763098  \n",
       "min     83540.000000  \n",
       "25%    147341.250000  \n",
       "50%    184444.500000  \n",
       "75%    238406.000000  \n",
       "max    347017.000000  "
      ]
     },
     "execution_count": 58,
     "metadata": {},
     "output_type": "execute_result"
    }
   ],
   "source": [
    "df_csv.describe()"
   ]
  },
  {
   "cell_type": "code",
   "execution_count": 59,
   "id": "organized-affairs",
   "metadata": {},
   "outputs": [
    {
     "data": {
      "text/plain": [
       "array([[<AxesSubplot:title={'center':'GRID_FULL'}>,\n",
       "        <AxesSubplot:title={'center':'ELD_MIN'}>,\n",
       "        <AxesSubplot:title={'center':'ELD_Max'}>],\n",
       "       [<AxesSubplot:title={'center':'ELD_Mean'}>,\n",
       "        <AxesSubplot:title={'center':'ELD_AVG'}>,\n",
       "        <AxesSubplot:title={'center':'ELD_STD'}>],\n",
       "       [<AxesSubplot:title={'center':'ELD_MEDIAN'}>,\n",
       "        <AxesSubplot:title={'center':'ELD_RMSE'}>,\n",
       "        <AxesSubplot:title={'center':'ELD_MAE'}>],\n",
       "       [<AxesSubplot:title={'center':'ELD_AB_MD'}>,\n",
       "        <AxesSubplot:title={'center':'N'}>, <AxesSubplot:>]], dtype=object)"
      ]
     },
     "execution_count": 59,
     "metadata": {},
     "output_type": "execute_result"
    },
    {
     "data": {
      "image/png": "[encoded data removed]",
      "text/plain": [
       "<Figure size 432x288 with 12 Axes>"
      ]
     },
     "metadata": {
      "needs_background": "light"
     },
     "output_type": "display_data"
    }
   ],
   "source": [
    "df_csv.hist()"
   ]
  },
  {
   "cell_type": "code",
   "execution_count": 60,
   "id": "aquatic-relay",
   "metadata": {},
   "outputs": [
    {
     "data": {
      "text/plain": [
       "<AxesSubplot:>"
      ]
     },
     "execution_count": 60,
     "metadata": {},
     "output_type": "execute_result"
    },
    {
     "data": {
      "image/png": "[encoded data removed]",
      "text/plain": [
       "<Figure size 432x288 with 1 Axes>"
      ]
     },
     "metadata": {
      "needs_background": "light"
     },
     "output_type": "display_data"
    }
   ],
   "source": [
    "df_csv['ELD_MEDIAN'].hist()"
   ]
  },
  {
   "cell_type": "code",
   "execution_count": null,
   "id": "established-debut",
   "metadata": {},
   "outputs": [],
   "source": []
  },
  {
   "cell_type": "code",
   "execution_count": null,
   "id": "comparative-singer",
   "metadata": {},
   "outputs": [],
   "source": []
  },
  {
   "cell_type": "code",
   "execution_count": null,
   "id": "horizontal-copying",
   "metadata": {},
   "outputs": [],
   "source": []
  },
  {
   "cell_type": "code",
   "execution_count": null,
   "id": "toxic-breathing",
   "metadata": {},
   "outputs": [],
   "source": []
  },
  {
   "cell_type": "code",
   "execution_count": null,
   "id": "radio-administration",
   "metadata": {},
   "outputs": [],
   "source": []
  },
  {
   "cell_type": "code",
   "execution_count": null,
   "id": "transparent-pickup",
   "metadata": {},
   "outputs": [],
   "source": []
  },
  {
   "cell_type": "code",
   "execution_count": null,
   "id": "introductory-pulse",
   "metadata": {},
   "outputs": [],
   "source": []
  },
  {
   "cell_type": "code",
   "execution_count": null,
   "id": "driving-employer",
   "metadata": {},
   "outputs": [],
   "source": []
  },
  {
   "cell_type": "code",
   "execution_count": null,
   "id": "sacred-introduction",
   "metadata": {},
   "outputs": [],
   "source": []
  },
  {
   "cell_type": "code",
   "execution_count": null,
   "id": "talented-research",
   "metadata": {},
   "outputs": [],
   "source": []
  },
  {
   "cell_type": "code",
   "execution_count": null,
   "id": "lyric-wayne",
   "metadata": {},
   "outputs": [],
   "source": []
  },
  {
   "cell_type": "code",
   "execution_count": null,
   "id": "flexible-seattle",
   "metadata": {},
   "outputs": [],
   "source": []
  },
  {
   "cell_type": "code",
   "execution_count": null,
   "id": "threaded-sunglasses",
   "metadata": {},
   "outputs": [],
   "source": []
  },
  {
   "cell_type": "code",
   "execution_count": null,
   "id": "boxed-greene",
   "metadata": {},
   "outputs": [],
   "source": []
  },
  {
   "cell_type": "code",
   "execution_count": null,
   "id": "thirty-default",
   "metadata": {},
   "outputs": [],
   "source": []
  },
  {
   "cell_type": "code",
   "execution_count": null,
   "id": "prime-medication",
   "metadata": {},
   "outputs": [],
   "source": []
  },
  {
   "cell_type": "code",
   "execution_count": null,
   "id": "flexible-reception",
   "metadata": {},
   "outputs": [],
   "source": []
  },
  {
   "cell_type": "code",
   "execution_count": null,
   "id": "metric-flexibility",
   "metadata": {},
   "outputs": [],
   "source": []
  }
 ],
 "metadata": {
  "kernelspec": {
   "display_name": "Python 3",
   "language": "python",
   "name": "python3"
  },
  "language_info": {
   "codemirror_mode": {
    "name": "ipython",
    "version": 3
   },
   "file_extension": ".py",
   "mimetype": "text/x-python",
   "name": "python",
   "nbconvert_exporter": "python",
   "pygments_lexer": "ipython3",
   "version": "3.8.5"
  }
 },
 "nbformat": 4,
 "nbformat_minor": 5
}
