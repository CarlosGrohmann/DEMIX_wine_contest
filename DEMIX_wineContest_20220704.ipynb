{
 "cells": [
  {
   "cell_type": "markdown",
   "id": "legal-equation",
   "metadata": {},
   "source": [
    "### Notebook to show the Wine Contest with results from MicroDEM\n",
    "\n",
    "Notebook by Carlos H Grohmann (IEE-USP, Brazil)  \n",
    "last update 2022-07-04"
   ]
  },
  {
   "cell_type": "code",
   "execution_count": null,
   "id": "abandoned-gamma",
   "metadata": {},
   "outputs": [],
   "source": []
  },
  {
   "cell_type": "markdown",
   "id": "skilled-amsterdam",
   "metadata": {},
   "source": [
    "### 1 - Import python libraries"
   ]
  },
  {
   "cell_type": "code",
   "execution_count": 1,
   "id": "solar-caribbean",
   "metadata": {},
   "outputs": [],
   "source": [
    "# imports\n",
    "import sys,os\n",
    "import pandas as pd\n",
    "import numpy as np\n",
    "from scipy.special import ndtri\n",
    "import seaborn as sns\n",
    "\n",
    "from ipywidgets import Button\n",
    "from tkinter import Tk, filedialog\n",
    "from IPython.display import clear_output, display\n",
    "\n",
    "import demix_wine_functions as dw\n",
    "\n",
    "import qgrid"
   ]
  },
  {
   "cell_type": "markdown",
   "id": "superb-nicaragua",
   "metadata": {},
   "source": [
    "### 2 - Set data directories and define how to select CSV files  \n",
    "\n",
    "You can choose the CSV files in two ways:  \n",
    "\n",
    "1 - run this cell to create a \"Select CSV file(s)\" button, then choose a local file (re-run the cell to re-cretae the button and choose a different file)  \n",
    "\n",
    "2 - uncomment the last lines to just print a list of CSV files in the \"root_dir\"\n",
    "directory. In the next cell, you can then add the wanted files to a list manually."
   ]
  },
  {
   "cell_type": "code",
   "execution_count": 2,
   "id": "stylish-details",
   "metadata": {},
   "outputs": [
    {
     "name": "stdout",
     "output_type": "stream",
     "text": [
      "Selected file(s):'demix_merged_transposed-13june2022.csv'\n"
     ]
    }
   ],
   "source": [
    "# set data directories \n",
    "root_dir = '.'\n",
    "tables_dir = f'{root_dir}/Friedmans_tables'\n",
    "\n",
    "# --------------------------------------------------------\n",
    "# choose local CSV file(s) - click on the button that is created\n",
    "# when you run this cell and choose the file(s)\n",
    "open_csv_files = Button(description=\"Select CSV file(s)\")\n",
    "open_csv_files.files = ()\n",
    "open_csv_files.on_click(dw.select_files)\n",
    "open_csv_files\n",
    "\n",
    "# --------------------------------------------------------\n",
    "# alternatively, list all CSV files from a directory \n",
    "# and add them manually to the list of files to be opened\n",
    "# uncomment the lines below to list the files in \"root_dir\"\n",
    "\n",
    "# all_files = os.listdir(root_dir)\n",
    "# csv_files = [f for f in all_files if f.endswith('.csv')]\n",
    "# print('Available CSV files: \\n')\n",
    "# for f in csv_files:\n",
    "#     print(f)"
   ]
  },
  {
   "cell_type": "markdown",
   "id": "short-viking",
   "metadata": {},
   "source": [
    "### 3 - Define which files will be opened, those selected using the button/file chooser dialog or those defined manually in a list"
   ]
  },
  {
   "cell_type": "code",
   "execution_count": 4,
   "id": "right-consultancy",
   "metadata": {},
   "outputs": [],
   "source": [
    "# --------------------------------------------------------\n",
    "# this option will open the files selected via the button/file chooser \n",
    "selected_csv_files = open_csv_files.files\n",
    "\n",
    "# --------------------------------------------------------\n",
    "# uncomment the lines below to use the files list\n",
    "# files_list = ['file1.csv','file2.csv','file3.csv']\n",
    "# selected_csv_files = [f'{root_dir}/{f}' for f in files_list]"
   ]
  },
  {
   "cell_type": "markdown",
   "id": "robust-setup",
   "metadata": {},
   "source": [
    "### 4 - Read CSV and create dataframe"
   ]
  },
  {
   "cell_type": "code",
   "execution_count": 5,
   "id": "economic-thermal",
   "metadata": {},
   "outputs": [],
   "source": [
    "# make df with one criterion per row\n",
    "df_criteria = dw.make_criteria_df(selected_csv_files)\n",
    "\n",
    "# make a list of dems, will use it later\n",
    "crit_idx  = list(df_criteria.columns).index('CRITERION')\n",
    "dem_list  = list(df_criteria.columns)[crit_idx+1:]"
   ]
  },
  {
   "cell_type": "markdown",
   "id": "amateur-poker",
   "metadata": {},
   "source": [
    "### 5 - Display the dataframe using qgrid  \n",
    "\n",
    "You can use the filter controls next to each column name to further select which data you want to be considered"
   ]
  },
  {
   "cell_type": "code",
   "execution_count": 6,
   "id": "ignored-trick",
   "metadata": {},
   "outputs": [
    {
     "data": {
      "text/plain": [
       "{'FABDEM': {'editable': False},\n",
       " 'COP': {'editable': False},\n",
       " 'ALOS': {'editable': False},\n",
       " 'NASA': {'editable': False},\n",
       " 'SRTM': {'editable': False},\n",
       " 'ASTER': {'editable': False}}"
      ]
     },
     "execution_count": 6,
     "metadata": {},
     "output_type": "execute_result"
    }
   ],
   "source": [
    "column_defs = dict.fromkeys(dem_list, {'editable': False})\n",
    "column_defs"
   ]
  },
  {
   "cell_type": "code",
   "execution_count": 7,
   "id": "premium-lightweight",
   "metadata": {},
   "outputs": [
    {
     "data": {
      "application/vnd.jupyter.widget-view+json": {
       "model_id": "e2d40a35d1f141549b91ebb930c98e2f",
       "version_major": 2,
       "version_minor": 0
      },
      "text/plain": [
       "QgridWidget(grid_options={'fullWidthRows': True, 'syncColumnCellResize': True, 'forceFitColumns': True, 'defau…"
      ]
     },
     "metadata": {},
     "output_type": "display_data"
    }
   ],
   "source": [
    "# qshow(df_criteria)\n",
    "\n",
    "grid = qgrid.show_grid(data_frame=df_criteria, column_definitions=column_defs)\n",
    "display(grid)"
   ]
  },
  {
   "cell_type": "markdown",
   "id": "balanced-navigator",
   "metadata": {},
   "source": [
    "### 6 - Run the statistical analysis and check results\n",
    "\n",
    "Run the next cell every time you change the selection of the dataframe using the filter controls to get new results based on the filtered data"
   ]
  },
  {
   "cell_type": "code",
   "execution_count": 8,
   "id": "moving-individual",
   "metadata": {},
   "outputs": [
    {
     "name": "stdout",
     "output_type": "stream",
     "text": [
      "N = 4440 (number of criteria)\n",
      "k = 6 (number of DEMs)\n",
      "CF = 326340.0\n",
      "sum of ranks (vector) = [12874.0, 10596.0, 10359.0, 16638.0, 17092.0, 25258.0]\n",
      "sum of (ranks squared) = [165739876.0, 112275216.0, 107308881.0, 276823044.0, 292136464.0, 637966564.0]\n",
      "sum of squared ranks = 401053.0\n",
      "sum of ranks squared (total) = 1592250045.0\n",
      "chi_r = 9590.061\n",
      "For k=6, CL=0.05, and N=4440, the critical value to compare is chi_crit=11.038\n",
      "Yay!! We can reject the null hipothesis and go to the Post-Hoc analysis!!\n",
      "\n",
      "             rank_sum  rank\n",
      "ALOS_rank     10359.0   1.0\n",
      "COP_rank      10596.0   2.0\n",
      "FABDEM_rank   12874.0   3.0\n",
      "NASA_rank     16638.0   4.0\n",
      "SRTM_rank     17092.0   5.0\n",
      "ASTER_rank    25258.0   6.0\n",
      "\n"
     ]
    },
    {
     "data": {
      "text/html": [
       "<style  type=\"text/css\" >\n",
       "#T_9bad2_row0_col1,#T_9bad2_row1_col1,#T_9bad2_row1_col2,#T_9bad2_row2_col1,#T_9bad2_row2_col2,#T_9bad2_row2_col3,#T_9bad2_row3_col1,#T_9bad2_row3_col2,#T_9bad2_row3_col3,#T_9bad2_row3_col4,#T_9bad2_row4_col1,#T_9bad2_row4_col2,#T_9bad2_row4_col3,#T_9bad2_row4_col4,#T_9bad2_row4_col5,#T_9bad2_row5_col1,#T_9bad2_row5_col2,#T_9bad2_row5_col3,#T_9bad2_row5_col4,#T_9bad2_row5_col5,#T_9bad2_row5_col6{\n",
       "            opacity:  0%;\n",
       "        }</style><table id=\"T_9bad2_\" ><thead>    <tr>        <th class=\"blank level0\" ></th>        <th class=\"col_heading level0 col0\" >DEM</th>        <th class=\"col_heading level0 col1\" >FABDEM</th>        <th class=\"col_heading level0 col2\" >COP</th>        <th class=\"col_heading level0 col3\" >ALOS</th>        <th class=\"col_heading level0 col4\" >NASA</th>        <th class=\"col_heading level0 col5\" >SRTM</th>        <th class=\"col_heading level0 col6\" >ASTER</th>    </tr></thead><tbody>\n",
       "                <tr>\n",
       "                        <th id=\"T_9bad2_level0_row0\" class=\"row_heading level0 row0\" >0</th>\n",
       "                        <td id=\"T_9bad2_row0_col0\" class=\"data row0 col0\" >FABDEM</td>\n",
       "                        <td id=\"T_9bad2_row0_col1\" class=\"data row0 col1\" >0</td>\n",
       "                        <td id=\"T_9bad2_row0_col2\" class=\"data row0 col2\" >Y</td>\n",
       "                        <td id=\"T_9bad2_row0_col3\" class=\"data row0 col3\" >Y</td>\n",
       "                        <td id=\"T_9bad2_row0_col4\" class=\"data row0 col4\" >Y</td>\n",
       "                        <td id=\"T_9bad2_row0_col5\" class=\"data row0 col5\" >Y</td>\n",
       "                        <td id=\"T_9bad2_row0_col6\" class=\"data row0 col6\" >Y</td>\n",
       "            </tr>\n",
       "            <tr>\n",
       "                        <th id=\"T_9bad2_level0_row1\" class=\"row_heading level0 row1\" >1</th>\n",
       "                        <td id=\"T_9bad2_row1_col0\" class=\"data row1 col0\" >COP</td>\n",
       "                        <td id=\"T_9bad2_row1_col1\" class=\"data row1 col1\" >0</td>\n",
       "                        <td id=\"T_9bad2_row1_col2\" class=\"data row1 col2\" >0</td>\n",
       "                        <td id=\"T_9bad2_row1_col3\" class=\"data row1 col3\" >N</td>\n",
       "                        <td id=\"T_9bad2_row1_col4\" class=\"data row1 col4\" >Y</td>\n",
       "                        <td id=\"T_9bad2_row1_col5\" class=\"data row1 col5\" >Y</td>\n",
       "                        <td id=\"T_9bad2_row1_col6\" class=\"data row1 col6\" >Y</td>\n",
       "            </tr>\n",
       "            <tr>\n",
       "                        <th id=\"T_9bad2_level0_row2\" class=\"row_heading level0 row2\" >2</th>\n",
       "                        <td id=\"T_9bad2_row2_col0\" class=\"data row2 col0\" >ALOS</td>\n",
       "                        <td id=\"T_9bad2_row2_col1\" class=\"data row2 col1\" >0</td>\n",
       "                        <td id=\"T_9bad2_row2_col2\" class=\"data row2 col2\" >0</td>\n",
       "                        <td id=\"T_9bad2_row2_col3\" class=\"data row2 col3\" >0</td>\n",
       "                        <td id=\"T_9bad2_row2_col4\" class=\"data row2 col4\" >Y</td>\n",
       "                        <td id=\"T_9bad2_row2_col5\" class=\"data row2 col5\" >Y</td>\n",
       "                        <td id=\"T_9bad2_row2_col6\" class=\"data row2 col6\" >Y</td>\n",
       "            </tr>\n",
       "            <tr>\n",
       "                        <th id=\"T_9bad2_level0_row3\" class=\"row_heading level0 row3\" >3</th>\n",
       "                        <td id=\"T_9bad2_row3_col0\" class=\"data row3 col0\" >NASA</td>\n",
       "                        <td id=\"T_9bad2_row3_col1\" class=\"data row3 col1\" >0</td>\n",
       "                        <td id=\"T_9bad2_row3_col2\" class=\"data row3 col2\" >0</td>\n",
       "                        <td id=\"T_9bad2_row3_col3\" class=\"data row3 col3\" >0</td>\n",
       "                        <td id=\"T_9bad2_row3_col4\" class=\"data row3 col4\" >0</td>\n",
       "                        <td id=\"T_9bad2_row3_col5\" class=\"data row3 col5\" >Y</td>\n",
       "                        <td id=\"T_9bad2_row3_col6\" class=\"data row3 col6\" >Y</td>\n",
       "            </tr>\n",
       "            <tr>\n",
       "                        <th id=\"T_9bad2_level0_row4\" class=\"row_heading level0 row4\" >4</th>\n",
       "                        <td id=\"T_9bad2_row4_col0\" class=\"data row4 col0\" >SRTM</td>\n",
       "                        <td id=\"T_9bad2_row4_col1\" class=\"data row4 col1\" >0</td>\n",
       "                        <td id=\"T_9bad2_row4_col2\" class=\"data row4 col2\" >0</td>\n",
       "                        <td id=\"T_9bad2_row4_col3\" class=\"data row4 col3\" >0</td>\n",
       "                        <td id=\"T_9bad2_row4_col4\" class=\"data row4 col4\" >0</td>\n",
       "                        <td id=\"T_9bad2_row4_col5\" class=\"data row4 col5\" >0</td>\n",
       "                        <td id=\"T_9bad2_row4_col6\" class=\"data row4 col6\" >Y</td>\n",
       "            </tr>\n",
       "            <tr>\n",
       "                        <th id=\"T_9bad2_level0_row5\" class=\"row_heading level0 row5\" >5</th>\n",
       "                        <td id=\"T_9bad2_row5_col0\" class=\"data row5 col0\" >ASTER</td>\n",
       "                        <td id=\"T_9bad2_row5_col1\" class=\"data row5 col1\" >0</td>\n",
       "                        <td id=\"T_9bad2_row5_col2\" class=\"data row5 col2\" >0</td>\n",
       "                        <td id=\"T_9bad2_row5_col3\" class=\"data row5 col3\" >0</td>\n",
       "                        <td id=\"T_9bad2_row5_col4\" class=\"data row5 col4\" >0</td>\n",
       "                        <td id=\"T_9bad2_row5_col5\" class=\"data row5 col5\" >0</td>\n",
       "                        <td id=\"T_9bad2_row5_col6\" class=\"data row5 col6\" >0</td>\n",
       "            </tr>\n",
       "    </tbody></table>"
      ],
      "text/plain": [
       "<pandas.io.formats.style.Styler at 0x7f113bbce610>"
      ]
     },
     "execution_count": 8,
     "metadata": {},
     "output_type": "execute_result"
    }
   ],
   "source": [
    "# get changed (or not) df from qgrid\n",
    "df_for_ranking = grid.get_changed_df()\n",
    "\n",
    "# calculate ranks for criteria (error metrics) in dataframes\n",
    "df_ranks = dw.make_rank_df(df_for_ranking,dem_list)\n",
    "\n",
    "#friedman stats\n",
    "CL = 0.05 # confidence level\n",
    "dw.friedman_stats(df_ranks,dem_list,tables_dir,cl=CL)\n",
    "print()\n",
    "\n",
    "# DEMs ranked\n",
    "dw.print_dems_ranked(df_ranks,dem_list)\n",
    "print()\n",
    "\n",
    "# apply Bonferroni-Dunn test\n",
    "df_bd = dw.bonferroni_dunn_test(df_ranks,dem_list,alpha=0.95)\n",
    "df_bd.style.applymap(lambda v: 'opacity: 0%;' if (v==0) else None)"
   ]
  },
  {
   "cell_type": "code",
   "execution_count": null,
   "id": "protecting-price",
   "metadata": {},
   "outputs": [],
   "source": []
  },
  {
   "cell_type": "code",
   "execution_count": null,
   "id": "loaded-style",
   "metadata": {},
   "outputs": [],
   "source": []
  },
  {
   "cell_type": "code",
   "execution_count": null,
   "id": "patent-sculpture",
   "metadata": {},
   "outputs": [],
   "source": []
  },
  {
   "cell_type": "code",
   "execution_count": null,
   "id": "toxic-breathing",
   "metadata": {},
   "outputs": [],
   "source": []
  },
  {
   "cell_type": "code",
   "execution_count": null,
   "id": "radio-administration",
   "metadata": {},
   "outputs": [],
   "source": []
  },
  {
   "cell_type": "code",
   "execution_count": null,
   "id": "transparent-pickup",
   "metadata": {},
   "outputs": [],
   "source": []
  },
  {
   "cell_type": "code",
   "execution_count": null,
   "id": "introductory-pulse",
   "metadata": {},
   "outputs": [],
   "source": []
  },
  {
   "cell_type": "code",
   "execution_count": null,
   "id": "driving-employer",
   "metadata": {},
   "outputs": [],
   "source": []
  },
  {
   "cell_type": "code",
   "execution_count": null,
   "id": "sacred-introduction",
   "metadata": {},
   "outputs": [],
   "source": []
  },
  {
   "cell_type": "code",
   "execution_count": null,
   "id": "talented-research",
   "metadata": {},
   "outputs": [],
   "source": []
  },
  {
   "cell_type": "code",
   "execution_count": null,
   "id": "lyric-wayne",
   "metadata": {},
   "outputs": [],
   "source": []
  },
  {
   "cell_type": "code",
   "execution_count": null,
   "id": "flexible-seattle",
   "metadata": {},
   "outputs": [],
   "source": []
  },
  {
   "cell_type": "code",
   "execution_count": null,
   "id": "threaded-sunglasses",
   "metadata": {},
   "outputs": [],
   "source": []
  },
  {
   "cell_type": "code",
   "execution_count": null,
   "id": "boxed-greene",
   "metadata": {},
   "outputs": [],
   "source": []
  },
  {
   "cell_type": "code",
   "execution_count": null,
   "id": "thirty-default",
   "metadata": {},
   "outputs": [],
   "source": []
  },
  {
   "cell_type": "code",
   "execution_count": null,
   "id": "flexible-reception",
   "metadata": {},
   "outputs": [],
   "source": []
  },
  {
   "cell_type": "code",
   "execution_count": 53,
   "id": "macro-miller",
   "metadata": {},
   "outputs": [],
   "source": []
  },
  {
   "cell_type": "code",
   "execution_count": null,
   "id": "embedded-reminder",
   "metadata": {},
   "outputs": [],
   "source": []
  },
  {
   "cell_type": "code",
   "execution_count": null,
   "id": "funny-satisfaction",
   "metadata": {},
   "outputs": [],
   "source": []
  },
  {
   "cell_type": "code",
   "execution_count": null,
   "id": "formal-windsor",
   "metadata": {},
   "outputs": [],
   "source": []
  }
 ],
 "metadata": {
  "kernelspec": {
   "display_name": "Python 3",
   "language": "python",
   "name": "python3"
  },
  "language_info": {
   "codemirror_mode": {
    "name": "ipython",
    "version": 3
   },
   "file_extension": ".py",
   "mimetype": "text/x-python",
   "name": "python",
   "nbconvert_exporter": "python",
   "pygments_lexer": "ipython3",
   "version": "3.8.5"
  }
 },
 "nbformat": 4,
 "nbformat_minor": 5
}
